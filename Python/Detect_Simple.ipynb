{
 "metadata": {
  "name": "",
  "signature": "sha256:81a4ac93b79ae2224cedf217aac93d8ccd9d47697c2f046a224366f411b6bd85"
 },
 "nbformat": 3,
 "nbformat_minor": 0,
 "worksheets": [
  {
   "cells": [
    {
     "cell_type": "code",
     "collapsed": false,
     "input": [
      "import numpy as np\n",
      "import matplotlib as mpl\n",
      "import matplotlib.pyplot as plt\n",
      "import cadd_io as cdio\n",
      "import cadd_io_struct_new3 as cdiosn\n",
      "import mdutilities_io as mduio\n",
      "import mymath as Mmath\n",
      "import os\n",
      "import itertools\n",
      "%matplotlib qt\n",
      "%load_ext autoreload\n",
      "%autoreload 2"
     ],
     "language": "python",
     "metadata": {},
     "outputs": [
      {
       "output_type": "stream",
       "stream": "stdout",
       "text": [
        "The autoreload extension is already loaded. To reload it, use:\n",
        "  %reload_ext autoreload\n"
       ]
      }
     ],
     "prompt_number": 95
    },
    {
     "cell_type": "code",
     "collapsed": false,
     "input": [
      "maindir = '../Tests/Detect_Test/'\n",
      "uidir = maindir + 'User Inputs/'\n",
      "fidir = maindir + 'Fortran Inputs/'\n",
      "dumpdir = maindir + 'Dump Files/'\n",
      "restartdir = maindir + 'Restart Files/'\n",
      "ldumpdir = maindir + 'LAMMPS Style Dump Files/'\n",
      "lcompdir = maindir + 'LAMMPS Comparison/'\n",
      "simname = 'detect_test_1'\n",
      "simtype = 'cadd'"
     ],
     "language": "python",
     "metadata": {},
     "outputs": [],
     "prompt_number": 96
    },
    {
     "cell_type": "code",
     "collapsed": false,
     "input": [
      "# nodes\n",
      "xy = np.zeros((24,3))\n",
      "xy[:,:2] = np.array([[0,0],[0,-1],[0.5,-2],[1,-1],[1.5,0],[0.5,0],[1,1],[0.5,2],[0,1],\n",
      "               [-1,-2.5],[2,-2.5],[2,2.5],[-1,2.5],[0,2.75],\n",
      "               [1,2.75],[-1,-3],[2,-3],[3,-3],[3,-2.5],[3,2.5],[3,3],[2,3],[-1,3],[1.5,2]])\n",
      "nodetype = np.array([1]*9+[2]*4+[-1]*2+[0]*8+[1]*1)\n",
      "bcflag = np.array([0]*15+[3]*8+[0]*1)\n",
      "material = np.array([1]*24)\n",
      "types = np.column_stack((material,nodetype,bcflag))"
     ],
     "language": "python",
     "metadata": {},
     "outputs": [],
     "prompt_number": 97
    },
    {
     "cell_type": "code",
     "collapsed": false,
     "input": [
      "# fe elements\n",
      "connect = np.array([[16,17,11,10],[17,18,19,11],[11,19,20,12],[12,20,21,22],[13,12,22,23]])"
     ],
     "language": "python",
     "metadata": {},
     "outputs": [],
     "prompt_number": 98
    },
    {
     "cell_type": "code",
     "collapsed": false,
     "input": [
      "# detection\n",
      "edges = np.array([[3,11],[11,24],[24,8]])"
     ],
     "language": "python",
     "metadata": {},
     "outputs": [],
     "prompt_number": 99
    },
    {
     "cell_type": "code",
     "collapsed": false,
     "input": [
      "filenodes = 'nodes.xy'\n",
      "def writearray(filename,array,userpath=uidir):\n",
      "    cdio.write_array(array,userpath+filename)\n",
      "writearray('nodes.xy',xy)\n",
      "writearray('nodes.types',types)\n",
      "writearray('feelementsmat1.connect',connect)\n",
      "writearray('detection.interfaceedges',edges)"
     ],
     "language": "python",
     "metadata": {},
     "outputs": [],
     "prompt_number": 100
    },
    {
     "cell_type": "code",
     "collapsed": false,
     "input": [
      "cadddata = cdiosn.Simulation(simtype,simname,uidir,fidir,dumpdir,readinput=True)\n",
      "cadddata.write_fortran_all()"
     ],
     "language": "python",
     "metadata": {},
     "outputs": [],
     "prompt_number": 119
    },
    {
     "cell_type": "code",
     "collapsed": false,
     "input": [
      "fig = cadddata.plot_dump_from_increment(increment=0);"
     ],
     "language": "python",
     "metadata": {},
     "outputs": [],
     "prompt_number": 12
    },
    {
     "cell_type": "heading",
     "level": 1,
     "metadata": {},
     "source": [
      "Equivalent Files (Restart)"
     ]
    },
    {
     "cell_type": "code",
     "collapsed": false,
     "input": [
      "cdio.are_all_files_equivalent(fidir,restartdir)"
     ],
     "language": "python",
     "metadata": {},
     "outputs": [
      {
       "metadata": {},
       "output_type": "pyout",
       "prompt_number": 13,
       "text": [
        "True"
       ]
      }
     ],
     "prompt_number": 13
    },
    {
     "cell_type": "code",
     "collapsed": false,
     "input": [
      "fiolddir = maindir + 'Fortran Inputs Old/'\n",
      "cdio.are_all_files_equivalent(fidir,fiolddir,suffix='')"
     ],
     "language": "python",
     "metadata": {},
     "outputs": [
      {
       "metadata": {},
       "output_type": "pyout",
       "prompt_number": 21,
       "text": [
        "True"
       ]
      }
     ],
     "prompt_number": 21
    }
   ],
   "metadata": {}
  }
 ]
}