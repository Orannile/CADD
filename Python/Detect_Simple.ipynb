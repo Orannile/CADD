{
 "cells": [
  {
   "cell_type": "code",
   "execution_count": 1,
   "metadata": {
    "collapsed": false
   },
   "outputs": [],
   "source": [
    "import numpy as np\n",
    "import matplotlib as mpl\n",
    "import matplotlib.pyplot as plt\n",
    "import cadd_io as cdio\n",
    "import cadd_main as cdmain\n",
    "import mdutilities_io as mduio\n",
    "import mymath as Mmath\n",
    "import os\n",
    "import itertools\n",
    "%matplotlib qt\n",
    "%load_ext autoreload\n",
    "%autoreload 2"
   ]
  },
  {
   "cell_type": "code",
   "execution_count": 2,
   "metadata": {
    "collapsed": false
   },
   "outputs": [],
   "source": [
    "maindir = '../Tests/Detect_Test/'\n",
    "uidir = maindir + 'User Inputs/'\n",
    "fidir = maindir + 'Fortran Inputs/'\n",
    "dumpdir = maindir + 'Dump Files/'\n",
    "restartdir = maindir + 'Restart Files/'\n",
    "ldumpdir = maindir + 'LAMMPS Style Dump Files/'\n",
    "lcompdir = maindir + 'LAMMPS Comparison/'\n",
    "simname = 'detect_test_1'\n",
    "simtype = 'cadd'"
   ]
  },
  {
   "cell_type": "code",
   "execution_count": 3,
   "metadata": {
    "collapsed": false
   },
   "outputs": [],
   "source": [
    "# nodes\n",
    "xy = np.zeros((24,3))\n",
    "xy[:,:2] = np.array([[0,0],[0,-1],[0.5,-2],[1,-1],[1.5,0],[0.5,0],[1,1],[0.5,2],[0,1],\n",
    "               [-1,-2.5],[2,-2.5],[2,2.5],[-1,2.5],[0,2.75],\n",
    "               [1,2.75],[-1,-3],[2,-3],[3,-3],[3,-2.5],[3,2.5],[3,3],[2,3],[-1,3],[1.5,2]])\n",
    "nodetype = np.array([1]*9+[2]*4+[-1]*2+[0]*8+[1]*1)\n",
    "bcflag = np.array([0]*15+[3]*8+[0]*1)\n",
    "material = np.array([1]*24)\n",
    "types = np.column_stack((material,nodetype,bcflag))"
   ]
  },
  {
   "cell_type": "code",
   "execution_count": 4,
   "metadata": {
    "collapsed": false
   },
   "outputs": [],
   "source": [
    "# fe elements\n",
    "connect = np.array([[16,17,11,10],[17,18,19,11],[11,19,20,12],[12,20,21,22],[13,12,22,23]])"
   ]
  },
  {
   "cell_type": "code",
   "execution_count": 5,
   "metadata": {
    "collapsed": false
   },
   "outputs": [],
   "source": [
    "# detection\n",
    "edges = np.array([[3,11],[11,24],[24,8]])"
   ]
  },
  {
   "cell_type": "code",
   "execution_count": 6,
   "metadata": {
    "collapsed": false
   },
   "outputs": [],
   "source": [
    "filenodes = 'nodes.xy'\n",
    "def writearray(filename,array,userpath=uidir):\n",
    "    cdio.write_array(array,userpath+filename)\n",
    "writearray('nodes.xy',xy)\n",
    "writearray('nodes.types',types)\n",
    "writearray('feelementsmat1.connect',connect)\n",
    "writearray('detection.interfaceedges',edges)"
   ]
  },
  {
   "cell_type": "code",
   "execution_count": 7,
   "metadata": {
    "collapsed": false
   },
   "outputs": [],
   "source": [
    "cadddata = cdmain.Simulation(simtype,simname,uidir,fidir,dumpdir,nfematerials=1)\n",
    "cadddata.write_fortran_all()"
   ]
  },
  {
   "cell_type": "code",
   "execution_count": 8,
   "metadata": {
    "collapsed": false
   },
   "outputs": [],
   "source": [
    "fig = cadddata.plot_dump_from_increment(increment=0);"
   ]
  },
  {
   "cell_type": "markdown",
   "metadata": {},
   "source": [
    "# Equivalent Files (Restart)"
   ]
  },
  {
   "cell_type": "code",
   "execution_count": 9,
   "metadata": {
    "collapsed": false
   },
   "outputs": [
    {
     "data": {
      "text/plain": [
       "True"
      ]
     },
     "execution_count": 9,
     "metadata": {},
     "output_type": "execute_result"
    }
   ],
   "source": [
    "cdio.are_all_files_equivalent(fidir,restartdir)"
   ]
  },
  {
   "cell_type": "code",
   "execution_count": null,
   "metadata": {
    "collapsed": false
   },
   "outputs": [],
   "source": []
  }
 ],
 "metadata": {
  "kernelspec": {
   "display_name": "Python 3",
   "language": "python",
   "name": "python3"
  },
  "language_info": {
   "codemirror_mode": {
    "name": "ipython",
    "version": 3
   },
   "file_extension": ".py",
   "mimetype": "text/x-python",
   "name": "python",
   "nbconvert_exporter": "python",
   "pygments_lexer": "ipython3",
   "version": "3.5.1"
  }
 },
 "nbformat": 4,
 "nbformat_minor": 0
}
