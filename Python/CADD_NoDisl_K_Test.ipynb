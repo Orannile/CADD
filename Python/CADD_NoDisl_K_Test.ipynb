{
 "metadata": {
  "name": "",
  "signature": "sha256:c272c053b2dd6644f53e05293e18fcc85b1b88213e07575b2de08cd6760a933a"
 },
 "nbformat": 3,
 "nbformat_minor": 0,
 "worksheets": [
  {
   "cells": [
    {
     "cell_type": "code",
     "collapsed": false,
     "input": [
      "import numpy as np\n",
      "import matplotlib as mpl\n",
      "import matplotlib.pyplot as plt\n",
      "import cadd_io as cdio\n",
      "import cadd_main as cdmain\n",
      "import mdutilities_io as mduio\n",
      "import mymath as Mmath\n",
      "import my_plot as myplot\n",
      "import cadddatadump as cddump\n",
      "import cadd_mesh2 as cdmesh\n",
      "import cadd\n",
      "import itertools\n",
      "import newpotential as newpot\n",
      "import tabularpotential as tabpot\n",
      "import crystallography_oo as croo\n",
      "import lineplot_oo3 as lpoo\n",
      "%matplotlib qt\n",
      "%load_ext autoreload\n",
      "%autoreload 2"
     ],
     "language": "python",
     "metadata": {},
     "outputs": [
      {
       "output_type": "stream",
       "stream": "stdout",
       "text": [
        "The autoreload extension is already loaded. To reload it, use:\n",
        "  %reload_ext autoreload\n"
       ]
      }
     ],
     "prompt_number": 268
    },
    {
     "cell_type": "heading",
     "level": 1,
     "metadata": {},
     "source": [
      "Preliminaries"
     ]
    },
    {
     "cell_type": "heading",
     "level": 2,
     "metadata": {},
     "source": [
      "Directories"
     ]
    },
    {
     "cell_type": "code",
     "collapsed": false,
     "input": [
      "maindir = '../Tests/CADD_NoDisl_K_Test/'\n",
      "uidir = maindir + 'User Inputs/'\n",
      "fidir = maindir + 'Fortran Inputs/'\n",
      "dumpdir = maindir + 'Dump Files/'\n",
      "simname = 'cadd_nodisl_k_test'\n",
      "simtype = 'cadd_nodisl'"
     ],
     "language": "python",
     "metadata": {},
     "outputs": [],
     "prompt_number": 269
    },
    {
     "cell_type": "code",
     "collapsed": false,
     "input": [
      "size = 'large'\n",
      "if size == 'small':\n",
      "    ferings = 5\n",
      "elif size == 'medium':\n",
      "    ferings = 14\n",
      "elif size == 'large':\n",
      "    ferings = 24\n",
      "simname += '_' + size"
     ],
     "language": "python",
     "metadata": {},
     "outputs": [],
     "prompt_number": 270
    },
    {
     "cell_type": "heading",
     "level": 2,
     "metadata": {},
     "source": [
      "Unit System"
     ]
    },
    {
     "cell_type": "code",
     "collapsed": false,
     "input": [
      "# LJ?"
     ],
     "language": "python",
     "metadata": {},
     "outputs": [],
     "prompt_number": 271
    },
    {
     "cell_type": "heading",
     "level": 1,
     "metadata": {},
     "source": [
      "Create Inputs"
     ]
    },
    {
     "cell_type": "code",
     "collapsed": false,
     "input": [
      "r0 = 1.0"
     ],
     "language": "python",
     "metadata": {},
     "outputs": [],
     "prompt_number": 272
    },
    {
     "cell_type": "heading",
     "level": 2,
     "metadata": {},
     "source": [
      "Nodes/Elements"
     ]
    },
    {
     "cell_type": "heading",
     "level": 3,
     "metadata": {},
     "source": [
      "Create Mesh"
     ]
    },
    {
     "cell_type": "code",
     "collapsed": false,
     "input": [
      "padx, pady = 5, 5\n",
      "lx, ly = 42, 45 # gives roughly 2500 atoms (including pad, interface)\n",
      "xy = cadd.simple_hex_lattice(lx+padx,ly+pady,r0=r0) # make box slightly larger to accommodate pad\n",
      "meshnodes = cdmesh.Nodes(xy)\n",
      "mesh = cdmesh.MeshTri(nodes=meshnodes)\n",
      "meshnodes = mesh.nodes\n",
      "boxold = meshnodes.gen_interface_and_pad(np.array([-lx/2,lx/2,-ly/2,ly/2]))\n",
      "for i in range(ferings):\n",
      "    nnodesvec = [line.get_nnodes() for line in boxold.lines]\n",
      "    if i < 10:\n",
      "        if i%3 == 0:\n",
      "            ring = cdmesh.RingCollapseMixed(boxold)\n",
      "        else:\n",
      "            ring = cdmesh.RingExtend(boxold)\n",
      "    else:\n",
      "        ring = cdmesh.RingCollapseMixed(boxold)\n",
      "    mesh.add_ring(ring)\n",
      "    boxold = ring.boxnew"
     ],
     "language": "python",
     "metadata": {},
     "outputs": [],
     "prompt_number": 273
    },
    {
     "cell_type": "code",
     "collapsed": false,
     "input": [
      "# k-field will be imposed on outer boundary\n",
      "outernodes = boxold.all_nodes\n",
      "meshnodes.set_node_bc(outernodes,3) # outer nodes are completely fixed"
     ],
     "language": "python",
     "metadata": {},
     "outputs": [],
     "prompt_number": 274
    },
    {
     "cell_type": "heading",
     "level": 3,
     "metadata": {},
     "source": [
      "Fix Mesh to Account for Crack Plane"
     ]
    },
    {
     "cell_type": "code",
     "collapsed": false,
     "input": [
      "# crack line and nodes\n",
      "idx = np.argmin(np.abs(meshnodes.xy[:,1]))\n",
      "ycrack = meshnodes.xy[idx,1]\n",
      "crackline = cdmesh.Line([-np.inf,ycrack],[0.0,ycrack])\n",
      "nodenums = meshnodes.search_for_nodes_along_line(crackline)"
     ],
     "language": "python",
     "metadata": {},
     "outputs": [],
     "prompt_number": 275
    },
    {
     "cell_type": "code",
     "collapsed": false,
     "input": [
      "# construct new nodes\n",
      "# the bit with ydisp is a bit kludgy, and might depend on the specific mesh...\n",
      "mapping = {}\n",
      "ydisp = r0*np.sqrt(3)/2 # atomic spacing in y-direction\n",
      "ydispvec = np.array([0,ydisp])\n",
      "ydispvecatom = np.array([r0/2,ydisp])\n",
      "defaultfetype = cdmesh.Nodes.defaultfetype\n",
      "for nodenum in nodenums:\n",
      "    posn = meshnodes.xy[nodenum,:]\n",
      "    nodetype = meshnodes.types[nodenum,:]\n",
      "    if nodetype[1] in [0,2]: # FE node or interface atom\n",
      "        if nodetype[1] == 2: # interface atom must be moved\n",
      "            posnnew = posn + ydispvecatom\n",
      "            nodenew = meshnodes.closest_node(posnnew)\n",
      "        else:\n",
      "            posnnew = posn + ydispvec\n",
      "            nodenew = meshnodes.add_node(posnnew,defaultfetype)\n",
      "        meshnodes.types[nodenew,:] = nodetype # retain type and bc of old node\n",
      "        mapping[nodenum] = nodenew  "
     ],
     "language": "python",
     "metadata": {},
     "outputs": [],
     "prompt_number": 276
    },
    {
     "cell_type": "code",
     "collapsed": false,
     "input": [
      "# this modifies the element while it's being looped over, which is dangerous\n",
      "for i, element in enumerate(mesh.elements):\n",
      "    common = np.intersect1d(element,nodenums,assume_unique=True)\n",
      "    if common.size: # nodenum belongs to element\n",
      "        pts = meshnodes.get_points(element)\n",
      "        yelementcenter = np.mean(pts,axis=0)[1]\n",
      "        if Mmath.same_sign(yelementcenter-ycrack,ydisp): # only create a new element if the element center is on one side of ycrack\n",
      "            for nodeold in common:\n",
      "                nodenew = mapping[nodeold]\n",
      "                np.place(element,element==nodeold,nodenew) # replace old num with new num"
     ],
     "language": "python",
     "metadata": {},
     "outputs": [],
     "prompt_number": 277
    },
    {
     "cell_type": "code",
     "collapsed": false,
     "input": [
      "# fudge fe node positions slightly to ensure pad atoms are within an element\n",
      "yfudge = ydisp/20\n",
      "ydispvec = np.array([0,np.copysign(yfudge,ydisp)])\n",
      "for nodeold, nodenew in mapping.items():\n",
      "    if meshnodes.types[nodeold,1] == 0: # not an interface node (which should remain fixed)\n",
      "        meshnodes.xy[nodeold,:] += ydispvec\n",
      "        meshnodes.xy[nodenew,:] -= ydispvec"
     ],
     "language": "python",
     "metadata": {},
     "outputs": [],
     "prompt_number": 278
    },
    {
     "cell_type": "heading",
     "level": 3,
     "metadata": {},
     "source": [
      "Plot"
     ]
    },
    {
     "cell_type": "code",
     "collapsed": false,
     "input": [
      "mesh.write_dump_all('test.6.dump')\n",
      "sim = cdmain.Simulation('cadd_nodisl','test',readinput=False)\n",
      "fig = sim.plot_dump_from_file('test.6.dump')"
     ],
     "language": "python",
     "metadata": {},
     "outputs": [],
     "prompt_number": 279
    },
    {
     "cell_type": "heading",
     "level": 3,
     "metadata": {},
     "source": [
      "Nodes"
     ]
    },
    {
     "cell_type": "code",
     "collapsed": false,
     "input": [
      "n = meshnodes.xy.shape[0]\n",
      "z = np.zeros((n,))\n",
      "posn = np.column_stack((meshnodes.xy,z)) # z-coordinate = 0\n",
      "nodes = cdmain.Nodes(posn=posn,types=meshnodes.types)"
     ],
     "language": "python",
     "metadata": {},
     "outputs": [],
     "prompt_number": 280
    },
    {
     "cell_type": "heading",
     "level": 3,
     "metadata": {},
     "source": [
      "FE Elements"
     ]
    },
    {
     "cell_type": "code",
     "collapsed": false,
     "input": [
      "feelements = cdmain.FEElement(elname='CPE3',mnum=1,connect=mesh.elements_dump) # elements_dump fixes off by 1 indexing issue"
     ],
     "language": "python",
     "metadata": {},
     "outputs": [],
     "prompt_number": 281
    },
    {
     "cell_type": "heading",
     "level": 2,
     "metadata": {},
     "source": [
      "Potential"
     ]
    },
    {
     "cell_type": "code",
     "collapsed": false,
     "input": [
      "brittlenew = newpot.gen_std_potential(ductilityindex=0,dimensions=2,r0=1)"
     ],
     "language": "python",
     "metadata": {},
     "outputs": [],
     "prompt_number": 282
    },
    {
     "cell_type": "code",
     "collapsed": false,
     "input": [
      "rminsmall, rmin, rmax = 0.01, 0.1, 2.0\n",
      "npoints = 3000\n",
      "rvec = np.linspace(rmin,rmax,npoints)\n",
      "rvec = np.insert(rvec,0,rminsmall)\n",
      "pottable = brittlenew.get_energy_force_table(rvec)"
     ],
     "language": "python",
     "metadata": {},
     "outputs": [],
     "prompt_number": 283
    },
    {
     "cell_type": "code",
     "collapsed": false,
     "input": [
      "brittlenew.write_file_lammps('brittlenewnorm',np.linspace(0.1,3.0,3000),extend=True)"
     ],
     "language": "python",
     "metadata": {},
     "outputs": [],
     "prompt_number": 284
    },
    {
     "cell_type": "code",
     "collapsed": false,
     "input": [
      "# Energy plot\n",
      "# lpoo.my_quick_plot([pottable[:,[0,1]]],axisbounds=[0.5,2,-1,3])"
     ],
     "language": "python",
     "metadata": {},
     "outputs": [],
     "prompt_number": 285
    },
    {
     "cell_type": "code",
     "collapsed": false,
     "input": [
      "rnnn = np.sqrt(3)*r0 # 2nd nearest neighbor\n",
      "potential = cdmain.Potential(pname='brittlenew',forcecutoff=rnnn,pottable=pottable)"
     ],
     "language": "python",
     "metadata": {},
     "outputs": [],
     "prompt_number": 286
    },
    {
     "cell_type": "heading",
     "level": 2,
     "metadata": {},
     "source": [
      "Material"
     ]
    },
    {
     "cell_type": "heading",
     "level": 3,
     "metadata": {},
     "source": [
      "Elastic constants"
     ]
    },
    {
     "cell_type": "code",
     "collapsed": false,
     "input": [
      "elasticdict = brittlenew.elasticdict('hex')\n",
      "mymat = croo.Material('hex',elasticdict)\n",
      "elconst = mymat.voigt_plane_strain_stiffness"
     ],
     "language": "python",
     "metadata": {},
     "outputs": [],
     "prompt_number": 287
    },
    {
     "cell_type": "code",
     "collapsed": false,
     "input": [
      "elconst"
     ],
     "language": "python",
     "metadata": {},
     "outputs": [
      {
       "metadata": {},
       "output_type": "pyout",
       "prompt_number": 288,
       "text": [
        "array([[ 40.09879362,  13.36626454,   0.        ],\n",
        "       [ 13.36626454,  40.09879362,   0.        ],\n",
        "       [  0.        ,   0.        ,  13.36626454]])"
       ]
      }
     ],
     "prompt_number": 288
    },
    {
     "cell_type": "code",
     "collapsed": false,
     "input": [
      "material = cdmain.Material(burgers=r0,disldrag=0.0,dislvmax=0.0,elconst=elconst,lannih=0.0,lattice='hex',mass=1.0,\n",
      "                           mname='material1',rho=brittlenew.rho)"
     ],
     "language": "python",
     "metadata": {},
     "outputs": [],
     "prompt_number": 289
    },
    {
     "cell_type": "heading",
     "level": 2,
     "metadata": {},
     "source": [
      "Misc"
     ]
    },
    {
     "cell_type": "code",
     "collapsed": false,
     "input": [
      "misc = cdmain.Misc(increments=100,timestep=0.02,iscrackproblem=True,potstyle='table')"
     ],
     "language": "python",
     "metadata": {},
     "outputs": [],
     "prompt_number": 290
    },
    {
     "cell_type": "heading",
     "level": 2,
     "metadata": {},
     "source": [
      "Interactions"
     ]
    },
    {
     "cell_type": "code",
     "collapsed": false,
     "input": [
      "interactions = cdmain.Interactions(table=np.array([[1,1,1]]))"
     ],
     "language": "python",
     "metadata": {},
     "outputs": [],
     "prompt_number": 291
    },
    {
     "cell_type": "heading",
     "level": 2,
     "metadata": {},
     "source": [
      "Neighbors"
     ]
    },
    {
     "cell_type": "code",
     "collapsed": false,
     "input": [
      "neighbors = cdmain.Neighbors(checkdisp=True,every=0,delay=5,images=0,Lz=1.0,skin=0.3)"
     ],
     "language": "python",
     "metadata": {},
     "outputs": [],
     "prompt_number": 292
    },
    {
     "cell_type": "heading",
     "level": 2,
     "metadata": {},
     "source": [
      "Damping"
     ]
    },
    {
     "cell_type": "code",
     "collapsed": false,
     "input": [
      "gamma = 0.1 # may need to fiddle with this\n",
      "damping = cdmain.Damping(flag=True,gname='all',gamma=gamma)"
     ],
     "language": "python",
     "metadata": {},
     "outputs": [],
     "prompt_number": 293
    },
    {
     "cell_type": "heading",
     "level": 2,
     "metadata": {},
     "source": [
      "Everything"
     ]
    },
    {
     "cell_type": "code",
     "collapsed": false,
     "input": [
      "caddsim = cdmain.Simulation(simtype,simname,uidir,fidir,dumpdir,readinput=False)\n",
      "caddsim.data = cdmain.CADDData(simtype,nfematerials=1,nodes=nodes,materials=[material],misc=misc,groups=None,\n",
      "                               potentials=[potential],interactions=interactions,neighbors=neighbors,damping=damping,\n",
      "                               feelements=[feelements])\n"
     ],
     "language": "python",
     "metadata": {},
     "outputs": [],
     "prompt_number": 294
    },
    {
     "cell_type": "code",
     "collapsed": false,
     "input": [
      "caddsim.data.check_data()"
     ],
     "language": "python",
     "metadata": {},
     "outputs": [],
     "prompt_number": 295
    },
    {
     "cell_type": "heading",
     "level": 2,
     "metadata": {},
     "source": [
      "Write"
     ]
    },
    {
     "cell_type": "code",
     "collapsed": false,
     "input": [
      "caddsim.write_fortran_all()"
     ],
     "language": "python",
     "metadata": {},
     "outputs": [],
     "prompt_number": 296
    },
    {
     "cell_type": "heading",
     "level": 1,
     "metadata": {},
     "source": [
      "Misc"
     ]
    },
    {
     "cell_type": "heading",
     "level": 1,
     "metadata": {},
     "source": [
      "Dump Files"
     ]
    },
    {
     "cell_type": "code",
     "collapsed": false,
     "input": [
      "fig = caddsim.plot_dump_from_increment(7,tight=False,fignum=1,axisbounds=[-5,5,-5,5]);"
     ],
     "language": "python",
     "metadata": {},
     "outputs": [],
     "prompt_number": 307
    },
    {
     "cell_type": "code",
     "collapsed": false,
     "input": [
      "fig = caddsim.plot_dump_from_increment(9,tight=False,fignum=2,axisbounds=[-30,30,-30,30]);"
     ],
     "language": "python",
     "metadata": {},
     "outputs": [],
     "prompt_number": 310
    },
    {
     "cell_type": "code",
     "collapsed": false,
     "input": [
      "brittlenew.rho"
     ],
     "language": "python",
     "metadata": {},
     "outputs": []
    },
    {
     "cell_type": "code",
     "collapsed": false,
     "input": [],
     "language": "python",
     "metadata": {},
     "outputs": []
    }
   ],
   "metadata": {}
  }
 ]
}