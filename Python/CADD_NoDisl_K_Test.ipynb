{
 "metadata": {
  "name": "",
  "signature": "sha256:bb5a219fb01785be0e92529ba5df9c46be9bb41fa49456f91cf54d74c98fbbd4"
 },
 "nbformat": 3,
 "nbformat_minor": 0,
 "worksheets": [
  {
   "cells": [
    {
     "cell_type": "code",
     "collapsed": false,
     "input": [
      "import numpy as np\n",
      "import matplotlib as mpl\n",
      "import matplotlib.pyplot as plt\n",
      "import cadd_io as cdio\n",
      "import cadd_main as cdmain\n",
      "import mdutilities_io as mduio\n",
      "import mymath as Mmath\n",
      "import my_plot as myplot\n",
      "import cadddatadump as cddump\n",
      "import cadd_mesh2 as cdmesh\n",
      "import cadd\n",
      "import itertools\n",
      "import newpotential as newpot\n",
      "import tabularpotential as tabpot\n",
      "import crystallography_oo as croo\n",
      "import lineplot_oo3 as lpoo\n",
      "%matplotlib qt\n",
      "%load_ext autoreload\n",
      "%autoreload 2"
     ],
     "language": "python",
     "metadata": {},
     "outputs": [
      {
       "output_type": "stream",
       "stream": "stdout",
       "text": [
        "The autoreload extension is already loaded. To reload it, use:\n",
        "  %reload_ext autoreload\n"
       ]
      }
     ],
     "prompt_number": 46
    },
    {
     "cell_type": "heading",
     "level": 1,
     "metadata": {},
     "source": [
      "Preliminaries"
     ]
    },
    {
     "cell_type": "heading",
     "level": 2,
     "metadata": {},
     "source": [
      "Directories"
     ]
    },
    {
     "cell_type": "code",
     "collapsed": false,
     "input": [
      "maindir = '../Tests/CADD_NoDisl_K_Test/'\n",
      "uidir = maindir + 'User Inputs/'\n",
      "fidir = maindir + 'Fortran Inputs/'\n",
      "dumpdir = maindir + 'Dump Files/'\n",
      "simname = 'cadd_nodisl_k_test'\n",
      "simtype = 'cadd_nodisl'"
     ],
     "language": "python",
     "metadata": {},
     "outputs": [],
     "prompt_number": 47
    },
    {
     "cell_type": "heading",
     "level": 2,
     "metadata": {},
     "source": [
      "Unit System"
     ]
    },
    {
     "cell_type": "code",
     "collapsed": false,
     "input": [
      "# LJ?"
     ],
     "language": "python",
     "metadata": {},
     "outputs": [],
     "prompt_number": 48
    },
    {
     "cell_type": "heading",
     "level": 1,
     "metadata": {},
     "source": [
      "Create Inputs"
     ]
    },
    {
     "cell_type": "code",
     "collapsed": false,
     "input": [
      "r0 = 1.0"
     ],
     "language": "python",
     "metadata": {},
     "outputs": [],
     "prompt_number": 49
    },
    {
     "cell_type": "heading",
     "level": 2,
     "metadata": {},
     "source": [
      "Nodes/Elements"
     ]
    },
    {
     "cell_type": "heading",
     "level": 3,
     "metadata": {},
     "source": [
      "Create Mesh"
     ]
    },
    {
     "cell_type": "code",
     "collapsed": false,
     "input": [
      "padx, pady = 5, 5\n",
      "lx, ly = 42, 45\n",
      "xy = cadd.simple_hex_lattice(lx+padx,ly+pady,r0=r0) # make box slightly larger to accommodate pad\n",
      "meshnodes = cdmesh.Nodes(xy)\n",
      "mesh = cdmesh.MeshTri(nodes=meshnodes)\n",
      "meshnodes = mesh.nodes\n",
      "boxold = meshnodes.gen_interface_and_pad(np.array([-lx/2,lx/2,-ly/2,ly/2]))\n",
      "for i in range(24):\n",
      "    nnodesvec = [line.get_nnodes() for line in boxold.lines]\n",
      "    if i < 10:\n",
      "        if i%3 == 0:\n",
      "            ring = cdmesh.RingCollapseMixed(boxold)\n",
      "        else:\n",
      "            ring = cdmesh.RingExtend(boxold)\n",
      "    else:\n",
      "        ring = cdmesh.RingCollapseMixed(boxold)\n",
      "    mesh.add_ring(ring)\n",
      "    boxold = ring.boxnew"
     ],
     "language": "python",
     "metadata": {},
     "outputs": [],
     "prompt_number": 50
    },
    {
     "cell_type": "heading",
     "level": 3,
     "metadata": {},
     "source": [
      "Fix Mesh to Account for Crack Plane"
     ]
    },
    {
     "cell_type": "code",
     "collapsed": false,
     "input": [
      "# crack line and nodes\n",
      "idx = np.argmin(np.abs(meshnodes.xy[:,1]))\n",
      "ycrack = meshnodes.xy[idx,1]\n",
      "crackline = cdmesh.Line([-np.inf,ycrack],[0.0,ycrack])\n",
      "nodenums = meshnodes.search_for_nodes_along_line(crackline)"
     ],
     "language": "python",
     "metadata": {},
     "outputs": [],
     "prompt_number": 51
    },
    {
     "cell_type": "code",
     "collapsed": false,
     "input": [
      "# construct new nodes\n",
      "# the bit with ydisp is a bit kludgy, and might depend on the specific mesh...\n",
      "mapping = {}\n",
      "ydisp = r0*np.sqrt(3)/2 # atomic spacing in y-direction\n",
      "ydispvec = np.array([0,ydisp])\n",
      "ydispvecatom = np.array([r0/2,ydisp])\n",
      "defaultfetype = cdmesh.Nodes.defaultfetype\n",
      "for nodenum in nodenums:\n",
      "    posn = meshnodes.xy[nodenum,:]\n",
      "    nodetype = meshnodes.types[nodenum,1]\n",
      "    if nodetype != 1: # not an atom\n",
      "        if nodetype != defaultfetype[1]: # not an FE node, so move node to closest atom\n",
      "            posnnew = posn + ydispvecatom\n",
      "            nodenew = meshnodes.closest_node(posnnew)\n",
      "            meshnodes.types[nodenew,1] = nodetype # retain type of old atom\n",
      "        else:\n",
      "            posnnew = posn + ydispvec\n",
      "            nodenew = meshnodes.add_node(posnnew,defaultfetype)\n",
      "        mapping[nodenum] = nodenew  "
     ],
     "language": "python",
     "metadata": {},
     "outputs": [],
     "prompt_number": 52
    },
    {
     "cell_type": "code",
     "collapsed": false,
     "input": [
      "# this modifies the element while it's being looped over, which is dangerous\n",
      "for i, element in enumerate(mesh.elements):\n",
      "    common = np.intersect1d(element,nodenums,assume_unique=True)\n",
      "    if common.size: # nodenum belongs to element\n",
      "        pts = meshnodes.get_points(element)\n",
      "        yelementcenter = np.mean(pts,axis=0)[1]\n",
      "        if Mmath.same_sign(yelementcenter-ycrack,ydisp-ycrack): # only create a new element if the element center is on one side of ycrack\n",
      "            for nodeold in common:\n",
      "                nodenew = mapping[nodeold]\n",
      "                np.place(element,element==nodeold,nodenew) # replace old num with new num"
     ],
     "language": "python",
     "metadata": {},
     "outputs": [],
     "prompt_number": 53
    },
    {
     "cell_type": "heading",
     "level": 3,
     "metadata": {},
     "source": [
      "Plot"
     ]
    },
    {
     "cell_type": "code",
     "collapsed": false,
     "input": [
      "mesh.write_dump_all('test.5.dump')\n",
      "sim = cdmain.Simulation('cadd_nodisl','test',readinput=False)\n",
      "fig = sim.plot_dump_from_file('test.5.dump',axisbounds=[-30,30,-30,30])"
     ],
     "language": "python",
     "metadata": {},
     "outputs": [],
     "prompt_number": 54
    },
    {
     "cell_type": "heading",
     "level": 3,
     "metadata": {},
     "source": [
      "Group for Outer Boundary"
     ]
    },
    {
     "cell_type": "code",
     "collapsed": false,
     "input": [
      "# k-field will be imposed on outer boundary\n",
      "outernodes = boxold.all_nodes\n",
      "meshnodes.set_node_bc(outernodes,3) # outer nodes are completely fixed\n",
      "group = cdmain.Group(gname='outernodes',members=np.array(outernodes))"
     ],
     "language": "python",
     "metadata": {},
     "outputs": [],
     "prompt_number": 55
    },
    {
     "cell_type": "heading",
     "level": 3,
     "metadata": {},
     "source": [
      "Nodes"
     ]
    },
    {
     "cell_type": "code",
     "collapsed": false,
     "input": [
      "n = meshnodes.xy.shape[0]\n",
      "z = np.zeros((n,))\n",
      "posn = np.column_stack((meshnodes.xy,z)) # z-coordinate = 0\n",
      "nodes = cdmain.Nodes(posn=posn,types=meshnodes.types)"
     ],
     "language": "python",
     "metadata": {},
     "outputs": [],
     "prompt_number": 56
    },
    {
     "cell_type": "heading",
     "level": 3,
     "metadata": {},
     "source": [
      "FE Elements"
     ]
    },
    {
     "cell_type": "code",
     "collapsed": false,
     "input": [
      "feelements = cdmain.FEElement(elname='CPE3',mnum=1,connect=mesh.elements)"
     ],
     "language": "python",
     "metadata": {},
     "outputs": [],
     "prompt_number": 57
    },
    {
     "cell_type": "heading",
     "level": 2,
     "metadata": {},
     "source": [
      "Potential"
     ]
    },
    {
     "cell_type": "code",
     "collapsed": false,
     "input": [
      "brittlenew = newpot.gen_std_potential(ductilityindex=0,dimensions=2,r0=1)"
     ],
     "language": "python",
     "metadata": {},
     "outputs": [],
     "prompt_number": 58
    },
    {
     "cell_type": "code",
     "collapsed": false,
     "input": [
      "rminsmall, rmin, rmax = 0.01, 0.1, 2.0\n",
      "npoints = 3000\n",
      "rvec = np.linspace(rmin,rmax,npoints)\n",
      "rvec = np.insert(rvec,0,rminsmall)\n",
      "pottable = brittlenew.get_energy_force_table(rvec)"
     ],
     "language": "python",
     "metadata": {},
     "outputs": [],
     "prompt_number": 59
    },
    {
     "cell_type": "code",
     "collapsed": false,
     "input": [
      "# Energy plot\n",
      "# lpoo.my_quick_plot([pottable[:,[0,1]]],axisbounds=[0.5,2,-1,3])"
     ],
     "language": "python",
     "metadata": {},
     "outputs": [],
     "prompt_number": 60
    },
    {
     "cell_type": "code",
     "collapsed": false,
     "input": [
      "rnnn = np.sqrt(3)*r0 # 2nd nearest neighbor\n",
      "potential = cdmain.Potential(pname='brittlenew',forcecutoff=rnnn,pottable=pottable)"
     ],
     "language": "python",
     "metadata": {},
     "outputs": [],
     "prompt_number": 61
    },
    {
     "cell_type": "heading",
     "level": 2,
     "metadata": {},
     "source": [
      "Material"
     ]
    },
    {
     "cell_type": "heading",
     "level": 3,
     "metadata": {},
     "source": [
      "Elastic constants"
     ]
    },
    {
     "cell_type": "code",
     "collapsed": false,
     "input": [
      "elasticdict = brittlenew.elasticdict('hex')\n",
      "mymat = croo.Material('hex',elasticdict)\n",
      "elconst = mymat.voigt_plane_strain_stiffness"
     ],
     "language": "python",
     "metadata": {},
     "outputs": [],
     "prompt_number": 62
    },
    {
     "cell_type": "code",
     "collapsed": false,
     "input": [
      "material = cdmain.Material(burgers=r0,disldrag=0.0,dislvmax=0.0,elconst=elconst,lannih=0.0,lattice='hex',mass=1.0,\n",
      "                           mname='material1',rho=brittlenew.rho)"
     ],
     "language": "python",
     "metadata": {},
     "outputs": [],
     "prompt_number": 63
    },
    {
     "cell_type": "heading",
     "level": 2,
     "metadata": {},
     "source": [
      "Misc"
     ]
    },
    {
     "cell_type": "code",
     "collapsed": false,
     "input": [
      "misc = cdmain.Misc(increments=100,timestep=0.02,iscrackproblem=True,potstyle='table')"
     ],
     "language": "python",
     "metadata": {},
     "outputs": [],
     "prompt_number": 64
    },
    {
     "cell_type": "heading",
     "level": 2,
     "metadata": {},
     "source": [
      "Interactions"
     ]
    },
    {
     "cell_type": "code",
     "collapsed": false,
     "input": [
      "interactions = cdmain.Interactions(table=np.array([[1,1,1]]))"
     ],
     "language": "python",
     "metadata": {},
     "outputs": [],
     "prompt_number": 65
    },
    {
     "cell_type": "heading",
     "level": 2,
     "metadata": {},
     "source": [
      "Neighbors"
     ]
    },
    {
     "cell_type": "code",
     "collapsed": false,
     "input": [
      "neighbors = cdmain.Neighbors(checkdisp=1,every=0,delay=5,images=0,Lz=1.0,skin=0.3)"
     ],
     "language": "python",
     "metadata": {},
     "outputs": [],
     "prompt_number": 66
    },
    {
     "cell_type": "heading",
     "level": 2,
     "metadata": {},
     "source": [
      "Damping"
     ]
    },
    {
     "cell_type": "code",
     "collapsed": false,
     "input": [
      "gamma = 0.05 # may need to fiddle with this\n",
      "damping = cdmain.Damping(flag=1,gname='all',gamma=gamma)"
     ],
     "language": "python",
     "metadata": {},
     "outputs": [],
     "prompt_number": 67
    },
    {
     "cell_type": "heading",
     "level": 2,
     "metadata": {},
     "source": [
      "Everything"
     ]
    },
    {
     "cell_type": "code",
     "collapsed": false,
     "input": [
      "caddsim = cdmain.Simulation(simtype,simname,uidir,fidir,dumpdir,readinput=False)\n",
      "caddsim.data = cdmain.CADDData(simtype,nfematerials=1,nodes=nodes,materials=[material],misc=misc,groups=[group],\n",
      "                               potentials=[potential],interactions=interactions,neighbors=neighbors,damping=damping,\n",
      "                               feelements=[feelements])\n",
      "caddsim.data.check_data()"
     ],
     "language": "python",
     "metadata": {},
     "outputs": [],
     "prompt_number": 68
    },
    {
     "cell_type": "heading",
     "level": 2,
     "metadata": {},
     "source": [
      "Write"
     ]
    },
    {
     "cell_type": "code",
     "collapsed": false,
     "input": [
      "caddsim.write_fortran_all()"
     ],
     "language": "python",
     "metadata": {},
     "outputs": [],
     "prompt_number": 69
    },
    {
     "cell_type": "code",
     "collapsed": false,
     "input": [],
     "language": "python",
     "metadata": {},
     "outputs": [],
     "prompt_number": 69
    }
   ],
   "metadata": {}
  }
 ]
}