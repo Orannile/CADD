{
 "cells": [
  {
   "cell_type": "code",
   "execution_count": 210,
   "metadata": {
    "collapsed": false
   },
   "outputs": [
    {
     "name": "stdout",
     "output_type": "stream",
     "text": [
      "The autoreload extension is already loaded. To reload it, use:\n",
      "  %reload_ext autoreload\n"
     ]
    }
   ],
   "source": [
    "import numpy as np\n",
    "import matplotlib as mpl\n",
    "import matplotlib.pyplot as plt\n",
    "import cadd_io as cdio\n",
    "import cadd_main as cdmain\n",
    "import mdutilities_io as mduio\n",
    "import mymath as Mmath\n",
    "import my_plot as myplot\n",
    "import cadddatadump as cddump\n",
    "import cadd_mesh2 as cdmesh\n",
    "import cadd_crack_mesh as cdcmesh\n",
    "import cadd\n",
    "import itertools\n",
    "import newpotential as newpot\n",
    "import tabularpotential as tabpot\n",
    "import crystallography_oo as croo\n",
    "import lineplot_oo3 as lpoo\n",
    "%matplotlib qt\n",
    "%load_ext autoreload\n",
    "%autoreload 2"
   ]
  },
  {
   "cell_type": "markdown",
   "metadata": {},
   "source": [
    "# Preliminaries"
   ]
  },
  {
   "cell_type": "markdown",
   "metadata": {},
   "source": [
    "## Directories"
   ]
  },
  {
   "cell_type": "code",
   "execution_count": 211,
   "metadata": {
    "collapsed": false
   },
   "outputs": [],
   "source": [
    "maindir = '../Tests/CADD_NoDisl_K_Test/'\n",
    "uidir = maindir + 'User Inputs/'\n",
    "fidir = maindir + 'Fortran Inputs/'\n",
    "dumpdir = maindir + 'Dump Files/'\n",
    "simname = 'cadd_nodisl_k_test'\n",
    "simtype = 'cadd_nodisl'"
   ]
  },
  {
   "cell_type": "code",
   "execution_count": 212,
   "metadata": {
    "collapsed": false
   },
   "outputs": [],
   "source": [
    "size = 'large'\n",
    "if size == 'small':\n",
    "    ferings = 5\n",
    "elif size == 'medium':\n",
    "    ferings = 14\n",
    "elif size == 'large':\n",
    "    ferings = 24\n",
    "simname += '_' + size"
   ]
  },
  {
   "cell_type": "markdown",
   "metadata": {},
   "source": [
    "## Unit System"
   ]
  },
  {
   "cell_type": "code",
   "execution_count": 213,
   "metadata": {
    "collapsed": false
   },
   "outputs": [],
   "source": [
    "# LJ?"
   ]
  },
  {
   "cell_type": "markdown",
   "metadata": {},
   "source": [
    "# Create Inputs"
   ]
  },
  {
   "cell_type": "code",
   "execution_count": 214,
   "metadata": {
    "collapsed": false
   },
   "outputs": [],
   "source": [
    "r0 = 1.0"
   ]
  },
  {
   "cell_type": "markdown",
   "metadata": {},
   "source": [
    "## Nodes/Elements"
   ]
  },
  {
   "cell_type": "markdown",
   "metadata": {},
   "source": [
    "### Create Mesh"
   ]
  },
  {
   "cell_type": "code",
   "execution_count": 215,
   "metadata": {
    "collapsed": false
   },
   "outputs": [],
   "source": [
    "padx, pady = 5, 5\n",
    "lx, ly = 42, 45 # gives roughly 2500 atoms (including pad, interface)\n",
    "\n",
    "# initial mesh\n",
    "crackmesh = cdcmesh.CrackMesh(ferings,lx,ly,padx,pady,r0)\n",
    "\n",
    "# fix outer nodes for K-test\n",
    "outernodes = crackmesh.outerbox.all_nodes\n",
    "crackmesh.mesh.nodes.set_node_bc(outernodes,3)\n",
    "\n",
    "# modify mesh to separate crack faces\n",
    "crackmesh.modify_mesh()\n",
    "\n",
    "mesh = crackmesh.mesh\n",
    "meshnodes = mesh.nodes"
   ]
  },
  {
   "cell_type": "markdown",
   "metadata": {},
   "source": [
    "### Plot"
   ]
  },
  {
   "cell_type": "code",
   "execution_count": 216,
   "metadata": {
    "collapsed": false
   },
   "outputs": [],
   "source": [
    "crackmesh.mesh.write_dump_all('test.6.dump')\n",
    "sim = cdmain.Simulation('cadd_nodisl','test',readinput=False)\n",
    "fig = sim.plot_dump_from_file('test.6.dump')"
   ]
  },
  {
   "cell_type": "markdown",
   "metadata": {},
   "source": [
    "### Nodes"
   ]
  },
  {
   "cell_type": "code",
   "execution_count": 217,
   "metadata": {
    "collapsed": false
   },
   "outputs": [],
   "source": [
    "# set z-coordinates to zero\n",
    "n = meshnodes.xy.shape[0]\n",
    "z = np.zeros((n,))\n",
    "posn = np.column_stack((meshnodes.xy,z)) # z-coordinate = 0\n",
    "nodes = cdmain.Nodes(posn=posn,types=meshnodes.types)"
   ]
  },
  {
   "cell_type": "markdown",
   "metadata": {},
   "source": [
    "### FE Elements"
   ]
  },
  {
   "cell_type": "code",
   "execution_count": 218,
   "metadata": {
    "collapsed": false
   },
   "outputs": [],
   "source": [
    "feelements = cdmain.FEElement(elname='CPE3',mnum=1,\n",
    "                              connect=mesh.elements_dump) # elements_dump fixes off by 1 indexing issue"
   ]
  },
  {
   "cell_type": "markdown",
   "metadata": {},
   "source": [
    "## Potential"
   ]
  },
  {
   "cell_type": "code",
   "execution_count": 219,
   "metadata": {
    "collapsed": false
   },
   "outputs": [],
   "source": [
    "brittlenew = newpot.gen_std_potential(ductilityindex=0,dimensions=2,r0=1)"
   ]
  },
  {
   "cell_type": "code",
   "execution_count": 220,
   "metadata": {
    "collapsed": false
   },
   "outputs": [],
   "source": [
    "rminsmall, rmin, rmax = 0.01, 0.1, 2.0\n",
    "npoints = 3000\n",
    "rvec = np.linspace(rmin,rmax,npoints)\n",
    "rvec = np.insert(rvec,0,rminsmall)\n",
    "pottable = brittlenew.get_energy_force_table(rvec)"
   ]
  },
  {
   "cell_type": "code",
   "execution_count": 221,
   "metadata": {
    "collapsed": false
   },
   "outputs": [],
   "source": [
    "brittlenew.write_file_lammps('brittlenewnorm',np.linspace(0.1,3.0,3000),extend=True)"
   ]
  },
  {
   "cell_type": "code",
   "execution_count": 222,
   "metadata": {
    "collapsed": false
   },
   "outputs": [],
   "source": [
    "# Energy plot\n",
    "# lpoo.my_quick_plot([pottable[:,[0,1]]],axisbounds=[0.5,2,-1,3])"
   ]
  },
  {
   "cell_type": "code",
   "execution_count": 223,
   "metadata": {
    "collapsed": false
   },
   "outputs": [],
   "source": [
    "rnnn = np.sqrt(3)*r0 # 2nd nearest neighbor\n",
    "potential = cdmain.Potential(pname='brittlenew',forcecutoff=rnnn,pottable=pottable)"
   ]
  },
  {
   "cell_type": "markdown",
   "metadata": {},
   "source": [
    "## Material"
   ]
  },
  {
   "cell_type": "markdown",
   "metadata": {},
   "source": [
    "### Elastic constants"
   ]
  },
  {
   "cell_type": "code",
   "execution_count": 224,
   "metadata": {
    "collapsed": false
   },
   "outputs": [],
   "source": [
    "elasticdict = brittlenew.elasticdict('hex')\n",
    "brittlemat = croo.Hex.from_potential(brittlenew)\n",
    "elconst = brittlemat.voigt_plane_strain_stiffness"
   ]
  },
  {
   "cell_type": "code",
   "execution_count": 225,
   "metadata": {
    "collapsed": false
   },
   "outputs": [
    {
     "data": {
      "text/plain": [
       "array([[ 40.09879362,  13.36626454,   0.        ],\n",
       "       [ 13.36626454,  40.09879362,   0.        ],\n",
       "       [  0.        ,   0.        ,  13.36626454]])"
      ]
     },
     "execution_count": 225,
     "metadata": {},
     "output_type": "execute_result"
    }
   ],
   "source": [
    "elconst"
   ]
  },
  {
   "cell_type": "code",
   "execution_count": 226,
   "metadata": {
    "collapsed": false
   },
   "outputs": [],
   "source": [
    "material = cdmain.Material(burgers=r0,disldrag=0.0,dislvmax=0.0,elconst=elconst,lannih=0.0,lattice='hex',mass=1.0,\n",
    "                           mname='material1',rho=brittlenew.rho)"
   ]
  },
  {
   "cell_type": "markdown",
   "metadata": {},
   "source": [
    "## Misc"
   ]
  },
  {
   "cell_type": "code",
   "execution_count": 227,
   "metadata": {
    "collapsed": false
   },
   "outputs": [],
   "source": [
    "misc = cdmain.Misc(increments=100,timestep=0.02,iscrackproblem=True,potstyle='table')"
   ]
  },
  {
   "cell_type": "markdown",
   "metadata": {},
   "source": [
    "## Interactions"
   ]
  },
  {
   "cell_type": "code",
   "execution_count": 228,
   "metadata": {
    "collapsed": false
   },
   "outputs": [],
   "source": [
    "interactions = cdmain.Interactions(table=np.array([[1,1,1]]))"
   ]
  },
  {
   "cell_type": "markdown",
   "metadata": {},
   "source": [
    "## Neighbors"
   ]
  },
  {
   "cell_type": "code",
   "execution_count": 229,
   "metadata": {
    "collapsed": false
   },
   "outputs": [],
   "source": [
    "neighbors = cdmain.Neighbors(checkdisp=True,every=0,delay=5,images=0,Lz=1.0,skin=0.3)"
   ]
  },
  {
   "cell_type": "markdown",
   "metadata": {},
   "source": [
    "## Damping"
   ]
  },
  {
   "cell_type": "code",
   "execution_count": 230,
   "metadata": {
    "collapsed": false
   },
   "outputs": [],
   "source": [
    "gamma = 0.1 # may need to fiddle with this\n",
    "damping = cdmain.Damping(flag=True,gname='all',gamma=gamma)"
   ]
  },
  {
   "cell_type": "markdown",
   "metadata": {},
   "source": [
    "## Everything"
   ]
  },
  {
   "cell_type": "code",
   "execution_count": 231,
   "metadata": {
    "collapsed": false
   },
   "outputs": [],
   "source": [
    "caddsim = cdmain.Simulation(simtype,simname,uidir,fidir,dumpdir,readinput=False)\n",
    "caddsim.data = cdmain.CADDData(simtype,nfematerials=1,nodes=nodes,materials=[material],misc=misc,groups=None,\n",
    "                               potentials=[potential],interactions=interactions,neighbors=neighbors,damping=damping,\n",
    "                               feelements=[feelements])"
   ]
  },
  {
   "cell_type": "markdown",
   "metadata": {},
   "source": [
    "## Write"
   ]
  },
  {
   "cell_type": "code",
   "execution_count": 232,
   "metadata": {
    "collapsed": false
   },
   "outputs": [],
   "source": [
    "caddsim.write_fortran_all()"
   ]
  },
  {
   "cell_type": "markdown",
   "metadata": {},
   "source": [
    "# Misc"
   ]
  },
  {
   "cell_type": "code",
   "execution_count": null,
   "metadata": {
    "collapsed": true
   },
   "outputs": [],
   "source": []
  },
  {
   "cell_type": "markdown",
   "metadata": {},
   "source": [
    "# Dump Files"
   ]
  },
  {
   "cell_type": "code",
   "execution_count": 242,
   "metadata": {
    "collapsed": false
   },
   "outputs": [],
   "source": [
    "fig = caddsim.plot_dump_from_increment(8,tight=False,fignum=1,axisbounds=[-30,30,-30,30]);"
   ]
  },
  {
   "cell_type": "code",
   "execution_count": 234,
   "metadata": {
    "collapsed": false
   },
   "outputs": [],
   "source": [
    "fig = caddsim.plot_dump_from_increment(0,tight=False,fignum=2,axisbounds=[-50,50,-50,50]);"
   ]
  },
  {
   "cell_type": "markdown",
   "metadata": {
    "collapsed": false
   },
   "source": [
    "# Log Files"
   ]
  },
  {
   "cell_type": "markdown",
   "metadata": {},
   "source": [
    "## Determine K"
   ]
  },
  {
   "cell_type": "code",
   "execution_count": 235,
   "metadata": {
    "collapsed": false
   },
   "outputs": [],
   "source": [
    "brittlekmat = croo.Hex.from_potential(brittlenew)"
   ]
  },
  {
   "cell_type": "code",
   "execution_count": 236,
   "metadata": {
    "collapsed": true
   },
   "outputs": [],
   "source": [
    "aold = np.eye(3).astype(int)\n",
    "anew = np.array([[-1,1,0],[1,1,-2],[1,1,1]])\n",
    "burgers = np.array([1,0,-1])"
   ]
  },
  {
   "cell_type": "code",
   "execution_count": 237,
   "metadata": {
    "collapsed": false
   },
   "outputs": [
    {
     "name": "stdout",
     "output_type": "stream",
     "text": [
      "Crack Plane: [ 1  1 -2]\n",
      "Slip Plane: [-1  2 -1]\n",
      "Theta: 59.99999999999999 (degrees)\n",
      "Phi: 1.2074182697257333e-06 (degrees)\n",
      "K_ic: 8.443147767084215\n",
      "K_ie: 13.422972533947563\n"
     ]
    }
   ],
   "source": [
    "Kicgriffith, Kierice = brittlekmat.k_both(aold,anew,burgers,printoption=True)"
   ]
  },
  {
   "cell_type": "markdown",
   "metadata": {
    "collapsed": true
   },
   "source": [
    "## Measured KIc"
   ]
  },
  {
   "cell_type": "code",
   "execution_count": 247,
   "metadata": {
    "collapsed": true
   },
   "outputs": [],
   "source": [
    "Kbefore = 8.55 + (7-1)*0.1\n",
    "Kafter = 8.55 + (8-1)*0.1\n",
    "Kic = (Kbefore+Kafter)/2"
   ]
  },
  {
   "cell_type": "markdown",
   "metadata": {},
   "source": [
    "## Comparison"
   ]
  },
  {
   "cell_type": "code",
   "execution_count": 249,
   "metadata": {
    "collapsed": false,
    "scrolled": true
   },
   "outputs": [
    {
     "name": "stdout",
     "output_type": "stream",
     "text": [
      "1.18731751506\n"
     ]
    }
   ],
   "source": [
    "Gratio = (Kic/Kicgriffith)**2\n",
    "print(Gratio)"
   ]
  },
  {
   "cell_type": "code",
   "execution_count": 240,
   "metadata": {
    "collapsed": true
   },
   "outputs": [],
   "source": [
    "# in paper (Rajan, Warner, Curtin, 2016, MSMSE):\n",
    "# GIc (MS)/GIc (Griffith) = 1.18"
   ]
  }
 ],
 "metadata": {
  "kernelspec": {
   "display_name": "Python 3",
   "language": "python",
   "name": "python3"
  },
  "language_info": {
   "codemirror_mode": {
    "name": "ipython",
    "version": 3
   },
   "file_extension": ".py",
   "mimetype": "text/x-python",
   "name": "python",
   "nbconvert_exporter": "python",
   "pygments_lexer": "ipython3",
   "version": "3.5.1"
  }
 },
 "nbformat": 4,
 "nbformat_minor": 0
}
