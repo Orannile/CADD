{
 "metadata": {
  "name": "",
  "signature": "sha256:048e89182ed6a7bcea3912c16c36de85f37b37ffd00f76f790711922ada5381a"
 },
 "nbformat": 3,
 "nbformat_minor": 0,
 "worksheets": [
  {
   "cells": [
    {
     "cell_type": "code",
     "collapsed": false,
     "input": [
      "%load_ext autoreload\n",
      "%autoreload 2\n",
      "import cadd_plot as cdplot\n",
      "import cadddatadump as cddump\n",
      "import cadd_io as cdio\n",
      "import my_plot as myplot\n",
      "import matplotlib as mpl\n",
      "import matplotlib.pyplot as plt\n",
      "import matplotlib.collections as mc\n",
      "import matplotlib.transforms as trans\n",
      "import numpy as np\n",
      "import itertools\n",
      "%matplotlib qt"
     ],
     "language": "python",
     "metadata": {},
     "outputs": [
      {
       "output_type": "stream",
       "stream": "stdout",
       "text": [
        "The autoreload extension is already loaded. To reload it, use:\n",
        "  %reload_ext autoreload\n"
       ]
      }
     ],
     "prompt_number": 3
    },
    {
     "cell_type": "code",
     "collapsed": false,
     "input": [
      "cadddata = cdio.read_from_dump('try_detect_test_1.0.dump')\n",
      "cadddump = cddump.CADDDataDump(cadddata)"
     ],
     "language": "python",
     "metadata": {},
     "outputs": [],
     "prompt_number": 56
    },
    {
     "cell_type": "code",
     "collapsed": false,
     "input": [
      "cadddump.gen_all_plot(['atoms','feelements','pad','interface','disl','obstacles','sources'])\n",
      "fig = myplot.my_plot(cadddump);\n",
      "myplot.pretty_figure(fig,aspect=1,ticksize=None)"
     ],
     "language": "python",
     "metadata": {},
     "outputs": [],
     "prompt_number": 73
    },
    {
     "cell_type": "code",
     "collapsed": false,
     "input": [
      "cadddata2 = cdio.read_from_dump('atomistic_1_damped.0.dump')\n",
      "cadddump2 = cddump.CADDDataDump(cadddata2)"
     ],
     "language": "python",
     "metadata": {},
     "outputs": [],
     "prompt_number": 74
    },
    {
     "cell_type": "code",
     "collapsed": false,
     "input": [
      "cadddump2.gen_all_plot(['atoms'])\n",
      "fig2 = myplot.my_plot(cadddump2);\n",
      "myplot.pretty_figure(fig2,aspect=1,ticksize=None)"
     ],
     "language": "python",
     "metadata": {},
     "outputs": [],
     "prompt_number": 77
    },
    {
     "cell_type": "code",
     "collapsed": false,
     "input": [
      "disltry = cdplot.gen_marker(60,1,0.1)"
     ],
     "language": "python",
     "metadata": {},
     "outputs": [],
     "prompt_number": 333
    },
    {
     "cell_type": "code",
     "collapsed": false,
     "input": [
      "x = np.arange(1,2,0.1)\n",
      "y = x**2\n",
      "fig = plt.figure()\n",
      "ax = fig.gca()\n",
      "ax.scatter(x,y,marker=disltry,s=100,color='b')"
     ],
     "language": "python",
     "metadata": {},
     "outputs": [
      {
       "metadata": {},
       "output_type": "pyout",
       "prompt_number": 341,
       "text": [
        "<matplotlib.collections.PathCollection at 0x7b49870>"
       ]
      }
     ],
     "prompt_number": 341
    },
    {
     "cell_type": "code",
     "collapsed": false,
     "input": [
      "from matplotlib.path import Path\n",
      "import matplotlib.patches as patches\n",
      "\n",
      "# path test\n",
      "verts = [\n",
      "    (0., 0.), # left, bottom\n",
      "    (0., 1.), # left, top\n",
      "    (1., 1.), # right, top\n",
      "    (1., 0.), # right, bottom\n",
      "    (0., 0.), # ignored\n",
      "    ]\n",
      "\n",
      "codes = [Path.MOVETO,\n",
      "         Path.LINETO,\n",
      "         Path.LINETO,\n",
      "         Path.LINETO,\n",
      "         Path.CLOSEPOLY,\n",
      "         ]\n",
      "\n",
      "path = Path(verts, codes)\n",
      "patch = patches.PathPatch(path, facecolor='orange', lw=2)"
     ],
     "language": "python",
     "metadata": {},
     "outputs": [],
     "prompt_number": 31
    },
    {
     "cell_type": "code",
     "collapsed": false,
     "input": [
      "# attempt at creating an edge dislocation marker\n",
      "\n",
      "def disl_path(offset=None,height=2.,width=2.):\n",
      "    if offset is None:\n",
      "        offset = [0,0]\n",
      "    verts = np.array([\n",
      "            [-width/2, -1.], # left, bottom\n",
      "            [width/2, -1.], # right, bottom\n",
      "            [0., -height/2.], # middle, bottom\n",
      "            [0., height/2], # middle, top\n",
      "            ])\n",
      "    codes = [Path.MOVETO,\n",
      "             Path.LINETO,\n",
      "             Path.MOVETO,\n",
      "             Path.LINETO,\n",
      "             ]\n",
      "    return Path(verts,codes)"
     ],
     "language": "python",
     "metadata": {},
     "outputs": [],
     "prompt_number": 316
    },
    {
     "cell_type": "code",
     "collapsed": false,
     "input": [
      "fig = plt.figure()\n",
      "ax = fig.gca()\n",
      "offsets = [(1,2),(2,1)]\n",
      "paths = [disl_path() for offset in offsets]\n",
      "col = mc.PathCollection(paths,offsets=[(1,1),(1,1)],linewidth=5)\n",
      "ax.add_collection(col)\n",
      "ax.autoscale_view()\n",
      "fig.tight_layout()\n",
      "fig.show()\n"
     ],
     "language": "python",
     "metadata": {},
     "outputs": [],
     "prompt_number": 317
    },
    {
     "cell_type": "code",
     "collapsed": false,
     "input": [
      "fig = plt.figure()\n",
      "ax = fig.gca()\n",
      "offsets = [(21,21),(21,20)]\n",
      "paths = [disl_path() for offset in offsets]\n",
      "col = mc.PathCollection(paths,linewidth=2,edgecolor='b',\n",
      "                        offsets=offsets,transOffset=ax.transData)\n",
      "ax.add_collection(col)\n",
      "ax.autoscale_view()\n",
      "fig.tight_layout()\n",
      "fig.show()\n"
     ],
     "language": "python",
     "metadata": {},
     "outputs": [],
     "prompt_number": 222
    },
    {
     "cell_type": "code",
     "collapsed": false,
     "input": [
      "star = Path.unit_regular_star(6)\n",
      "circle = Path.unit_circle()\n",
      "# concatenate the circle with an internal cutout of the star\n",
      "verts = np.concatenate([circle.vertices, star.vertices[::-1, ...]])\n",
      "codes = np.concatenate([circle.codes, star.codes])\n",
      "cut_star = Path(verts, codes)\n",
      "cut_star_patch = patches.PathPatch(cut_star, facecolor='orange', lw=1)\n",
      "\n",
      "\n",
      "plt.plot(np.arange(10)**2, '--r', marker=cut_star, markersize=15)\n",
      "\n",
      "plt.show()"
     ],
     "language": "python",
     "metadata": {},
     "outputs": [],
     "prompt_number": 111
    },
    {
     "cell_type": "code",
     "collapsed": false,
     "input": [
      "# circle does not move since it is in axes coordinates, not data coordinates\n",
      "\n",
      "fig = plt.figure()\n",
      "ax = fig.add_subplot(111)\n",
      "x, y = 10*np.random.rand(2, 1000)\n",
      "ax.plot(x, y, 'go')  # plot some data in data coordinates\n",
      "\n",
      "circ = patches.Circle((0.5, 0.5), 0.25, transform=ax.transAxes,\n",
      "                      facecolor='yellow', alpha=0.5)\n",
      "ax.add_patch(circ)\n",
      "\n",
      "plt.show()"
     ],
     "language": "python",
     "metadata": {},
     "outputs": [],
     "prompt_number": 219
    },
    {
     "cell_type": "code",
     "collapsed": false,
     "input": [
      "offsets = [(2,1),(1,2)]\n",
      "black = (0,0,0,1)\n",
      "\n",
      "collection = mc.RegularPolyCollection(\n",
      "    numsides=5, # a pentagon\n",
      "    rotation=0, sizes=(50,),\n",
      "    edgecolors = (black,),\n",
      "    linewidths = (1,),\n",
      "    offsets = offsets,\n",
      "    transOffset = ax.transData,\n",
      "    )\n",
      "\n",
      "fig = plt.figure()\n",
      "ax = fig.gca()\n",
      "ax.add_collection(collection)\n",
      "ax.autoscale_view()"
     ],
     "language": "python",
     "metadata": {},
     "outputs": [],
     "prompt_number": 261
    },
    {
     "cell_type": "code",
     "collapsed": false,
     "input": [],
     "language": "python",
     "metadata": {},
     "outputs": []
    }
   ],
   "metadata": {}
  }
 ]
}