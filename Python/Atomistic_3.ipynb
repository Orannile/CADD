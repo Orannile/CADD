{
 "metadata": {
  "name": "",
  "signature": "sha256:443517444911ae4e46ec67d28feeb4a84979266b69be7ffdf01d65fe03b11997"
 },
 "nbformat": 3,
 "nbformat_minor": 0,
 "worksheets": [
  {
   "cells": [
    {
     "cell_type": "code",
     "collapsed": false,
     "input": [
      "import numpy as np\n",
      "import matplotlib as mpl\n",
      "import matplotlib.pyplot as plt\n",
      "import cadd_io as cdio\n",
      "import cadd_io_struct_new3 as cdiosn3\n",
      "import mdutilities_io as mduio\n",
      "import mymath as Mmath\n",
      "import my_plot as myplot\n",
      "import cadddatadump as cddump\n",
      "import cadd_mesh2 as cdmesh\n",
      "import cadd\n",
      "import itertools\n",
      "import os\n",
      "import sys\n",
      "import shutil\n",
      "import cadd_plot as cdplot\n",
      "%matplotlib qt\n",
      "%load_ext autoreload\n",
      "%autoreload 2"
     ],
     "language": "python",
     "metadata": {},
     "outputs": [
      {
       "output_type": "stream",
       "stream": "stdout",
       "text": [
        "The autoreload extension is already loaded. To reload it, use:\n",
        "  %reload_ext autoreload\n"
       ]
      }
     ],
     "prompt_number": 11
    },
    {
     "cell_type": "heading",
     "level": 1,
     "metadata": {},
     "source": [
      "Preliminaries"
     ]
    },
    {
     "cell_type": "heading",
     "level": 2,
     "metadata": {},
     "source": [
      "Directories"
     ]
    },
    {
     "cell_type": "code",
     "collapsed": false,
     "input": [
      "maindir = 'C:/Users/Varun/Dropbox/Myself/CADD_Code/Tests/Atomistic_Test_3/'\n",
      "uidir = maindir + 'User Inputs/'\n",
      "fidir = maindir + 'Fortran Inputs/'\n",
      "restartdir = maindir + 'Restart Files/'\n",
      "oldrestartdir = maindir + 'Old Restart Files/'\n",
      "dumpdir = maindir + 'Dump Files/'\n",
      "ldumpdir = maindir + 'LAMMPS Style Dump Files/'\n",
      "lcompdir = maindir + 'LAMMPS Comparison/'"
     ],
     "language": "python",
     "metadata": {},
     "outputs": [],
     "prompt_number": 12
    },
    {
     "cell_type": "heading",
     "level": 2,
     "metadata": {},
     "source": [
      "Simulation Info"
     ]
    },
    {
     "cell_type": "code",
     "collapsed": false,
     "input": [
      "simnameold = 'atomistic_2'\n",
      "simname = 'atomistic_3'\n",
      "simtype = 'atomistic'"
     ],
     "language": "python",
     "metadata": {},
     "outputs": [],
     "prompt_number": 13
    },
    {
     "cell_type": "heading",
     "level": 1,
     "metadata": {},
     "source": [
      "Fortran Inputs"
     ]
    },
    {
     "cell_type": "heading",
     "level": 2,
     "metadata": {},
     "source": [
      "Convert Old (Atomistic_2) Restart Files"
     ]
    },
    {
     "cell_type": "code",
     "collapsed": false,
     "input": [
      "def convert_restart_name(filenameold,simnameold,simname):\n",
      "    if filenameold.startswith(simnameold) and filenameold.endswith('.restart'):\n",
      "        idx = filenameold.find('.')\n",
      "        fileprefix = filenameold[:idx]\n",
      "        return str.replace(fileprefix,simnameold,simname)\n",
      "    else:\n",
      "        raise ValueError('Old file name appears to be incorrect')    "
     ],
     "language": "python",
     "metadata": {},
     "outputs": [],
     "prompt_number": 14
    },
    {
     "cell_type": "code",
     "collapsed": false,
     "input": [
      "for oldrestartname in os.listdir(oldrestartdir):\n",
      "    newfilename = convert_restart_name(oldrestartname,simnameold,simname)\n",
      "    oldfilepath = os.path.join(oldrestartdir,oldrestartname)\n",
      "    newfilepath = os.path.join(fidir,newfilename)\n",
      "    shutil.copyfile(oldfilepath,newfilepath)"
     ],
     "language": "python",
     "metadata": {},
     "outputs": []
    },
    {
     "cell_type": "heading",
     "level": 1,
     "metadata": {},
     "source": [
      "Simulation"
     ]
    },
    {
     "cell_type": "code",
     "collapsed": false,
     "input": [
      "cadddata = cdiosn3.Simulation(simtype,simname,uidir,fidir,dumpdir,readinput=False)"
     ],
     "language": "python",
     "metadata": {},
     "outputs": [],
     "prompt_number": 15
    },
    {
     "cell_type": "heading",
     "level": 1,
     "metadata": {},
     "source": [
      "Plot Dump Files"
     ]
    },
    {
     "cell_type": "code",
     "collapsed": false,
     "input": [
      "def plot_centro(cadddata,increment,fignum):\n",
      "    filepath = cadddata.dump_file_path(increment=increment)\n",
      "    dumpdict = cdio.read_from_dump(filepath) # read in dump dictionary from file\n",
      "    cadddump = cddump.CADDDataDump(dumpdict) # create cadddump instance\n",
      "    z = cadddump.from_key('centrosymmetry')\n",
      "    # z = np.linalg.norm(dumpdict['displacements'],axis=1)\n",
      "    colors = cdplot.gen_cmap(z,'OrRd',[0,0.6]) # colors according to centrosymmetry\n",
      "    cadddump.currentplot['atoms'] = cadddump.gen_atoms_plot(facecolor=colors,edgecolor='gray')\n",
      "    fig = myplot.my_plot(cadddump,fignum=fignum) # plot them!\n",
      "    myplot.pretty_figure(fig,aspect=1,ticksize=None,tight=False,tightlayout=False);"
     ],
     "language": "python",
     "metadata": {},
     "outputs": [],
     "prompt_number": 16
    },
    {
     "cell_type": "code",
     "collapsed": false,
     "input": [
      "plot_centro(cadddata,1,1)"
     ],
     "language": "python",
     "metadata": {},
     "outputs": [],
     "prompt_number": 17
    },
    {
     "cell_type": "code",
     "collapsed": false,
     "input": [
      "plot_centro(cadddata,2,2)"
     ],
     "language": "python",
     "metadata": {},
     "outputs": [],
     "prompt_number": 18
    },
    {
     "cell_type": "code",
     "collapsed": false,
     "input": [],
     "language": "python",
     "metadata": {},
     "outputs": []
    }
   ],
   "metadata": {}
  }
 ]
}