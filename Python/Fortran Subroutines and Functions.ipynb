{
 "cells": [
  {
   "cell_type": "code",
   "execution_count": 3,
   "metadata": {
    "collapsed": false
   },
   "outputs": [],
   "source": [
    "import cadd_io as cdio\n",
    "import cadd as cadd\n",
    "import numpy as np\n",
    "import myio as Mio\n",
    "import sys\n",
    "import os\n",
    "%load_ext autoreload\n",
    "%autoreload 2"
   ]
  },
  {
   "cell_type": "markdown",
   "metadata": {},
   "source": [
    "## New Code"
   ]
  },
  {
   "cell_type": "code",
   "execution_count": 5,
   "metadata": {
    "collapsed": false
   },
   "outputs": [],
   "source": [
    "subdir = 'C:/Users/Varun/Dropbox/Myself/CADD_Code/Fortran/'"
   ]
  },
  {
   "cell_type": "code",
   "execution_count": 7,
   "metadata": {
    "collapsed": false
   },
   "outputs": [
    {
     "name": "stdout",
     "output_type": "stream",
     "text": [
      "mod_compute.f\n",
      "mod_damping.f\n",
      "mod_dd_main.f\n",
      "mod_delaunay.f\n",
      "mod_disl_detect_pass.f\n",
      "mod_disl_escaped.f\n",
      "mod_disl_fields2.f\n",
      "mod_disl_ghost.f\n",
      "mod_disl_ident_simple.f\n",
      "mod_disl_try.f\n",
      "mod_dump.f\n",
      "mod_fe_elements.f\n",
      "mod_fe_el_2d.f\n",
      "mod_fe_main_2d.f\n",
      "mod_fe_main_2d_assign.f\n",
      "mod_fe_main_2d_no_disl.f\n",
      "mod_groups.f\n",
      "mod_integrate.f\n",
      "mod_interactions.f\n",
      "mod_io.f\n",
      "mod_kdispfield.f\n",
      "mod_materials.f\n",
      "mod_math.f\n",
      "mod_mesh_find.f\n",
      "mod_misc.f\n",
      "mod_neighbors.f\n",
      "mod_nodes.f\n",
      "mod_pad_atoms.f\n",
      "mod_potentials.f\n",
      "mod_poten_assign.f\n",
      "mod_poten_pair_table.f\n",
      "mod_slip_sys.f\n",
      "mod_sort.f\n",
      "mod_types.f\n",
      "mod_utils.f\n"
     ]
    }
   ],
   "source": [
    "for filename in os.listdir(subdir):\n",
    "    if filename.startswith('mod_'):\n",
    "        filepath = os.path.join(subdir,filename)\n",
    "        print(filename)\n",
    "        for func in cdio.gener_funcs_in_file(filepath):\n",
    "            # print('\\t {}'.format(func))\n",
    "            pass"
   ]
  },
  {
   "cell_type": "code",
   "execution_count": 6,
   "metadata": {
    "collapsed": false
   },
   "outputs": [
    {
     "name": "stdout",
     "output_type": "stream",
     "text": [
      "18997\n"
     ]
    }
   ],
   "source": [
    "linescount = 0\n",
    "for filename in os.listdir(subdir):\n",
    "    if filename.startswith('mod_'):\n",
    "        filepath = os.path.join(subdir,filename)\n",
    "        linescount +=  sum(1 for line in open(filepath))\n",
    "print(linescount)"
   ]
  },
  {
   "cell_type": "markdown",
   "metadata": {
    "collapsed": false
   },
   "source": [
    "## Old Code"
   ]
  },
  {
   "cell_type": "code",
   "execution_count": 17,
   "metadata": {
    "collapsed": false
   },
   "outputs": [],
   "source": [
    "subdir = 'C:/Users/Varun/Dropbox/Myself/CADD_Code/Obsolete Code/CADD_Current/'"
   ]
  },
  {
   "cell_type": "code",
   "execution_count": 18,
   "metadata": {
    "collapsed": false
   },
   "outputs": [
    {
     "name": "stdout",
     "output_type": "stream",
     "text": [
      "C:/Users/Varun/Dropbox/Myself/CADD_Code/Obsolete Code/CADD_Current/Disl\\disl_cg.f\n",
      "C:/Users/Varun/Dropbox/Myself/CADD_Code/Obsolete Code/CADD_Current/Disl\\disl_dd.f\n",
      "C:/Users/Varun/Dropbox/Myself/CADD_Code/Obsolete Code/CADD_Current/Disl\\disl_field.f\n",
      "C:/Users/Varun/Dropbox/Myself/CADD_Code/Obsolete Code/CADD_Current/Disl\\disl_routines.f\n",
      "C:/Users/Varun/Dropbox/Myself/CADD_Code/Obsolete Code/CADD_Current/Disl\\dumpdisl.f\n",
      "C:/Users/Varun/Dropbox/Myself/CADD_Code/Obsolete Code/CADD_Current/Disl\\fem_alan.f\n",
      "C:/Users/Varun/Dropbox/Myself/CADD_Code/Obsolete Code/CADD_Current/Disl\\fem_elastic.f\n",
      "C:/Users/Varun/Dropbox/Myself/CADD_Code/Obsolete Code/CADD_Current/Disl\\fem_movepad.f\n",
      "C:/Users/Varun/Dropbox/Myself/CADD_Code/Obsolete Code/CADD_Current/Disl\\fem_routines.f\n",
      "C:/Users/Varun/Dropbox/Myself/CADD_Code/Obsolete Code/CADD_Current/Disl\\fem_service.f\n",
      "C:/Users/Varun/Dropbox/Myself/CADD_Code/Obsolete Code/CADD_Current/Disl\\mod_dd_slip.f\n",
      "C:/Users/Varun/Dropbox/Myself/CADD_Code/Obsolete Code/CADD_Current/Modular\\atomistic.f\n",
      "C:/Users/Varun/Dropbox/Myself/CADD_Code/Obsolete Code/CADD_Current/Modular\\bandwidth.f\n",
      "C:/Users/Varun/Dropbox/Myself/CADD_Code/Obsolete Code/CADD_Current/Modular\\cgma05.f\n",
      "C:/Users/Varun/Dropbox/Myself/CADD_Code/Obsolete Code/CADD_Current/Modular\\common.f\n",
      "C:/Users/Varun/Dropbox/Myself/CADD_Code/Obsolete Code/CADD_Current/Modular\\contri.f\n",
      "C:/Users/Varun/Dropbox/Myself/CADD_Code/Obsolete Code/CADD_Current/Modular\\delaunay36.f\n",
      "C:/Users/Varun/Dropbox/Myself/CADD_Code/Obsolete Code/CADD_Current/Modular\\dislocation.f\n",
      "C:/Users/Varun/Dropbox/Myself/CADD_Code/Obsolete Code/CADD_Current/Modular\\energygr.f\n",
      "C:/Users/Varun/Dropbox/Myself/CADD_Code/Obsolete Code/CADD_Current/Modular\\feaplib.f\n",
      "C:/Users/Varun/Dropbox/Myself/CADD_Code/Obsolete Code/CADD_Current/Modular\\field.f\n",
      "C:/Users/Varun/Dropbox/Myself/CADD_Code/Obsolete Code/CADD_Current/Modular\\md.f\n",
      "C:/Users/Varun/Dropbox/Myself/CADD_Code/Obsolete Code/CADD_Current/Modular\\mesh.f\n",
      "C:/Users/Varun/Dropbox/Myself/CADD_Code/Obsolete Code/CADD_Current/Modular\\mod_boundary.f\n",
      "C:/Users/Varun/Dropbox/Myself/CADD_Code/Obsolete Code/CADD_Current/Modular\\mod_cluster.f\n",
      "C:/Users/Varun/Dropbox/Myself/CADD_Code/Obsolete Code/CADD_Current/Modular\\mod_crack.f\n",
      "C:/Users/Varun/Dropbox/Myself/CADD_Code/Obsolete Code/CADD_Current/Modular\\mod_dynamo.f\n",
      "C:/Users/Varun/Dropbox/Myself/CADD_Code/Obsolete Code/CADD_Current/Modular\\mod_file.f\n",
      "C:/Users/Varun/Dropbox/Myself/CADD_Code/Obsolete Code/CADD_Current/Modular\\mod_global.f\n",
      "C:/Users/Varun/Dropbox/Myself/CADD_Code/Obsolete Code/CADD_Current/Modular\\mod_grain.f\n",
      "C:/Users/Varun/Dropbox/Myself/CADD_Code/Obsolete Code/CADD_Current/Modular\\mod_interstitial.f\n",
      "C:/Users/Varun/Dropbox/Myself/CADD_Code/Obsolete Code/CADD_Current/Modular\\mod_main.f\n",
      "C:/Users/Varun/Dropbox/Myself/CADD_Code/Obsolete Code/CADD_Current/Modular\\mod_material.f\n",
      "C:/Users/Varun/Dropbox/Myself/CADD_Code/Obsolete Code/CADD_Current/Modular\\mod_output.f\n",
      "C:/Users/Varun/Dropbox/Myself/CADD_Code/Obsolete Code/CADD_Current/Modular\\mod_poten_eam.f\n",
      "C:/Users/Varun/Dropbox/Myself/CADD_Code/Obsolete Code/CADD_Current/Modular\\move_crack.f\n",
      "C:/Users/Varun/Dropbox/Myself/CADD_Code/Obsolete Code/CADD_Current/Modular\\pmacr1.f\n",
      "C:/Users/Varun/Dropbox/Myself/CADD_Code/Obsolete Code/CADD_Current/Modular\\pmacr3.f\n",
      "C:/Users/Varun/Dropbox/Myself/CADD_Code/Obsolete Code/CADD_Current/Modular\\pmain.f\n",
      "C:/Users/Varun/Dropbox/Myself/CADD_Code/Obsolete Code/CADD_Current/Modular\\pmesh.f\n",
      "C:/Users/Varun/Dropbox/Myself/CADD_Code/Obsolete Code/CADD_Current/Modular\\polygrain.f\n",
      "C:/Users/Varun/Dropbox/Myself/CADD_Code/Obsolete Code/CADD_Current/Modular\\randgen.f\n",
      "C:/Users/Varun/Dropbox/Myself/CADD_Code/Obsolete Code/CADD_Current/Modular\\restart.f\n",
      "C:/Users/Varun/Dropbox/Myself/CADD_Code/Obsolete Code/CADD_Current/Modular\\tecplotnl.f\n",
      "163611\n"
     ]
    }
   ],
   "source": [
    "for root, subdirs, files in os.walk(subdir):\n",
    "    for filename in files:\n",
    "        if filename.endswith('.f'):\n",
    "            filepath = os.path.join(root,filename)\n",
    "            print(filepath)\n",
    "            linescount +=  sum(1 for line in open(filepath))\n",
    "print(linescount)"
   ]
  },
  {
   "cell_type": "code",
   "execution_count": 19,
   "metadata": {
    "collapsed": false
   },
   "outputs": [
    {
     "data": {
      "text/plain": [
       "8.612465126072538"
      ]
     },
     "execution_count": 19,
     "metadata": {},
     "output_type": "execute_result"
    }
   ],
   "source": [
    "163611/18997"
   ]
  },
  {
   "cell_type": "code",
   "execution_count": null,
   "metadata": {
    "collapsed": true
   },
   "outputs": [],
   "source": []
  }
 ],
 "metadata": {
  "kernelspec": {
   "display_name": "Python 3",
   "language": "python",
   "name": "python3"
  },
  "language_info": {
   "codemirror_mode": {
    "name": "ipython",
    "version": 3
   },
   "file_extension": ".py",
   "mimetype": "text/x-python",
   "name": "python",
   "nbconvert_exporter": "python",
   "pygments_lexer": "ipython3",
   "version": "3.5.1"
  }
 },
 "nbformat": 4,
 "nbformat_minor": 0
}
