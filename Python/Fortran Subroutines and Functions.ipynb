{
 "metadata": {
  "name": "",
  "signature": "sha256:b13ce8cfb4f267755eacda0b720a01de7fa47e53b218c0edf962b188aa5e5c12"
 },
 "nbformat": 3,
 "nbformat_minor": 0,
 "worksheets": [
  {
   "cells": [
    {
     "cell_type": "code",
     "collapsed": false,
     "input": [
      "import cadd_io as cdio\n",
      "import cadd as cadd\n",
      "import numpy as np\n",
      "import myio as Mio\n",
      "import sys\n",
      "import os\n",
      "%load_ext autoreload\n",
      "%autoreload 2"
     ],
     "language": "python",
     "metadata": {},
     "outputs": [
      {
       "output_type": "stream",
       "stream": "stdout",
       "text": [
        "The autoreload extension is already loaded. To reload it, use:\n",
        "  %reload_ext autoreload\n"
       ]
      }
     ],
     "prompt_number": 2
    },
    {
     "cell_type": "code",
     "collapsed": false,
     "input": [
      "subdir = 'C:/Users/Varun/Dropbox/Myself/CADD_Code/Fortran/'"
     ],
     "language": "python",
     "metadata": {},
     "outputs": [],
     "prompt_number": 3
    },
    {
     "cell_type": "code",
     "collapsed": false,
     "input": [
      "for filename in os.listdir(subdir):\n",
      "    if filename.startswith('mod_'):\n",
      "        filepath = os.path.join(subdir,filename)\n",
      "        print(filename)\n",
      "        for func in cdio.gener_funcs_in_file(filepath):\n",
      "            # print('\\t {}'.format(func))\n",
      "            pass"
     ],
     "language": "python",
     "metadata": {},
     "outputs": [
      {
       "output_type": "stream",
       "stream": "stdout",
       "text": [
        "mod_compute.f\n",
        "mod_damping.f\n",
        "mod_dd_main.f\n",
        "mod_delaunay.f\n",
        "mod_disl_detect_pass.f\n",
        "mod_disl_escaped.f\n",
        "mod_disl_fields2.f\n",
        "mod_disl_ghost.f\n",
        "mod_disl_ident_simple.f\n",
        "mod_disl_try.f\n",
        "mod_dump.f\n",
        "mod_fe_elements.f\n",
        "mod_fe_el_2d.f\n",
        "mod_fe_main_2d.f\n",
        "mod_fe_main_2d_assign.f\n",
        "mod_fe_main_2d_no_disl.f\n",
        "mod_groups.f\n",
        "mod_integrate.f\n",
        "mod_interactions.f\n",
        "mod_io.f\n",
        "mod_kdispfield.f\n",
        "mod_materials.f\n",
        "mod_math.f\n",
        "mod_mesh_find.f\n",
        "mod_misc.f\n",
        "mod_neighbors.f\n",
        "mod_nodes.f\n",
        "mod_pad_atoms.f\n",
        "mod_potentials.f\n",
        "mod_poten_assign.f\n",
        "mod_poten_pair_table.f\n",
        "mod_slip_sys.f\n",
        "mod_sort.f\n",
        "mod_types.f\n",
        "mod_utils.f\n"
       ]
      }
     ],
     "prompt_number": 7
    },
    {
     "cell_type": "code",
     "collapsed": false,
     "input": [],
     "language": "python",
     "metadata": {},
     "outputs": []
    }
   ],
   "metadata": {}
  }
 ]
}