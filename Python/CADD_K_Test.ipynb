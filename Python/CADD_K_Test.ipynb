{
 "cells": [
  {
   "cell_type": "code",
   "execution_count": 250,
   "metadata": {
    "collapsed": false
   },
   "outputs": [
    {
     "name": "stdout",
     "output_type": "stream",
     "text": [
      "The autoreload extension is already loaded. To reload it, use:\n",
      "  %reload_ext autoreload\n"
     ]
    }
   ],
   "source": [
    "import numpy as np\n",
    "import matplotlib as mpl\n",
    "import matplotlib.pyplot as plt\n",
    "import cadd_io as cdio\n",
    "import cadd_main as cdmain\n",
    "import cadd_plot as cdplot\n",
    "import mdutilities_io as mduio\n",
    "import mymath as Mmath\n",
    "import copy\n",
    "import my_plot as myplot\n",
    "import cadddatadump as cddump\n",
    "import cadd_mesh2 as cdmesh\n",
    "import cadd_crack_mesh as cdcmesh\n",
    "import cadd\n",
    "import itertools\n",
    "import newpotential as newpot\n",
    "import tabularpotential as tabpot\n",
    "import crystallography_oo as croo\n",
    "import lineplot_oo3 as lpoo\n",
    "%matplotlib qt\n",
    "%load_ext autoreload\n",
    "%autoreload 2"
   ]
  },
  {
   "cell_type": "code",
   "execution_count": 305,
   "metadata": {
    "collapsed": true
   },
   "outputs": [],
   "source": [
    "import Cython"
   ]
  },
  {
   "cell_type": "code",
   "execution_count": 306,
   "metadata": {
    "collapsed": false
   },
   "outputs": [
    {
     "ename": "SyntaxError",
     "evalue": "invalid syntax (<ipython-input-306-d74b439f59c9>, line 1)",
     "output_type": "error",
     "traceback": [
      "\u001b[1;36m  File \u001b[1;32m\"<ipython-input-306-d74b439f59c9>\"\u001b[1;36m, line \u001b[1;32m1\u001b[0m\n\u001b[1;33m    setup.py build_ext --inplace\u001b[0m\n\u001b[1;37m                     ^\u001b[0m\n\u001b[1;31mSyntaxError\u001b[0m\u001b[1;31m:\u001b[0m invalid syntax\n"
     ]
    }
   ],
   "source": [
    "setup.py build_ext --inplace"
   ]
  },
  {
   "cell_type": "markdown",
   "metadata": {},
   "source": [
    "# Preliminaries"
   ]
  },
  {
   "cell_type": "markdown",
   "metadata": {},
   "source": [
    "## Directories"
   ]
  },
  {
   "cell_type": "code",
   "execution_count": 164,
   "metadata": {
    "collapsed": false
   },
   "outputs": [],
   "source": [
    "maindir = '../Tests/CADD_K_Test/'\n",
    "uidir = maindir + 'User Inputs/'\n",
    "fidir = maindir + 'Fortran Inputs/'\n",
    "dumpdir = maindir + 'Dump Files/'\n",
    "restartdir = maindir + 'Restart Files/'\n",
    "simname = 'cadd_k_test'\n",
    "simtype = 'cadd'"
   ]
  },
  {
   "cell_type": "code",
   "execution_count": 165,
   "metadata": {
    "collapsed": false
   },
   "outputs": [],
   "source": [
    "size = 'medium'\n",
    "if size == 'small':\n",
    "    ferings = 5\n",
    "elif size == 'medium':\n",
    "    ferings = 14\n",
    "elif size == 'large':\n",
    "    ferings = 24\n",
    "simname += '_' + size"
   ]
  },
  {
   "cell_type": "markdown",
   "metadata": {},
   "source": [
    "## Unit System"
   ]
  },
  {
   "cell_type": "code",
   "execution_count": 166,
   "metadata": {
    "collapsed": false
   },
   "outputs": [],
   "source": [
    "# LJ\n",
    "r0 = 1.0\n",
    "Alr0 = 125e-12\n",
    "Almass = (27)/(6.02e23)\n",
    "# Alcohenergy = 5.4e-19 # cohesive energy/atom\n",
    "Almu = 28e12\n",
    "Altime = np.sqrt(Almass/(Almu*Alr0))\n",
    "myr0 = r0\n",
    "mymass = 1.0\n",
    "mymu = 13.4\n",
    "# mycohenergy = 6.0\n",
    "mytime = np.sqrt(mymass/(mymu*myr0))\n",
    "lengthfac = myr0/Alr0\n",
    "timefac = mytime/Altime\n",
    "massfac = mymass/Almass\n",
    "stressfac = massfac/(lengthfac*timefac**2)"
   ]
  },
  {
   "cell_type": "markdown",
   "metadata": {},
   "source": [
    "# Create Inputs"
   ]
  },
  {
   "cell_type": "markdown",
   "metadata": {},
   "source": [
    "## Nodes/Elements"
   ]
  },
  {
   "cell_type": "markdown",
   "metadata": {},
   "source": [
    "### Create Mesh"
   ]
  },
  {
   "cell_type": "code",
   "execution_count": 167,
   "metadata": {
    "collapsed": false
   },
   "outputs": [],
   "source": [
    "padx, pady = 5, 5\n",
    "lx, ly = 42, 45 # gives roughly 2500 atoms (including pad, interface)\n",
    "\n",
    "# initial mesh\n",
    "crackmesh = cdcmesh.CrackMesh(ferings,lx,ly,padx,pady,r0)\n",
    "\n",
    "# fix outer nodes for K-test\n",
    "outernodes = crackmesh.outerbox.all_nodes\n",
    "crackmesh.mesh.nodes.set_node_bc(outernodes,3)\n",
    "\n",
    "# modify mesh to separate crack faces\n",
    "crackmesh.modify_mesh()\n",
    "\n",
    "mesh = crackmesh.mesh\n",
    "meshnodes = mesh.nodes"
   ]
  },
  {
   "cell_type": "markdown",
   "metadata": {},
   "source": [
    "### Plot"
   ]
  },
  {
   "cell_type": "code",
   "execution_count": 168,
   "metadata": {
    "collapsed": false
   },
   "outputs": [],
   "source": [
    "mesh.write_dump_all('test.7.dump')\n",
    "sim = cdmain.Simulation('cadd_nodisl','test',readinput=False)\n",
    "fig = sim.plot_dump_from_file('test.7.dump',fignum=2)"
   ]
  },
  {
   "cell_type": "markdown",
   "metadata": {},
   "source": [
    "### Nodes"
   ]
  },
  {
   "cell_type": "code",
   "execution_count": 169,
   "metadata": {
    "collapsed": false
   },
   "outputs": [],
   "source": [
    "n = meshnodes.xy.shape[0]\n",
    "z = np.zeros((n,))\n",
    "posn = np.column_stack((meshnodes.xy,z)) # z-coordinate = 0\n",
    "nodes = cdmain.Nodes(posn=posn,types=meshnodes.types)"
   ]
  },
  {
   "cell_type": "markdown",
   "metadata": {},
   "source": [
    "### FE Elements"
   ]
  },
  {
   "cell_type": "code",
   "execution_count": 170,
   "metadata": {
    "collapsed": false
   },
   "outputs": [],
   "source": [
    "feelements = cdmain.FEElement(elname='CPE3',mnum=1,\n",
    "                              connect=mesh.elements_dump) # elements_dump fixes off by 1 indexing issue"
   ]
  },
  {
   "cell_type": "markdown",
   "metadata": {},
   "source": [
    "## Potential"
   ]
  },
  {
   "cell_type": "code",
   "execution_count": 171,
   "metadata": {
    "collapsed": true
   },
   "outputs": [],
   "source": [
    "ductilityindex = 6 # scale of 0 to 6 in 2D\n",
    "potentialname = 'ductilenewnorm'"
   ]
  },
  {
   "cell_type": "code",
   "execution_count": 172,
   "metadata": {
    "collapsed": false
   },
   "outputs": [],
   "source": [
    "tunablepotential = newpot.gen_std_potential(ductilityindex=ductilityindex,dimensions=2,r0=1)"
   ]
  },
  {
   "cell_type": "code",
   "execution_count": 173,
   "metadata": {
    "collapsed": false
   },
   "outputs": [],
   "source": [
    "rminsmall, rmin, rmax = 0.01, 0.1, 2.0\n",
    "npoints = 3000\n",
    "rvec = np.linspace(rmin,rmax,npoints)\n",
    "rvec = np.insert(rvec,0,rminsmall)\n",
    "pottable = tunablepotential.get_energy_force_table(rvec)"
   ]
  },
  {
   "cell_type": "code",
   "execution_count": 174,
   "metadata": {
    "collapsed": false
   },
   "outputs": [],
   "source": [
    "tunablepotential.write_file_lammps(potentialname,np.linspace(0.1,3.0,3000),extend=True)"
   ]
  },
  {
   "cell_type": "code",
   "execution_count": 175,
   "metadata": {
    "collapsed": false
   },
   "outputs": [],
   "source": [
    "# Energy plot\n",
    "# lpoo.my_quick_plot([pottable[:,[0,1]]],axisbounds=[0.5,2,-1.1,3])"
   ]
  },
  {
   "cell_type": "code",
   "execution_count": 176,
   "metadata": {
    "collapsed": false
   },
   "outputs": [],
   "source": [
    "rnnn = np.sqrt(3)*r0 # 2nd nearest neighbor\n",
    "potential = cdmain.Potential(pname=potentialname,forcecutoff=rnnn,pottable=pottable)"
   ]
  },
  {
   "cell_type": "markdown",
   "metadata": {},
   "source": [
    "## Material"
   ]
  },
  {
   "cell_type": "markdown",
   "metadata": {},
   "source": [
    "### Elastic constants"
   ]
  },
  {
   "cell_type": "code",
   "execution_count": 177,
   "metadata": {
    "collapsed": false
   },
   "outputs": [],
   "source": [
    "elasticdict = tunablepotential.elasticdict('hex')\n",
    "tunablemat = croo.Hex.from_potential(tunablepotential)\n",
    "elconst = tunablemat.voigt_plane_strain_stiffness"
   ]
  },
  {
   "cell_type": "code",
   "execution_count": 178,
   "metadata": {
    "collapsed": false
   },
   "outputs": [
    {
     "data": {
      "text/plain": [
       "array([[ 40.09879362,  13.36626454,   0.        ],\n",
       "       [ 13.36626454,  40.09879362,   0.        ],\n",
       "       [  0.        ,   0.        ,  13.36626454]])"
      ]
     },
     "execution_count": 178,
     "metadata": {},
     "output_type": "execute_result"
    }
   ],
   "source": [
    "elconst"
   ]
  },
  {
   "cell_type": "markdown",
   "metadata": {},
   "source": [
    "### Dislocation stuff"
   ]
  },
  {
   "cell_type": "code",
   "execution_count": 179,
   "metadata": {
    "collapsed": false
   },
   "outputs": [],
   "source": [
    "lannih = 6*r0\n",
    "aluminumdislvmax = 1000\n",
    "mydislvmax = aluminumdislvmax*(lengthfac/timefac)\n",
    "aluminumdisldrag = 1e-4\n",
    "mydisldrag = aluminumdisldrag*(stressfac*timefac)"
   ]
  },
  {
   "cell_type": "code",
   "execution_count": 180,
   "metadata": {
    "collapsed": false
   },
   "outputs": [],
   "source": [
    "material = cdmain.Material(burgers=r0,disldrag=mydisldrag,dislvmax=mydislvmax,elconst=elconst,\n",
    "                           lannih=lannih,lattice='hex',mass=1.0,mname='inter1newnorm',rho=tunablepotential.rho)"
   ]
  },
  {
   "cell_type": "markdown",
   "metadata": {},
   "source": [
    "## Misc"
   ]
  },
  {
   "cell_type": "code",
   "execution_count": 181,
   "metadata": {
    "collapsed": false
   },
   "outputs": [],
   "source": [
    "misc = cdmain.Misc(increments=100,timestep=0.02,iscrackproblem=True,potstyle='table')"
   ]
  },
  {
   "cell_type": "markdown",
   "metadata": {},
   "source": [
    "## Interactions"
   ]
  },
  {
   "cell_type": "code",
   "execution_count": 182,
   "metadata": {
    "collapsed": false
   },
   "outputs": [],
   "source": [
    "interactions = cdmain.Interactions(table=np.array([[1,1,1]]))"
   ]
  },
  {
   "cell_type": "markdown",
   "metadata": {},
   "source": [
    "## Neighbors"
   ]
  },
  {
   "cell_type": "code",
   "execution_count": 241,
   "metadata": {
    "collapsed": false
   },
   "outputs": [],
   "source": [
    "neighbors = cdmain.Neighbors(checkdisp=True,every=0,delay=5,images=0,Lz=1.0,skin=0.3)"
   ]
  },
  {
   "cell_type": "markdown",
   "metadata": {},
   "source": [
    "## Damping"
   ]
  },
  {
   "cell_type": "code",
   "execution_count": 184,
   "metadata": {
    "collapsed": false
   },
   "outputs": [],
   "source": [
    "gamma = 0.1 # may need to fiddle with this\n",
    "damping = cdmain.Damping(flag=True,gname='all',gamma=gamma)"
   ]
  },
  {
   "cell_type": "markdown",
   "metadata": {},
   "source": [
    "## DD Stuff"
   ]
  },
  {
   "cell_type": "code",
   "execution_count": 185,
   "metadata": {
    "collapsed": false
   },
   "outputs": [],
   "source": [
    "# no dislocations, sources, or obstacles\n",
    "escapeddisl = cdmain.EscapedDislocations()\n",
    "ghostdisl = cdmain.GhostDislocations()\n",
    "disl = cdmain.Dislocations()\n",
    "sources = cdmain.Sources()\n",
    "obstacles = cdmain.Obstacles()"
   ]
  },
  {
   "cell_type": "markdown",
   "metadata": {},
   "source": [
    "### Slip Systems"
   ]
  },
  {
   "cell_type": "code",
   "execution_count": 186,
   "metadata": {
    "collapsed": false
   },
   "outputs": [],
   "source": [
    "# just a few slip planes accessible from atomistic region (i.e., close to the origin)\n",
    "# fudges are to ensure full coverage\n",
    "nslipsys = 3\n",
    "xmin, xmax, ymin, ymax = crackmesh.interfacebox.bounds\n",
    "fudge, fudge2 = 1.1, 1.5\n",
    "planespacing = r0*np.sqrt(3)/2\n",
    "maxdist = fudge*np.sqrt((xmax-xmin)**2 + (ymax-ymin)**2)\n",
    "nplanes = fudge2*int(round(maxdist/planespacing))"
   ]
  },
  {
   "cell_type": "code",
   "execution_count": 187,
   "metadata": {
    "collapsed": true
   },
   "outputs": [],
   "source": [
    "# recall that origin is at very edge of slip system --- slip planes should be built up in only one direction\n",
    "theta = np.empty((nslipsys,))\n",
    "origin = np.empty((nslipsys,2))\n",
    "nslipplanes = nplanes*np.ones((nslipsys,))\n",
    "spacing = planespacing*np.ones((nslipsys,))"
   ]
  },
  {
   "cell_type": "markdown",
   "metadata": {},
   "source": [
    "#### System 1 (theta = 0)"
   ]
  },
  {
   "cell_type": "code",
   "execution_count": 188,
   "metadata": {
    "collapsed": false
   },
   "outputs": [],
   "source": [
    "theta[0] = 0.0\n",
    "origin[0,:] = np.array([0,fudge*ymin])"
   ]
  },
  {
   "cell_type": "markdown",
   "metadata": {},
   "source": [
    "#### System 2 (theta = 60)"
   ]
  },
  {
   "cell_type": "code",
   "execution_count": 189,
   "metadata": {
    "collapsed": true
   },
   "outputs": [],
   "source": [
    "theta[1] = np.pi/3\n",
    "origin[1,:] = np.array([fudge*xmax,fudge*ymin])"
   ]
  },
  {
   "cell_type": "markdown",
   "metadata": {},
   "source": [
    "#### System 3 (theta = -60)"
   ]
  },
  {
   "cell_type": "code",
   "execution_count": 190,
   "metadata": {
    "collapsed": true
   },
   "outputs": [],
   "source": [
    "theta[2] = -np.pi/3\n",
    "origin[2,:] = np.array([fudge*xmin,fudge*ymin])"
   ]
  },
  {
   "cell_type": "code",
   "execution_count": 191,
   "metadata": {
    "collapsed": false
   },
   "outputs": [],
   "source": [
    "slipsys = cdmain.SlipSystem(theta=theta,origin=origin,nslipplanes=nslipplanes,space=spacing)"
   ]
  },
  {
   "cell_type": "markdown",
   "metadata": {},
   "source": [
    "## Compute"
   ]
  },
  {
   "cell_type": "code",
   "execution_count": 240,
   "metadata": {
    "collapsed": true
   },
   "outputs": [],
   "source": [
    "neighborsnum = 6\n",
    "centro = cdmain.ComputeData(params=np.array([neighborsnum]),active=True,gname='all')\n",
    "compute = cdmain.Compute(centro=centro)"
   ]
  },
  {
   "cell_type": "markdown",
   "metadata": {},
   "source": [
    "## Detection"
   ]
  },
  {
   "cell_type": "markdown",
   "metadata": {},
   "source": [
    "### Detection Annulus"
   ]
  },
  {
   "cell_type": "code",
   "execution_count": 278,
   "metadata": {
    "collapsed": false
   },
   "outputs": [],
   "source": [
    "bandtype = 'rect_annulus'\n",
    "\n",
    "# get center of interface box\n",
    "ptsall = np.array([line.startpoint for line in crackmesh.interfacebox.lines])\n",
    "xcenter, ycenter = np.mean(ptsall,axis=0)\n",
    "\n",
    "# move outer part of detection annulus slightly inward from interface box\n",
    "fudge = 3.0\n",
    "_, xmax, _, ymax = crackmesh.interfacebox.bounds\n",
    "halfLxouter = xmax - xcenter - fudge\n",
    "halfLyouter = ymax - ycenter - fudge"
   ]
  },
  {
   "cell_type": "code",
   "execution_count": 282,
   "metadata": {
    "collapsed": true
   },
   "outputs": [],
   "source": [
    "xthickness, ythickness = 3, 3\n",
    "halfLxinner = halfLxouter - xthickness\n",
    "halfLyinner = halfLyouter - ythickness"
   ]
  },
  {
   "cell_type": "code",
   "execution_count": 283,
   "metadata": {
    "collapsed": false
   },
   "outputs": [],
   "source": [
    "params = np.array([xcenter,ycenter,halfLxinner,halfLxouter,halfLyinner,halfLyouter])"
   ]
  },
  {
   "cell_type": "code",
   "execution_count": 288,
   "metadata": {
    "collapsed": false
   },
   "outputs": [
    {
     "data": {
      "text/plain": [
       "array([  0.        ,  -0.11473671,  15.        ,  18.        ,\n",
       "        16.5166605 ,  19.5166605 ])"
      ]
     },
     "execution_count": 288,
     "metadata": {},
     "output_type": "execute_result"
    }
   ],
   "source": [
    "params"
   ]
  },
  {
   "cell_type": "markdown",
   "metadata": {},
   "source": [
    "### Crack Edges"
   ]
  },
  {
   "cell_type": "code",
   "execution_count": 221,
   "metadata": {
    "collapsed": false
   },
   "outputs": [],
   "source": [
    "fac = 10.0 # extend crack face by -fac from interfacenode\n",
    "crackatomedges = crackmesh.crack_atom_edges(fac)"
   ]
  },
  {
   "cell_type": "markdown",
   "metadata": {},
   "source": [
    "### Pass Distances"
   ]
  },
  {
   "cell_type": "code",
   "execution_count": 196,
   "metadata": {
    "collapsed": true
   },
   "outputs": [],
   "source": [
    "maxdisttointerface = 1.1*np.sqrt(xthickness**2 + ythickness**2)\n",
    "passdistancectoa = 3.0\n",
    "passdistanceatoc = 8.0"
   ]
  },
  {
   "cell_type": "markdown",
   "metadata": {},
   "source": [
    "### Other"
   ]
  },
  {
   "cell_type": "code",
   "execution_count": 197,
   "metadata": {
    "collapsed": false
   },
   "outputs": [],
   "source": [
    "# may have to fiddle with these\n",
    "dampgamma = 0.1\n",
    "detectiondamp = cdmain.Damping.temp_damping(gamma=dampgamma)\n",
    "mdnincrements = 500\n",
    "mdtimestep = 0.02\n",
    "mnumfe = 1"
   ]
  },
  {
   "cell_type": "markdown",
   "metadata": {},
   "source": [
    "### All"
   ]
  },
  {
   "cell_type": "code",
   "execution_count": 285,
   "metadata": {
    "collapsed": false
   },
   "outputs": [],
   "source": [
    "detection = cdmain.Detection(bandtype=bandtype,damp=detectiondamp,impermissibleedges=crackatomedges,\n",
    "                             mdnincrements=mdnincrements,mdtimestep=mdtimestep,mnumfe=mnumfe,\n",
    "                             params=params,maxdisttointerface=maxdisttointerface,\n",
    "                             passdistanceatoc=passdistanceatoc,passdistancectoa=passdistancectoa)"
   ]
  },
  {
   "cell_type": "markdown",
   "metadata": {},
   "source": [
    "## Everything"
   ]
  },
  {
   "cell_type": "code",
   "execution_count": 286,
   "metadata": {
    "collapsed": false
   },
   "outputs": [],
   "source": [
    "cadddata = cdmain.CADDData(simtype,nfematerials=1,nodes=nodes,materials=[material],misc=misc,groups=None,compute=compute,\n",
    "                               potentials=[potential],interactions=interactions,neighbors=neighbors,damping=damping,\n",
    "                               feelements=[feelements],escapeddisl=[escapeddisl],ghostdisl=[ghostdisl],disl=[disl],\n",
    "                               sources=[sources],obstacles=[obstacles],slipsys=[slipsys],detection=detection)\n",
    "caddsim = cdmain.Simulation(simtype,simname,uidir,fidir,dumpdir,restartdir,data=cadddata)"
   ]
  },
  {
   "cell_type": "markdown",
   "metadata": {},
   "source": [
    "## Write"
   ]
  },
  {
   "cell_type": "code",
   "execution_count": 287,
   "metadata": {
    "collapsed": false
   },
   "outputs": [],
   "source": [
    "caddsim.write_fortran_all()"
   ]
  },
  {
   "cell_type": "markdown",
   "metadata": {},
   "source": [
    "# Restart Simulation"
   ]
  },
  {
   "cell_type": "markdown",
   "metadata": {},
   "source": [
    "# Misc"
   ]
  },
  {
   "cell_type": "markdown",
   "metadata": {},
   "source": [
    "# Dump Files"
   ]
  },
  {
   "cell_type": "code",
   "execution_count": 246,
   "metadata": {
    "collapsed": false
   },
   "outputs": [],
   "source": [
    "fig = caddsim.plot_dump_from_increment(0,fignum=2);"
   ]
  },
  {
   "cell_type": "code",
   "execution_count": 299,
   "metadata": {
    "collapsed": false
   },
   "outputs": [],
   "source": [
    "fig = caddsim.plot_dump_from_increment(6,fignum=2,axisbounds=[-35,35,-35,35]);"
   ]
  },
  {
   "cell_type": "code",
   "execution_count": 304,
   "metadata": {
    "collapsed": false
   },
   "outputs": [],
   "source": [
    "fig = caddsim.plot_dump_from_increment(9,fignum=3,axisbounds=[-35,35,-35,35]);"
   ]
  },
  {
   "cell_type": "code",
   "execution_count": 271,
   "metadata": {
    "collapsed": false
   },
   "outputs": [
    {
     "ename": "FileNotFoundError",
     "evalue": "[Errno 2] No such file or directory: '../Tests/CADD_K_Test/Dump Files/cadd_k_test_medium.41.dump'",
     "output_type": "error",
     "traceback": [
      "\u001b[1;31m---------------------------------------------------------------------------\u001b[0m",
      "\u001b[1;31mFileNotFoundError\u001b[0m                         Traceback (most recent call last)",
      "\u001b[1;32m<ipython-input-271-58031564feb9>\u001b[0m in \u001b[0;36m<module>\u001b[1;34m()\u001b[0m\n\u001b[1;32m----> 1\u001b[1;33m \u001b[0mfig\u001b[0m \u001b[1;33m=\u001b[0m \u001b[0mcaddsim\u001b[0m\u001b[1;33m.\u001b[0m\u001b[0mplot_dump_from_increment\u001b[0m\u001b[1;33m(\u001b[0m\u001b[1;36m41\u001b[0m\u001b[1;33m,\u001b[0m\u001b[0mfignum\u001b[0m\u001b[1;33m=\u001b[0m\u001b[1;36m2\u001b[0m\u001b[1;33m)\u001b[0m\u001b[1;33m;\u001b[0m\u001b[1;33m\u001b[0m\u001b[0m\n\u001b[0m",
      "\u001b[1;32mC:\\Users\\Varun\\Dropbox\\Myself\\PythonModules\\cadd_main.py\u001b[0m in \u001b[0;36mplot_dump_from_increment\u001b[1;34m(self, increment, fignum, **kwargs)\u001b[0m\n\u001b[0;32m     71\u001b[0m         \u001b[1;34m\"\"\"Plots dump file corresponding to a particular increment number\"\"\"\u001b[0m\u001b[1;33m\u001b[0m\u001b[0m\n\u001b[0;32m     72\u001b[0m         \u001b[0mfilepath\u001b[0m \u001b[1;33m=\u001b[0m \u001b[0mself\u001b[0m\u001b[1;33m.\u001b[0m\u001b[0mdump_file_path\u001b[0m\u001b[1;33m(\u001b[0m\u001b[0mincrement\u001b[0m\u001b[1;33m)\u001b[0m\u001b[1;33m\u001b[0m\u001b[0m\n\u001b[1;32m---> 73\u001b[1;33m         \u001b[1;32mreturn\u001b[0m \u001b[0mself\u001b[0m\u001b[1;33m.\u001b[0m\u001b[0mplot_dump_from_file\u001b[0m\u001b[1;33m(\u001b[0m\u001b[0mfilepath\u001b[0m\u001b[1;33m,\u001b[0m\u001b[0mfignum\u001b[0m\u001b[1;33m=\u001b[0m\u001b[0mfignum\u001b[0m\u001b[1;33m,\u001b[0m\u001b[1;33m**\u001b[0m\u001b[0mkwargs\u001b[0m\u001b[1;33m)\u001b[0m\u001b[1;33m\u001b[0m\u001b[0m\n\u001b[0m\u001b[0;32m     74\u001b[0m \u001b[1;33m\u001b[0m\u001b[0m\n\u001b[0;32m     75\u001b[0m     \u001b[1;32mdef\u001b[0m \u001b[0mplot_dump_from_file\u001b[0m\u001b[1;33m(\u001b[0m\u001b[0mself\u001b[0m\u001b[1;33m,\u001b[0m\u001b[0mfilepath\u001b[0m\u001b[1;33m,\u001b[0m\u001b[0mfignum\u001b[0m\u001b[1;33m=\u001b[0m\u001b[1;36m1\u001b[0m\u001b[1;33m,\u001b[0m\u001b[0mpretty\u001b[0m\u001b[1;33m=\u001b[0m\u001b[1;32mTrue\u001b[0m\u001b[1;33m,\u001b[0m\u001b[1;33m**\u001b[0m\u001b[0mkwargs\u001b[0m\u001b[1;33m)\u001b[0m\u001b[1;33m:\u001b[0m\u001b[1;33m\u001b[0m\u001b[0m\n",
      "\u001b[1;32mC:\\Users\\Varun\\Dropbox\\Myself\\PythonModules\\cadd_main.py\u001b[0m in \u001b[0;36mplot_dump_from_file\u001b[1;34m(self, filepath, fignum, pretty, **kwargs)\u001b[0m\n\u001b[0;32m     75\u001b[0m     \u001b[1;32mdef\u001b[0m \u001b[0mplot_dump_from_file\u001b[0m\u001b[1;33m(\u001b[0m\u001b[0mself\u001b[0m\u001b[1;33m,\u001b[0m\u001b[0mfilepath\u001b[0m\u001b[1;33m,\u001b[0m\u001b[0mfignum\u001b[0m\u001b[1;33m=\u001b[0m\u001b[1;36m1\u001b[0m\u001b[1;33m,\u001b[0m\u001b[0mpretty\u001b[0m\u001b[1;33m=\u001b[0m\u001b[1;32mTrue\u001b[0m\u001b[1;33m,\u001b[0m\u001b[1;33m**\u001b[0m\u001b[0mkwargs\u001b[0m\u001b[1;33m)\u001b[0m\u001b[1;33m:\u001b[0m\u001b[1;33m\u001b[0m\u001b[0m\n\u001b[0;32m     76\u001b[0m         \u001b[1;34m\"\"\"Plots dump file corresponding to a particular dump file path\"\"\"\u001b[0m\u001b[1;33m\u001b[0m\u001b[0m\n\u001b[1;32m---> 77\u001b[1;33m         \u001b[0mdumpdict\u001b[0m \u001b[1;33m=\u001b[0m \u001b[0mcdio\u001b[0m\u001b[1;33m.\u001b[0m\u001b[0mread_from_dump\u001b[0m\u001b[1;33m(\u001b[0m\u001b[0mfilepath\u001b[0m\u001b[1;33m)\u001b[0m \u001b[1;31m# read in dump dictionary from file\u001b[0m\u001b[1;33m\u001b[0m\u001b[0m\n\u001b[0m\u001b[0;32m     78\u001b[0m         \u001b[0mcadddump\u001b[0m \u001b[1;33m=\u001b[0m \u001b[0mcddump\u001b[0m\u001b[1;33m.\u001b[0m\u001b[0mCADDDataDump\u001b[0m\u001b[1;33m(\u001b[0m\u001b[0mdumpdict\u001b[0m\u001b[1;33m)\u001b[0m \u001b[1;31m# initialize cadddump object\u001b[0m\u001b[1;33m\u001b[0m\u001b[0m\n\u001b[0;32m     79\u001b[0m         \u001b[0mobjs\u001b[0m \u001b[1;33m=\u001b[0m \u001b[0mself\u001b[0m\u001b[1;33m.\u001b[0m\u001b[0mobjects_to_plot\u001b[0m\u001b[1;33m(\u001b[0m\u001b[1;33m)\u001b[0m \u001b[1;31m# figure out objects to plot (atoms, elements, etc.), based on simtype\u001b[0m\u001b[1;33m\u001b[0m\u001b[0m\n",
      "\u001b[1;32mC:\\Users\\Varun\\Dropbox\\Myself\\PythonModules\\cadd_io.py\u001b[0m in \u001b[0;36mread_from_dump\u001b[1;34m(dumpfile, filetag, endtag)\u001b[0m\n\u001b[0;32m     86\u001b[0m \u001b[1;32mdef\u001b[0m \u001b[0mread_from_dump\u001b[0m\u001b[1;33m(\u001b[0m\u001b[0mdumpfile\u001b[0m\u001b[1;33m,\u001b[0m\u001b[0mfiletag\u001b[0m\u001b[1;33m=\u001b[0m\u001b[1;34m''\u001b[0m\u001b[1;33m,\u001b[0m\u001b[0mendtag\u001b[0m\u001b[1;33m=\u001b[0m\u001b[1;34m'end'\u001b[0m\u001b[1;33m)\u001b[0m\u001b[1;33m:\u001b[0m\u001b[1;33m\u001b[0m\u001b[0m\n\u001b[0;32m     87\u001b[0m     \u001b[0mdatadict\u001b[0m \u001b[1;33m=\u001b[0m \u001b[1;33m{\u001b[0m\u001b[1;33m}\u001b[0m\u001b[1;33m\u001b[0m\u001b[0m\n\u001b[1;32m---> 88\u001b[1;33m     \u001b[1;32mwith\u001b[0m \u001b[0mopen\u001b[0m\u001b[1;33m(\u001b[0m\u001b[0mdumpfile\u001b[0m\u001b[1;33m,\u001b[0m\u001b[1;34m'r'\u001b[0m\u001b[1;33m)\u001b[0m \u001b[1;32mas\u001b[0m \u001b[0mf\u001b[0m\u001b[1;33m:\u001b[0m\u001b[1;33m\u001b[0m\u001b[0m\n\u001b[0m\u001b[0;32m     89\u001b[0m         \u001b[1;32mfor\u001b[0m \u001b[0mkey\u001b[0m\u001b[1;33m,\u001b[0m \u001b[0mvalue\u001b[0m\u001b[1;33m,\u001b[0m \u001b[0m_\u001b[0m \u001b[1;32min\u001b[0m \u001b[0myield_file_items\u001b[0m\u001b[1;33m(\u001b[0m\u001b[0mf\u001b[0m\u001b[1;33m,\u001b[0m\u001b[0mfiletag\u001b[0m\u001b[1;33m)\u001b[0m\u001b[1;33m:\u001b[0m \u001b[1;31m# filetag is not used here\u001b[0m\u001b[1;33m\u001b[0m\u001b[0m\n\u001b[0;32m     90\u001b[0m             \u001b[0mgenernew\u001b[0m \u001b[1;33m=\u001b[0m \u001b[0mMio\u001b[0m\u001b[1;33m.\u001b[0m\u001b[0myield_until\u001b[0m\u001b[1;33m(\u001b[0m\u001b[0mf\u001b[0m\u001b[1;33m,\u001b[0m\u001b[0mendtag\u001b[0m\u001b[1;33m)\u001b[0m\u001b[1;33m\u001b[0m\u001b[0m\n",
      "\u001b[1;31mFileNotFoundError\u001b[0m: [Errno 2] No such file or directory: '../Tests/CADD_K_Test/Dump Files/cadd_k_test_medium.41.dump'"
     ]
    }
   ],
   "source": [
    "fig = caddsim.plot_dump_from_increment(41,fignum=2);"
   ]
  },
  {
   "cell_type": "code",
   "execution_count": null,
   "metadata": {
    "collapsed": false
   },
   "outputs": [],
   "source": [
    "mu = tunablepotential.elasticdict('hex')['66']\n",
    "cR = 0.92*np.sqrt(mu/tunablepotential.rho)\n",
    "cR"
   ]
  },
  {
   "cell_type": "code",
   "execution_count": null,
   "metadata": {
    "collapsed": false
   },
   "outputs": [],
   "source": [
    "0.5e-9*timefac"
   ]
  },
  {
   "cell_type": "code",
   "execution_count": null,
   "metadata": {
    "collapsed": true
   },
   "outputs": [],
   "source": []
  }
 ],
 "metadata": {
  "kernelspec": {
   "display_name": "Python 3",
   "language": "python",
   "name": "python3"
  },
  "language_info": {
   "codemirror_mode": {
    "name": "ipython",
    "version": 3
   },
   "file_extension": ".py",
   "mimetype": "text/x-python",
   "name": "python",
   "nbconvert_exporter": "python",
   "pygments_lexer": "ipython3",
   "version": "3.5.1"
  }
 },
 "nbformat": 4,
 "nbformat_minor": 0
}
