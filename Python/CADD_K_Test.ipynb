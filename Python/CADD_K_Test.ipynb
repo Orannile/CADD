{
 "cells": [
  {
   "cell_type": "code",
   "execution_count": 82,
   "metadata": {
    "collapsed": false
   },
   "outputs": [
    {
     "name": "stdout",
     "output_type": "stream",
     "text": [
      "The autoreload extension is already loaded. To reload it, use:\n",
      "  %reload_ext autoreload\n"
     ]
    }
   ],
   "source": [
    "import numpy as np\n",
    "import matplotlib as mpl\n",
    "import matplotlib.pyplot as plt\n",
    "import cadd_io as cdio\n",
    "import cadd_main as cdmain\n",
    "import mdutilities_io as mduio\n",
    "import mymath as Mmath\n",
    "import copy\n",
    "import my_plot as myplot\n",
    "import cadddatadump as cddump\n",
    "import cadd_mesh2 as cdmesh\n",
    "import cadd\n",
    "import itertools\n",
    "import newpotential as newpot\n",
    "import tabularpotential as tabpot\n",
    "import crystallography_oo as croo\n",
    "import lineplot_oo3 as lpoo\n",
    "%matplotlib qt\n",
    "%load_ext autoreload\n",
    "%autoreload 2"
   ]
  },
  {
   "cell_type": "markdown",
   "metadata": {},
   "source": [
    "# Preliminaries"
   ]
  },
  {
   "cell_type": "markdown",
   "metadata": {},
   "source": [
    "## Directories"
   ]
  },
  {
   "cell_type": "code",
   "execution_count": 83,
   "metadata": {
    "collapsed": false
   },
   "outputs": [],
   "source": [
    "maindir = '../Tests/CADD_K_Test/'\n",
    "uidir = maindir + 'User Inputs/'\n",
    "fidir = maindir + 'Fortran Inputs/'\n",
    "dumpdir = maindir + 'Dump Files/'\n",
    "simname = 'cadd_k_test'\n",
    "simtype = 'cadd'"
   ]
  },
  {
   "cell_type": "code",
   "execution_count": 84,
   "metadata": {
    "collapsed": false
   },
   "outputs": [],
   "source": [
    "size = 'large'\n",
    "if size == 'small':\n",
    "    ferings = 5\n",
    "elif size == 'medium':\n",
    "    ferings = 14\n",
    "elif size == 'large':\n",
    "    ferings = 24\n",
    "simname += '_' + size"
   ]
  },
  {
   "cell_type": "markdown",
   "metadata": {},
   "source": [
    "## Unit System"
   ]
  },
  {
   "cell_type": "code",
   "execution_count": 85,
   "metadata": {
    "collapsed": false
   },
   "outputs": [],
   "source": [
    "# LJ\n",
    "r0 = 1.0\n",
    "Alr0 = 125e-12\n",
    "Almass = (27)/(6.02e23)\n",
    "# Alcohenergy = 5.4e-19 # cohesive energy/atom\n",
    "Almu = 28e12\n",
    "Altime = np.sqrt(Almass/(Almu*Alr0))\n",
    "myr0 = r0\n",
    "mymass = 1.0\n",
    "mymu = 13.4\n",
    "# mycohenergy = 6.0\n",
    "mytime = np.sqrt(mymass/(mymu*myr0))\n",
    "lengthfac = myr0/Alr0\n",
    "timefac = mytime/Altime\n",
    "massfac = mymass/Almass\n",
    "stressfac = massfac/(lengthfac*timefac**2)"
   ]
  },
  {
   "cell_type": "code",
   "execution_count": 86,
   "metadata": {
    "collapsed": false
   },
   "outputs": [
    {
     "data": {
      "text/plain": [
       "0.00011549009898239314"
      ]
     },
     "execution_count": 86,
     "metadata": {},
     "output_type": "execute_result"
    }
   ],
   "source": [
    "1e-4*stressfac*timefac"
   ]
  },
  {
   "cell_type": "markdown",
   "metadata": {},
   "source": [
    "# Create Inputs"
   ]
  },
  {
   "cell_type": "markdown",
   "metadata": {},
   "source": [
    "## Nodes/Elements"
   ]
  },
  {
   "cell_type": "markdown",
   "metadata": {},
   "source": [
    "### Create Mesh"
   ]
  },
  {
   "cell_type": "code",
   "execution_count": 87,
   "metadata": {
    "collapsed": false
   },
   "outputs": [],
   "source": [
    "padx, pady = 5, 5\n",
    "lx, ly = 42, 45 # gives roughly 2500 atoms (including pad, interface)\n",
    "xy = cadd.simple_hex_lattice(lx+padx,ly+pady,r0=r0) # make box slightly larger to accommodate pad\n",
    "meshnodes = cdmesh.Nodes(xy)\n",
    "mesh = cdmesh.MeshTri(nodes=meshnodes)\n",
    "meshnodes = mesh.nodes\n",
    "interfacebox = meshnodes.gen_interface_and_pad(np.array([-lx/2,lx/2,-ly/2,ly/2]))\n",
    "boxold = copy.copy(interfacebox)\n",
    "for i in range(ferings):\n",
    "    nnodesvec = [line.get_nnodes() for line in boxold.lines]\n",
    "    if i < 10:\n",
    "        if i%3 == 0:\n",
    "            ring = cdmesh.RingCollapseMixed(boxold)\n",
    "        else:\n",
    "            ring = cdmesh.RingExtend(boxold)\n",
    "    else:\n",
    "        ring = cdmesh.RingCollapseMixed(boxold)\n",
    "    mesh.add_ring(ring)\n",
    "    boxold = ring.boxnew"
   ]
  },
  {
   "cell_type": "code",
   "execution_count": 88,
   "metadata": {
    "collapsed": false
   },
   "outputs": [],
   "source": [
    "# k-field will be imposed on outer boundary\n",
    "outernodes = boxold.all_nodes\n",
    "meshnodes.set_node_bc(outernodes,3) # outer nodes are completely fixed"
   ]
  },
  {
   "cell_type": "markdown",
   "metadata": {},
   "source": [
    "### Fix Mesh to Account for Crack Plane"
   ]
  },
  {
   "cell_type": "code",
   "execution_count": 89,
   "metadata": {
    "collapsed": false
   },
   "outputs": [],
   "source": [
    "# crack line and nodes\n",
    "idx = np.argmin(np.abs(meshnodes.xy[:,1]))\n",
    "ycrack = meshnodes.xy[idx,1]\n",
    "crackline = cdmesh.Line([-np.inf,ycrack],[0.0,ycrack])\n",
    "nodenums = meshnodes.search_for_nodes_along_line(crackline)"
   ]
  },
  {
   "cell_type": "code",
   "execution_count": 90,
   "metadata": {
    "collapsed": false
   },
   "outputs": [],
   "source": [
    "# construct new nodes\n",
    "# the bit with ydisp is a bit kludgy, and might depend on the specific mesh...\n",
    "mapping = {}\n",
    "ydisp = r0*np.sqrt(3)/2 # atomic spacing in y-direction\n",
    "ydispvec = np.array([0,ydisp])\n",
    "ydispvecatom = np.array([r0/2,ydisp])\n",
    "defaultfetype = cdmesh.Nodes.defaultfetype\n",
    "for nodenum in nodenums:\n",
    "    posn = meshnodes.xy[nodenum,:]\n",
    "    nodetype = meshnodes.types[nodenum,:]\n",
    "    if nodetype[1] in [0,2]: # FE node or interface atom\n",
    "        if nodetype[1] == 2: # interface atom must be moved\n",
    "            posnnew = posn + ydispvecatom\n",
    "            nodenew = meshnodes.closest_node(posnnew)\n",
    "        else:\n",
    "            posnnew = posn + ydispvec\n",
    "            nodenew = meshnodes.add_node(posnnew,defaultfetype)\n",
    "        meshnodes.types[nodenew,:] = nodetype # retain type and bc of old node\n",
    "        mapping[nodenum] = nodenew  "
   ]
  },
  {
   "cell_type": "code",
   "execution_count": 91,
   "metadata": {
    "collapsed": false
   },
   "outputs": [],
   "source": [
    "# this modifies the element while it's being looped over, which is dangerous\n",
    "for i, element in enumerate(mesh.elements):\n",
    "    common = np.intersect1d(element,nodenums,assume_unique=True)\n",
    "    if common.size: # nodenum belongs to element\n",
    "        pts = meshnodes.get_points(element)\n",
    "        yelementcenter = np.mean(pts,axis=0)[1]\n",
    "        if Mmath.same_sign(yelementcenter-ycrack,ydisp): # only create a new element if the element center is on one side of ycrack\n",
    "            for nodeold in common:\n",
    "                nodenew = mapping[nodeold]\n",
    "                np.place(element,element==nodeold,nodenew) # replace old num with new num"
   ]
  },
  {
   "cell_type": "code",
   "execution_count": 92,
   "metadata": {
    "collapsed": false
   },
   "outputs": [],
   "source": [
    "# fudge fe node positions slightly to ensure pad atoms are within an element\n",
    "yfudge = ydisp/20\n",
    "ydispvec = np.array([0,np.copysign(yfudge,ydisp)])\n",
    "for nodeold, nodenew in mapping.items():\n",
    "    if meshnodes.types[nodeold,1] == 0: # not an interface node (which should remain fixed)\n",
    "        meshnodes.xy[nodeold,:] += ydispvec\n",
    "        meshnodes.xy[nodenew,:] -= ydispvec"
   ]
  },
  {
   "cell_type": "markdown",
   "metadata": {},
   "source": [
    "### Plot"
   ]
  },
  {
   "cell_type": "code",
   "execution_count": 93,
   "metadata": {
    "collapsed": false
   },
   "outputs": [],
   "source": [
    "mesh.write_dump_all('test.6.dump')\n",
    "sim = cdmain.Simulation('cadd_nodisl','test',readinput=False)\n",
    "# fig = sim.plot_dump_from_file('test.6.dump',axisbounds=interfacebox.bounds)"
   ]
  },
  {
   "cell_type": "markdown",
   "metadata": {},
   "source": [
    "### Nodes"
   ]
  },
  {
   "cell_type": "code",
   "execution_count": 94,
   "metadata": {
    "collapsed": false
   },
   "outputs": [],
   "source": [
    "n = meshnodes.xy.shape[0]\n",
    "z = np.zeros((n,))\n",
    "posn = np.column_stack((meshnodes.xy,z)) # z-coordinate = 0\n",
    "nodes = cdmain.Nodes(posn=posn,types=meshnodes.types)"
   ]
  },
  {
   "cell_type": "markdown",
   "metadata": {},
   "source": [
    "### FE Elements"
   ]
  },
  {
   "cell_type": "code",
   "execution_count": 95,
   "metadata": {
    "collapsed": false
   },
   "outputs": [],
   "source": [
    "feelements = cdmain.FEElement(elname='CPE3',mnum=1,\n",
    "                              connect=mesh.elements_dump) # elements_dump fixes off by 1 indexing issue"
   ]
  },
  {
   "cell_type": "markdown",
   "metadata": {},
   "source": [
    "## Potential"
   ]
  },
  {
   "cell_type": "code",
   "execution_count": 96,
   "metadata": {
    "collapsed": false
   },
   "outputs": [],
   "source": [
    "inter1new = newpot.gen_std_potential(ductilityindex=5,dimensions=2,r0=1)"
   ]
  },
  {
   "cell_type": "code",
   "execution_count": 97,
   "metadata": {
    "collapsed": false
   },
   "outputs": [],
   "source": [
    "rminsmall, rmin, rmax = 0.01, 0.1, 2.0\n",
    "npoints = 3000\n",
    "rvec = np.linspace(rmin,rmax,npoints)\n",
    "rvec = np.insert(rvec,0,rminsmall)\n",
    "pottable = inter1new.get_energy_force_table(rvec)"
   ]
  },
  {
   "cell_type": "code",
   "execution_count": 98,
   "metadata": {
    "collapsed": false
   },
   "outputs": [],
   "source": [
    "inter1new.write_file_lammps('inter1newnorm',np.linspace(0.1,3.0,3000),extend=True)"
   ]
  },
  {
   "cell_type": "code",
   "execution_count": 99,
   "metadata": {
    "collapsed": false
   },
   "outputs": [],
   "source": [
    "# Energy plot\n",
    "# lpoo.my_quick_plot([pottable[:,[0,1]]],axisbounds=[0.5,2,-1.1,3])"
   ]
  },
  {
   "cell_type": "code",
   "execution_count": 100,
   "metadata": {
    "collapsed": false
   },
   "outputs": [],
   "source": [
    "rnnn = np.sqrt(3)*r0 # 2nd nearest neighbor\n",
    "potential = cdmain.Potential(pname='inter1new',forcecutoff=rnnn,pottable=pottable)"
   ]
  },
  {
   "cell_type": "markdown",
   "metadata": {},
   "source": [
    "## Material"
   ]
  },
  {
   "cell_type": "markdown",
   "metadata": {},
   "source": [
    "### Elastic constants"
   ]
  },
  {
   "cell_type": "code",
   "execution_count": 101,
   "metadata": {
    "collapsed": false
   },
   "outputs": [],
   "source": [
    "elasticdict = inter1new.elasticdict('hex')\n",
    "mymat = croo.Material('hex',elasticdict)\n",
    "elconst = mymat.voigt_plane_strain_stiffness"
   ]
  },
  {
   "cell_type": "markdown",
   "metadata": {},
   "source": [
    "### Dislocation stuff"
   ]
  },
  {
   "cell_type": "code",
   "execution_count": 102,
   "metadata": {
    "collapsed": false
   },
   "outputs": [],
   "source": [
    "lannih = 6*r0\n",
    "aluminumdislvmax = 1000\n",
    "mydislvmax = aluminumdislvmax*(lengthfac/timefac)\n",
    "aluminumdisldrag = 1e-4\n",
    "mydisldrag = aluminumdisldrag*(stressfac*timefac)"
   ]
  },
  {
   "cell_type": "code",
   "execution_count": 103,
   "metadata": {
    "collapsed": false
   },
   "outputs": [],
   "source": [
    "material = cdmain.Material(burgers=r0,disldrag=0.0,dislvmax=0.0,elconst=elconst,lannih=6*r0,lattice='hex',mass=1.0,\n",
    "                           mname='material1',rho=rho)"
   ]
  },
  {
   "cell_type": "markdown",
   "metadata": {},
   "source": [
    "## Misc"
   ]
  },
  {
   "cell_type": "code",
   "execution_count": 104,
   "metadata": {
    "collapsed": false
   },
   "outputs": [],
   "source": [
    "misc = cdmain.Misc(increments=100,timestep=0.02,iscrackproblem=True,potstyle='table')"
   ]
  },
  {
   "cell_type": "markdown",
   "metadata": {},
   "source": [
    "## Interactions"
   ]
  },
  {
   "cell_type": "code",
   "execution_count": 105,
   "metadata": {
    "collapsed": false
   },
   "outputs": [],
   "source": [
    "interactions = cdmain.Interactions(table=np.array([[1,1,1]]))"
   ]
  },
  {
   "cell_type": "markdown",
   "metadata": {},
   "source": [
    "## Neighbors"
   ]
  },
  {
   "cell_type": "code",
   "execution_count": 106,
   "metadata": {
    "collapsed": false
   },
   "outputs": [],
   "source": [
    "neighbors = cdmain.Neighbors(checkdisp=True,every=0,delay=5,images=0,Lz=1.0,skin=0.3)"
   ]
  },
  {
   "cell_type": "markdown",
   "metadata": {},
   "source": [
    "## Damping"
   ]
  },
  {
   "cell_type": "code",
   "execution_count": 107,
   "metadata": {
    "collapsed": false
   },
   "outputs": [],
   "source": [
    "gamma = 0.1 # may need to fiddle with this\n",
    "damping = cdmain.Damping(flag=True,gname='all',gamma=gamma)"
   ]
  },
  {
   "cell_type": "markdown",
   "metadata": {},
   "source": [
    "## DD Stuff"
   ]
  },
  {
   "cell_type": "code",
   "execution_count": 108,
   "metadata": {
    "collapsed": false
   },
   "outputs": [],
   "source": [
    "# no dislocations, sources, or obstacles\n",
    "escapeddisl = cdmain.EscapedDislocations()\n",
    "ghostdisl = cdmain.GhostDislocations()\n",
    "disl = cdmain.Dislocations()\n",
    "sources = cdmain.Sources()\n",
    "obstacles = cdmain.Obstacles()"
   ]
  },
  {
   "cell_type": "markdown",
   "metadata": {},
   "source": [
    "### Slip Systems"
   ]
  },
  {
   "cell_type": "code",
   "execution_count": 109,
   "metadata": {
    "collapsed": true
   },
   "outputs": [],
   "source": [
    "# just a few slip planes accessible from atomistic region (i.e., close to the origin)\n",
    "# fudges are to ensure full coverage\n",
    "nslipsys = 3\n",
    "xmin, xmax, ymin, ymax = interfacebox.bounds\n",
    "fudge, fudge2 = 1.1, 1.5\n",
    "planespacing = r0*np.sqrt(3)/2\n",
    "maxdist = fudge*np.sqrt((xmax-xmin)**2 + (ymax-ymin)**2)\n",
    "nplanes = fudge2*int(round(maxdist/planespacing))"
   ]
  },
  {
   "cell_type": "code",
   "execution_count": 110,
   "metadata": {
    "collapsed": true
   },
   "outputs": [],
   "source": [
    "# recall that origin is at very edge of slip system --- slip planes should be built up in only one direction\n",
    "theta = np.empty((nslipsys,))\n",
    "origin = np.empty((nslipsys,2))\n",
    "nslipplanes = nplanes*np.ones((nslipsys,))\n",
    "spacing = planespacing*np.ones((nslipsys,))"
   ]
  },
  {
   "cell_type": "markdown",
   "metadata": {},
   "source": [
    "#### System 1 (theta = 0)"
   ]
  },
  {
   "cell_type": "code",
   "execution_count": 111,
   "metadata": {
    "collapsed": false
   },
   "outputs": [],
   "source": [
    "theta[0] = 0.0\n",
    "origin[0,:] = np.array([0,fudge*ymin])"
   ]
  },
  {
   "cell_type": "markdown",
   "metadata": {},
   "source": [
    "#### System 2 (theta = 60)"
   ]
  },
  {
   "cell_type": "code",
   "execution_count": 112,
   "metadata": {
    "collapsed": true
   },
   "outputs": [],
   "source": [
    "theta[1] = np.pi/3\n",
    "origin[1,:] = np.array([fudge*xmax,fudge*ymin])"
   ]
  },
  {
   "cell_type": "markdown",
   "metadata": {},
   "source": [
    "#### System 3 (theta = -60)"
   ]
  },
  {
   "cell_type": "code",
   "execution_count": 113,
   "metadata": {
    "collapsed": true
   },
   "outputs": [],
   "source": [
    "theta[2] = -np.pi/3\n",
    "origin[2,:] = np.array([fudge*xmin,fudge*ymin])"
   ]
  },
  {
   "cell_type": "code",
   "execution_count": 114,
   "metadata": {
    "collapsed": false
   },
   "outputs": [
    {
     "ename": "AttributeError",
     "evalue": "'SlipSystem' object has no attribute '_norigincheck'",
     "output_type": "error",
     "traceback": [
      "\u001b[1;31m---------------------------------------------------------------------------\u001b[0m",
      "\u001b[1;31mAttributeError\u001b[0m                            Traceback (most recent call last)",
      "\u001b[1;32m<ipython-input-114-db7a6e30dd66>\u001b[0m in \u001b[0;36m<module>\u001b[1;34m()\u001b[0m\n\u001b[1;32m----> 1\u001b[1;33m \u001b[0mslipsys\u001b[0m \u001b[1;33m=\u001b[0m \u001b[0mcdmain\u001b[0m\u001b[1;33m.\u001b[0m\u001b[0mSlipSystem\u001b[0m\u001b[1;33m(\u001b[0m\u001b[0mtheta\u001b[0m\u001b[1;33m=\u001b[0m\u001b[0mtheta\u001b[0m\u001b[1;33m,\u001b[0m\u001b[0morigin\u001b[0m\u001b[1;33m=\u001b[0m\u001b[0morigin\u001b[0m\u001b[1;33m,\u001b[0m\u001b[0mnslipplanes\u001b[0m\u001b[1;33m=\u001b[0m\u001b[0mnslipplanes\u001b[0m\u001b[1;33m,\u001b[0m\u001b[0mspace\u001b[0m\u001b[1;33m=\u001b[0m\u001b[0mspacing\u001b[0m\u001b[1;33m)\u001b[0m\u001b[1;33m\u001b[0m\u001b[0m\n\u001b[0m",
      "\u001b[1;32mC:\\Users\\Varun\\Dropbox\\Myself\\PythonModules\\cadd_main.py\u001b[0m in \u001b[0;36m__init__\u001b[1;34m(self, nslipplanes, origin, space, theta)\u001b[0m\n\u001b[0;32m    583\u001b[0m     \u001b[1;32mdef\u001b[0m \u001b[0m__init__\u001b[0m\u001b[1;33m(\u001b[0m\u001b[0mself\u001b[0m\u001b[1;33m,\u001b[0m\u001b[0mnslipplanes\u001b[0m\u001b[1;33m=\u001b[0m\u001b[1;32mNone\u001b[0m\u001b[1;33m,\u001b[0m\u001b[0morigin\u001b[0m\u001b[1;33m=\u001b[0m\u001b[1;32mNone\u001b[0m\u001b[1;33m,\u001b[0m\u001b[0mspace\u001b[0m\u001b[1;33m=\u001b[0m\u001b[1;32mNone\u001b[0m\u001b[1;33m,\u001b[0m\u001b[0mtheta\u001b[0m\u001b[1;33m=\u001b[0m\u001b[1;32mNone\u001b[0m\u001b[1;33m)\u001b[0m\u001b[1;33m:\u001b[0m\u001b[1;33m\u001b[0m\u001b[0m\n\u001b[0;32m    584\u001b[0m         \u001b[0mself\u001b[0m\u001b[1;33m.\u001b[0m\u001b[0mnslipplanes\u001b[0m \u001b[1;33m=\u001b[0m \u001b[0mArrayData\u001b[0m\u001b[1;33m(\u001b[0m\u001b[0mnslipplanes\u001b[0m\u001b[1;33m,\u001b[0m\u001b[1;34m'Number of planes in slip system'\u001b[0m\u001b[1;33m,\u001b[0m\u001b[0mint\u001b[0m\u001b[1;33m,\u001b[0m\u001b[1;33m[\u001b[0m\u001b[1;32mNone\u001b[0m\u001b[1;33m]\u001b[0m\u001b[1;33m)\u001b[0m\u001b[1;33m\u001b[0m\u001b[0m\n\u001b[1;32m--> 585\u001b[1;33m         \u001b[0mself\u001b[0m\u001b[1;33m.\u001b[0m\u001b[0morigin\u001b[0m \u001b[1;33m=\u001b[0m \u001b[0mArrayData\u001b[0m\u001b[1;33m(\u001b[0m\u001b[0morigin\u001b[0m\u001b[1;33m,\u001b[0m\u001b[1;34m'Origin of slip system'\u001b[0m\u001b[1;33m,\u001b[0m\u001b[0mfloat\u001b[0m\u001b[1;33m,\u001b[0m\u001b[1;33m[\u001b[0m\u001b[1;32mNone\u001b[0m\u001b[1;33m,\u001b[0m\u001b[0mself\u001b[0m\u001b[1;33m.\u001b[0m\u001b[0m_norigincheck\u001b[0m\u001b[1;33m]\u001b[0m\u001b[1;33m)\u001b[0m\u001b[1;33m\u001b[0m\u001b[0m\n\u001b[0m\u001b[0;32m    586\u001b[0m         \u001b[0mself\u001b[0m\u001b[1;33m.\u001b[0m\u001b[0mspace\u001b[0m \u001b[1;33m=\u001b[0m \u001b[0mArrayData\u001b[0m\u001b[1;33m(\u001b[0m\u001b[0mspace\u001b[0m\u001b[1;33m,\u001b[0m\u001b[1;34m'Spacing of slip planes'\u001b[0m\u001b[1;33m,\u001b[0m\u001b[0mfloat\u001b[0m\u001b[1;33m,\u001b[0m\u001b[1;33m[\u001b[0m\u001b[1;32mNone\u001b[0m\u001b[1;33m]\u001b[0m\u001b[1;33m)\u001b[0m\u001b[1;33m\u001b[0m\u001b[0m\n\u001b[0;32m    587\u001b[0m         \u001b[0mself\u001b[0m\u001b[1;33m.\u001b[0m\u001b[0mtheta\u001b[0m \u001b[1;33m=\u001b[0m \u001b[0mArrayData\u001b[0m\u001b[1;33m(\u001b[0m\u001b[0mtheta\u001b[0m\u001b[1;33m,\u001b[0m\u001b[1;34m'Angle of slip system'\u001b[0m\u001b[1;33m,\u001b[0m\u001b[0mfloat\u001b[0m\u001b[1;33m,\u001b[0m\u001b[1;33m[\u001b[0m\u001b[1;32mNone\u001b[0m\u001b[1;33m]\u001b[0m\u001b[1;33m)\u001b[0m\u001b[1;33m\u001b[0m\u001b[0m\n",
      "\u001b[1;31mAttributeError\u001b[0m: 'SlipSystem' object has no attribute '_norigincheck'"
     ]
    }
   ],
   "source": [
    "slipsys = cdmain.SlipSystem(theta=theta,origin=origin,nslipplanes=nslipplanes,space=spacing)"
   ]
  },
  {
   "cell_type": "markdown",
   "metadata": {},
   "source": [
    "## Detection"
   ]
  },
  {
   "cell_type": "markdown",
   "metadata": {},
   "source": [
    "### Interface Edges"
   ]
  },
  {
   "cell_type": "code",
   "execution_count": null,
   "metadata": {
    "collapsed": true
   },
   "outputs": [],
   "source": [
    "def interface_edges(meshnodes,ydispvec,interfaceboxactual):\n",
    "    nnodes = meshnodes.nnodes\n",
    "    auxlist = np.arange(0,nnodes)\n",
    "    interfacenodesidx = meshnodes.types[:,1] == 2\n",
    "    xynew = meshnodes.xy[interfacenodesidx,:]\n",
    "    auxlistnew = auxlist[interfacenodesidx]\n",
    "    def closest_node(pt):\n",
    "        dist = np.linalg.norm(xynew - pt, axis=1)\n",
    "        idx = np.argmin(dist)\n",
    "        return auxlistnew[idx]\n",
    "    ptsall = [[line.startpoint,line.endpoint] for line in interfacebox.lines]\n",
    "    interfaceedges = [[closest_node(pt) for pt in pts] for pts in ptsall]\n",
    "    return np.array(interfaceedges)"
   ]
  },
  {
   "cell_type": "code",
   "execution_count": null,
   "metadata": {
    "collapsed": false
   },
   "outputs": [],
   "source": [
    "interfaceedges = interface_edges(meshnodes,ydispvec,interfacebox)"
   ]
  },
  {
   "cell_type": "markdown",
   "metadata": {},
   "source": [
    "### Detection Annulus"
   ]
  },
  {
   "cell_type": "code",
   "execution_count": null,
   "metadata": {
    "collapsed": false
   },
   "outputs": [],
   "source": [
    "bandtype = 'rect_annulus'\n",
    "ptsall = np.array([line.startpoint for line in interfacebox.lines])\n",
    "boxcenter = np.mean(ptsall,axis=0)\n",
    "_, xmax, _, ymax = interfacebox.bounds\n",
    "halfLxouter = xmax - boxcenter[0]\n",
    "halfLyouter = ymax - boxcenter[1]"
   ]
  },
  {
   "cell_type": "code",
   "execution_count": null,
   "metadata": {
    "collapsed": true
   },
   "outputs": [],
   "source": [
    "xthickness, ythickness = 5, 5\n",
    "halfLxinner = halfLxouter - xthickness\n",
    "halfLyinner = halfLyouter - ythickness\n",
    "passdistance = np.sqrt(xthickness**2 + ythickness**2)"
   ]
  },
  {
   "cell_type": "code",
   "execution_count": null,
   "metadata": {
    "collapsed": false
   },
   "outputs": [],
   "source": [
    "params = np.array([boxcenter[0],boxcenter[1],halfLxinner,halfLxouter,halfLyinner,halfLyouter])"
   ]
  },
  {
   "cell_type": "markdown",
   "metadata": {},
   "source": [
    "### Other"
   ]
  },
  {
   "cell_type": "code",
   "execution_count": null,
   "metadata": {
    "collapsed": false
   },
   "outputs": [],
   "source": [
    "# may have to fiddle with these\n",
    "dampgamma = 0.1\n",
    "detectiondamp = cdmain.Damping.temp_damping(gamma=dampgamma)\n",
    "mdnincrements = 500\n",
    "mdtimestep = 0.02\n",
    "mnumfe = 1"
   ]
  },
  {
   "cell_type": "markdown",
   "metadata": {},
   "source": [
    "### All"
   ]
  },
  {
   "cell_type": "code",
   "execution_count": null,
   "metadata": {
    "collapsed": false
   },
   "outputs": [],
   "source": [
    "detection = cdmain.Detection(bandtype=bandtype,damp=detectiondamp,interfaceedges=interfaceedges,\n",
    "                             mdnincrements=mdnincrements,mdtimestep=mdtimestep,mnumfe=mnumfe,\n",
    "                             params=params,passdistance=passdistance)"
   ]
  },
  {
   "cell_type": "markdown",
   "metadata": {},
   "source": [
    "## Everything"
   ]
  },
  {
   "cell_type": "code",
   "execution_count": null,
   "metadata": {
    "collapsed": false
   },
   "outputs": [],
   "source": [
    "cadddata = cdmain.CADDData(simtype,nfematerials=1,nodes=nodes,materials=[material],misc=misc,groups=None,\n",
    "                               potentials=[potential],interactions=interactions,neighbors=neighbors,damping=damping,\n",
    "                               feelements=[feelements],escapeddisl=[escapeddisl],ghostdisl=[ghostdisl],disl=[disl],\n",
    "                               sources=[sources],obstacles=[obstacles],slipsys=[slipsys],detection=detection)\n",
    "caddsim = cdmain.Simulation(simtype,simname,uidir,fidir,dumpdir,data=cadddata)\n",
    "caddsim.data.check_data()"
   ]
  },
  {
   "cell_type": "markdown",
   "metadata": {},
   "source": [
    "## Write"
   ]
  },
  {
   "cell_type": "code",
   "execution_count": null,
   "metadata": {
    "collapsed": false
   },
   "outputs": [],
   "source": [
    "caddsim.write_fortran_all()"
   ]
  },
  {
   "cell_type": "markdown",
   "metadata": {},
   "source": [
    "# Misc"
   ]
  },
  {
   "cell_type": "markdown",
   "metadata": {},
   "source": [
    "# Dump Files"
   ]
  },
  {
   "cell_type": "code",
   "execution_count": null,
   "metadata": {
    "collapsed": false
   },
   "outputs": [],
   "source": [
    "fig = caddsim.plot_dump_from_increment(7,tight=False,fignum=1,axisbounds=[-5,5,-5,5]);"
   ]
  },
  {
   "cell_type": "code",
   "execution_count": null,
   "metadata": {
    "collapsed": false
   },
   "outputs": [],
   "source": [
    "fig = caddsim.plot_dump_from_increment(9,tight=False,fignum=2,axisbounds=[-30,30,-30,30]);"
   ]
  },
  {
   "cell_type": "code",
   "execution_count": null,
   "metadata": {
    "collapsed": false
   },
   "outputs": [],
   "source": [
    "brittlenew.rho"
   ]
  },
  {
   "cell_type": "code",
   "execution_count": null,
   "metadata": {
    "collapsed": false
   },
   "outputs": [],
   "source": []
  }
 ],
 "metadata": {
  "kernelspec": {
   "display_name": "Python 3",
   "language": "python",
   "name": "python3"
  },
  "language_info": {
   "codemirror_mode": {
    "name": "ipython",
    "version": 3
   },
   "file_extension": ".py",
   "mimetype": "text/x-python",
   "name": "python",
   "nbconvert_exporter": "python",
   "pygments_lexer": "ipython3",
   "version": "3.5.1"
  }
 },
 "nbformat": 4,
 "nbformat_minor": 0
}
