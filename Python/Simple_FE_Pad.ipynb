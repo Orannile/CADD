{
 "metadata": {
  "name": "",
  "signature": "sha256:01aae5b40137be908edc2ca27b2d3ee1c6b3f7fdb036150ac8d244bfcdf40b91"
 },
 "nbformat": 3,
 "nbformat_minor": 0,
 "worksheets": [
  {
   "cells": [
    {
     "cell_type": "code",
     "collapsed": false,
     "input": [
      "import numpy as np\n",
      "import matplotlib as mpl\n",
      "import matplotlib.pyplot as plt\n",
      "import cadd_io as cdio\n",
      "import cadd_io_struct_new3 as cdiosn3\n",
      "import mdutilities_io as mduio\n",
      "import mymath as Mmath\n",
      "import scipy.interpolate as spi\n",
      "import my_plot as myplot\n",
      "import cadddatadump as cddump\n",
      "%matplotlib qt\n",
      "%load_ext autoreload\n",
      "%autoreload 2"
     ],
     "language": "python",
     "metadata": {},
     "outputs": [],
     "prompt_number": 1
    },
    {
     "cell_type": "code",
     "collapsed": false,
     "input": [
      "simtype = 'cadd_nodisl'"
     ],
     "language": "python",
     "metadata": {},
     "outputs": [],
     "prompt_number": 2
    },
    {
     "cell_type": "heading",
     "level": 1,
     "metadata": {},
     "source": [
      "Tension"
     ]
    },
    {
     "cell_type": "heading",
     "level": 2,
     "metadata": {},
     "source": [
      "Inputs"
     ]
    },
    {
     "cell_type": "code",
     "collapsed": false,
     "input": [
      "maindir = '../Tests/Simple_FE_Pad/'\n",
      "simname = 'simple_fe_pad'\n",
      "uidir = maindir + 'User Inputs/'\n",
      "fidir = maindir + 'Fortran Inputs/'\n",
      "restartdir = maindir + 'Restart Files/'\n",
      "dumpdir = maindir + 'Dump Files/'"
     ],
     "language": "python",
     "metadata": {},
     "outputs": [],
     "prompt_number": 4
    },
    {
     "cell_type": "code",
     "collapsed": false,
     "input": [
      "# instantiate Simulation object, populate by reading from user inputs\n",
      "cadddata = cdiosn3.Simulation(simtype,simname,uidir,fidir,dumpdir)\n",
      "\n",
      "# write to fortran inputs\n",
      "cadddata.write_fortran_all()"
     ],
     "language": "python",
     "metadata": {},
     "outputs": [],
     "prompt_number": 6
    },
    {
     "cell_type": "heading",
     "level": 2,
     "metadata": {},
     "source": [
      "Dump Files"
     ]
    },
    {
     "cell_type": "code",
     "collapsed": false,
     "input": [
      "fig = cadddata.plot_dump_from_increment(increment=0,tight=False);"
     ],
     "language": "python",
     "metadata": {},
     "outputs": [],
     "prompt_number": 11
    },
    {
     "cell_type": "heading",
     "level": 2,
     "metadata": {},
     "source": [
      "Restart Files (Comparison)"
     ]
    },
    {
     "cell_type": "code",
     "collapsed": false,
     "input": [
      "cdio.are_all_files_equivalent(fidir,restartdir)"
     ],
     "language": "python",
     "metadata": {},
     "outputs": [
      {
       "metadata": {},
       "output_type": "pyout",
       "prompt_number": 12,
       "text": [
        "True"
       ]
      }
     ],
     "prompt_number": 12
    },
    {
     "cell_type": "heading",
     "level": 1,
     "metadata": {},
     "source": [
      "Shear"
     ]
    },
    {
     "cell_type": "heading",
     "level": 2,
     "metadata": {},
     "source": [
      "Inputs"
     ]
    },
    {
     "cell_type": "code",
     "collapsed": false,
     "input": [
      "basedirshear = '../Tests/Simple_FE_Pad_Shear/'\n",
      "simnameshear = 'simple_fe_pad_shear'"
     ],
     "language": "python",
     "metadata": {},
     "outputs": [],
     "prompt_number": 16
    },
    {
     "cell_type": "code",
     "collapsed": false,
     "input": [
      "# instantiate Simulation object, populate by reading from user inputs\n",
      "userpath, fortranpath, dumppath = get_dirs(basedirshear)\n",
      "cadddatashear = cdiosn3.Simulation(simtype,simnameshear,userpath,fortranpath,dumppath)\n",
      "\n",
      "# write to fortran inputs\n",
      "cadddatashear.write_fortran_all()"
     ],
     "language": "python",
     "metadata": {},
     "outputs": [],
     "prompt_number": 17
    },
    {
     "cell_type": "heading",
     "level": 2,
     "metadata": {},
     "source": [
      "Dump Files"
     ]
    },
    {
     "cell_type": "code",
     "collapsed": false,
     "input": [
      "fig = cadddatashear.plot_dump_from_increment(increment=1,tight=False);"
     ],
     "language": "python",
     "metadata": {},
     "outputs": [],
     "prompt_number": 18
    },
    {
     "cell_type": "code",
     "collapsed": false,
     "input": [],
     "language": "python",
     "metadata": {},
     "outputs": []
    }
   ],
   "metadata": {}
  }
 ]
}