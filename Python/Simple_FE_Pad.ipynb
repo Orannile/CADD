{
 "metadata": {
  "name": "",
  "signature": "sha256:d4cfec9dfcd1dc6842162d26157d231c94eb0d06a67abdbe6f3bd4674e5a9409"
 },
 "nbformat": 3,
 "nbformat_minor": 0,
 "worksheets": [
  {
   "cells": [
    {
     "cell_type": "code",
     "collapsed": false,
     "input": [
      "import numpy as np\n",
      "import matplotlib as mpl\n",
      "import matplotlib.pyplot as plt\n",
      "import cadd_io as cdio\n",
      "import cadd_main as cdmain\n",
      "import mdutilities_io as mduio\n",
      "import mymath as Mmath\n",
      "import scipy.interpolate as spi\n",
      "import my_plot as myplot\n",
      "import cadddatadump as cddump\n",
      "%matplotlib qt\n",
      "%load_ext autoreload\n",
      "%autoreload 2"
     ],
     "language": "python",
     "metadata": {},
     "outputs": [],
     "prompt_number": 1
    },
    {
     "cell_type": "code",
     "collapsed": false,
     "input": [
      "simtype = 'cadd_nodisl'"
     ],
     "language": "python",
     "metadata": {},
     "outputs": [],
     "prompt_number": 2
    },
    {
     "cell_type": "heading",
     "level": 1,
     "metadata": {},
     "source": [
      "Tension"
     ]
    },
    {
     "cell_type": "heading",
     "level": 2,
     "metadata": {},
     "source": [
      "Inputs"
     ]
    },
    {
     "cell_type": "code",
     "collapsed": false,
     "input": [
      "maindir = '../Tests/Simple_FE_Pad/'\n",
      "simname = 'simple_fe_pad'\n",
      "uidir = maindir + 'User Inputs/'\n",
      "fidir = maindir + 'Fortran Inputs/'\n",
      "restartdir = maindir + 'Restart Files/'\n",
      "dumpdir = maindir + 'Dump Files/'"
     ],
     "language": "python",
     "metadata": {},
     "outputs": [],
     "prompt_number": 3
    },
    {
     "cell_type": "code",
     "collapsed": false,
     "input": [
      "# instantiate Simulation object, populate by reading from user inputs\n",
      "cadddata = cdmain.Simulation(simtype,simname,uidir,fidir,dumpdir)\n",
      "\n",
      "# write to fortran inputs\n",
      "cadddata.write_fortran_all()"
     ],
     "language": "python",
     "metadata": {},
     "outputs": [],
     "prompt_number": 5
    },
    {
     "cell_type": "heading",
     "level": 2,
     "metadata": {},
     "source": [
      "Dump Files"
     ]
    },
    {
     "cell_type": "code",
     "collapsed": false,
     "input": [
      "fig = cadddata.plot_dump_from_increment(increment=0,tight=False);"
     ],
     "language": "python",
     "metadata": {},
     "outputs": [],
     "prompt_number": 6
    },
    {
     "cell_type": "heading",
     "level": 2,
     "metadata": {},
     "source": [
      "Restart Files (Comparison)"
     ]
    },
    {
     "cell_type": "code",
     "collapsed": false,
     "input": [
      "cdio.are_all_files_equivalent(fidir,restartdir)"
     ],
     "language": "python",
     "metadata": {},
     "outputs": [
      {
       "metadata": {},
       "output_type": "pyout",
       "prompt_number": 7,
       "text": [
        "True"
       ]
      }
     ],
     "prompt_number": 7
    },
    {
     "cell_type": "heading",
     "level": 1,
     "metadata": {},
     "source": [
      "Shear"
     ]
    },
    {
     "cell_type": "heading",
     "level": 2,
     "metadata": {},
     "source": [
      "Inputs"
     ]
    },
    {
     "cell_type": "code",
     "collapsed": false,
     "input": [
      "maindirshear = '../Tests/Simple_FE_Pad_Shear/'\n",
      "simnameshear = 'simple_fe_pad_shear'\n",
      "uidirshear = maindirshear + 'User Inputs/'\n",
      "fidirshear = maindirshear + 'Fortran Inputs/'\n",
      "restartdirshear = maindirshear + 'Restart Files/'\n",
      "dumpdirshear = maindirshear + 'Dump Files/'"
     ],
     "language": "python",
     "metadata": {},
     "outputs": [],
     "prompt_number": 12
    },
    {
     "cell_type": "code",
     "collapsed": false,
     "input": [
      "# instantiate Simulation object, populate by reading from user inputs\n",
      "cadddatashear = cdmain.Simulation(simtype,simnameshear,uidirshear,fidirshear,dumpdirshear)\n",
      "\n",
      "# write to fortran inputs\n",
      "cadddatashear.write_fortran_all()"
     ],
     "language": "python",
     "metadata": {},
     "outputs": [],
     "prompt_number": 13
    },
    {
     "cell_type": "heading",
     "level": 2,
     "metadata": {},
     "source": [
      "Dump Files"
     ]
    },
    {
     "cell_type": "code",
     "collapsed": false,
     "input": [
      "fig = cadddatashear.plot_dump_from_increment(increment=1,tight=False);"
     ],
     "language": "python",
     "metadata": {},
     "outputs": [],
     "prompt_number": 14
    },
    {
     "cell_type": "code",
     "collapsed": false,
     "input": [],
     "language": "python",
     "metadata": {},
     "outputs": []
    }
   ],
   "metadata": {}
  }
 ]
}