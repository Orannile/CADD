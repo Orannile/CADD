{
 "metadata": {
  "name": "",
  "signature": "sha256:7cc35ab5d3ff471403a116dcb8975fffc9344d500e11d1a5cc600fcb39356843"
 },
 "nbformat": 3,
 "nbformat_minor": 0,
 "worksheets": [
  {
   "cells": [
    {
     "cell_type": "code",
     "collapsed": false,
     "input": [
      "import numpy as np\n",
      "import matplotlib as mpl\n",
      "import matplotlib.pyplot as plt\n",
      "import cadd_io as cdio\n",
      "import cadd_io_struct_new3 as cdiosn3\n",
      "import mdutilities_io as mduio\n",
      "import mymath as Mmath\n",
      "import scipy.interpolate as spi\n",
      "import my_plot as myplot\n",
      "import cadddatadump as cddump\n",
      "import cadd_mesh2 as cdmesh\n",
      "import cadd\n",
      "import itertools\n",
      "%matplotlib qt\n",
      "%load_ext autoreload\n",
      "%autoreload 2"
     ],
     "language": "python",
     "metadata": {},
     "outputs": [],
     "prompt_number": 2
    },
    {
     "cell_type": "heading",
     "level": 1,
     "metadata": {},
     "source": [
      "Misc"
     ]
    },
    {
     "cell_type": "code",
     "collapsed": false,
     "input": [
      "def seq_forward(n): # 2^n + 3 are magic numbers that terminate in 4\n",
      "    if n <= 4:\n",
      "        return [n]\n",
      "    else:\n",
      "        nnew = (n + 2 + 1)//2\n",
      "        res = seq_forward(nnew)\n",
      "        res.append(n)\n",
      "        return res"
     ],
     "language": "python",
     "metadata": {},
     "outputs": [],
     "prompt_number": 180
    },
    {
     "cell_type": "heading",
     "level": 1,
     "metadata": {},
     "source": [
      "No Atoms"
     ]
    },
    {
     "cell_type": "heading",
     "level": 2,
     "metadata": {},
     "source": [
      "Fan Test"
     ]
    },
    {
     "cell_type": "code",
     "collapsed": false,
     "input": [
      "boundsold = np.array([-3,3,-2,2])\n",
      "boundsnew = np.array([-4,4,-3,3])\n",
      "boundsnew2 = np.array([-5,5,-4,4])\n",
      "mesh = cdmesh.MeshQuad()\n",
      "boxold = cdmesh.Box.init_with_nodes(boundsold,[5,5,4,4],mesh.nodes)\n",
      "boxnew = cdmesh.Box(boundsnew)\n",
      "ring1 = cdmesh.RingDilate(boxold,boxnew)\n",
      "mesh.add_ring(ring1)\n",
      "boxnew2 = cdmesh.Box(boundsnew2)\n",
      "ring2 = cdmesh.RingExtend(boxnew,boxnew2)\n",
      "mesh.add_ring(ring2)\n",
      "mesh.write_dump_all('test.0.dump')"
     ],
     "language": "python",
     "metadata": {},
     "outputs": [],
     "prompt_number": 292
    },
    {
     "cell_type": "code",
     "collapsed": false,
     "input": [
      "sim = cdiosn3.Simulation('fe','test',readinput=False)\n",
      "sim.plot_dump_from_file('test.0.dump');"
     ],
     "language": "python",
     "metadata": {},
     "outputs": [],
     "prompt_number": 293
    },
    {
     "cell_type": "heading",
     "level": 2,
     "metadata": {},
     "source": [
      "Rectangle Test"
     ]
    },
    {
     "cell_type": "code",
     "collapsed": false,
     "input": [
      "bounds = np.array([-1,1,-2,2])\n",
      "spacing = [0.25,0.25]\n",
      "mesh = cdmesh.MeshRectangle.init_from_spacing(bounds,spacing)\n",
      "mesh.write_dump_all('test.1.dump')"
     ],
     "language": "python",
     "metadata": {},
     "outputs": [],
     "prompt_number": 307
    },
    {
     "cell_type": "code",
     "collapsed": false,
     "input": [
      "sim = cdiosn3.Simulation('fe','test',readinput=False)\n",
      "sim.plot_dump_from_file('test.1.dump');"
     ],
     "language": "python",
     "metadata": {},
     "outputs": [],
     "prompt_number": 308
    },
    {
     "cell_type": "heading",
     "level": 1,
     "metadata": {},
     "source": [
      "Just Atoms"
     ]
    },
    {
     "cell_type": "code",
     "collapsed": false,
     "input": [
      "xy = cadd.genSimpleArray(40,40)\n",
      "nodes = cdmesh.Nodes(xy)\n",
      "mesh = cdmesh.Mesh(nodes=nodes)\n",
      "mesh.nodes.gen_interface_and_pad(np.array([-16,16,-16,16]))\n",
      "mesh.write_dump_all('test.2.dump')"
     ],
     "language": "python",
     "metadata": {},
     "outputs": [],
     "prompt_number": 24
    },
    {
     "cell_type": "code",
     "collapsed": false,
     "input": [
      "sim = cdiosn3.Simulation('atomistic','test',readinput=False)\n",
      "sim.plot_dump_from_file('test.2.dump');"
     ],
     "language": "python",
     "metadata": {},
     "outputs": [
      {
       "output_type": "stream",
       "stream": "stderr",
       "text": [
        "C:\\Users\\Varun\\Anaconda3\\lib\\site-packages\\numpy\\lib\\npyio.py:816: UserWarning: loadtxt: Empty input file: \"<generator object generReadUntil at 0x0977BA08>\"\n",
        "  warnings.warn('loadtxt: Empty input file: \"%s\"' % fname)\n"
       ]
      }
     ],
     "prompt_number": 26
    },
    {
     "cell_type": "heading",
     "level": 1,
     "metadata": {},
     "source": [
      "Atoms and Crack Mesh (Quad)"
     ]
    },
    {
     "cell_type": "code",
     "collapsed": false,
     "input": [
      "xy, _ = cadd.genSimpleArray(40,40)\n",
      "nodes = cdmesh.Nodes(xy)\n",
      "mesh = cdmesh.MeshQuad(nodes=nodes)\n",
      "boxold = mesh.nodes.gen_interface_and_pad(np.array([-17.2,17.2,-17.8,17.8]))\n",
      "for i in range(10):\n",
      "    xspacing, yspacing = boxold.node_spacing()\n",
      "    print(yspacing/xspacing)\n",
      "    xfac, yfac = 1.15, 1.1\n",
      "    xfac, yfac = 1.15, 1.1\n",
      "    boundsold = boxold.bounds\n",
      "    boundsnew = get_boundsnew(boundsold,xfac,yfac)\n",
      "    boxnew = cdmesh.Box(boundsnew)\n",
      "    if i%2 == 0:\n",
      "        ring = cdmesh.RingDilate(boxold,boxnew)\n",
      "    else:\n",
      "        ring = cdmesh.RingExtend(boxold,boxnew)\n",
      "    mesh.add_ring(ring)\n",
      "    boxold = boxnew\n",
      "mesh.write_dump_all('test.3.dump')"
     ],
     "language": "python",
     "metadata": {},
     "outputs": [
      {
       "output_type": "stream",
       "stream": "stdout",
       "text": [
        "1.73205080757\n",
        "1.65674425072\n",
        "1.53202326131\n",
        "1.4654135543\n",
        "1.36120636821"
       ]
      },
      {
       "output_type": "stream",
       "stream": "stdout",
       "text": [
        "\n",
        "1.30202348264\n",
        "1.2138535731\n",
        "1.16107733079"
       ]
      },
      {
       "output_type": "stream",
       "stream": "stdout",
       "text": [
        "\n",
        "1.0857030453\n",
        "1.03849856507\n"
       ]
      }
     ],
     "prompt_number": 320
    },
    {
     "cell_type": "code",
     "collapsed": false,
     "input": [
      "sim = cdiosn3.Simulation('cadd_nodisl','test',readinput=False)\n",
      "fig = sim.plot_dump_from_file('test.3.dump')\n",
      "fig.tight_layout()"
     ],
     "language": "python",
     "metadata": {},
     "outputs": [],
     "prompt_number": 321
    },
    {
     "cell_type": "heading",
     "level": 1,
     "metadata": {},
     "source": [
      "Atoms and Crack Mesh (Tri)"
     ]
    },
    {
     "cell_type": "code",
     "collapsed": false,
     "input": [
      "def ideal_box(lx,ly,r0=1,extendsteps=0):\n",
      "    sx, sy = hex_spacing('x',r0), hex_spacing('y',r0)\n",
      "    nx = round(lx/sx)\n",
      "    ny = round(ly/sy)\n",
      "    nx = get_nearest_ideal_number(nx)\n",
      "    ny = get_nearest_ideal_number(ny)\n",
      "    lx = sx*(nx-2*extendsteps)\n",
      "    ly = sy*(ny-2*extendsteps)\n",
      "    return lx, ly\n",
      "    \n",
      "def hex_spacing(direction,r0=1):\n",
      "    if direction == 'x':\n",
      "        return r0\n",
      "    elif direction == 'y':\n",
      "        return r0*np.sqrt(3)/2\n",
      "    \n",
      "def get_nearest_ideal_number(n):\n",
      "    log2n = np.log(n)/np.log(2)\n",
      "    return int(round(2**(round(log2n)) + 3))"
     ],
     "language": "python",
     "metadata": {},
     "outputs": [],
     "prompt_number": 236
    },
    {
     "cell_type": "code",
     "collapsed": false,
     "input": [
      "fac = 3\n",
      "lx, ly = 42, 45\n",
      "xy, _ = cadd.genSimpleArray(lx+fac,ly+1.5*fac) # make box slightly larger to accommodate pad\n",
      "nodes = cdmesh.Nodes(xy)\n",
      "mesh = cdmesh.MeshTri(nodes=nodes)\n",
      "boxold = mesh.nodes.gen_interface_and_pad(np.array([-lx/2,lx/2,-ly/2,ly/2]))\n",
      "for i in range(24):\n",
      "    nnodesvec = [line.get_nnodes() for line in boxold.lines]\n",
      "    print(nnodesvec)\n",
      "    if i < 10:\n",
      "        if i%3 == 0:\n",
      "            ring = cdmesh.RingCollapseMixed(boxold)\n",
      "        else:\n",
      "            ring = cdmesh.RingExtend(boxold)\n",
      "    else:\n",
      "        ring = cdmesh.RingCollapseMixed(boxold)\n",
      "    mesh.add_ring(ring)\n",
      "    boxold = ring.boxnew\n",
      "mesh.write_dump_all('test.4.dump')"
     ],
     "language": "python",
     "metadata": {},
     "outputs": [
      {
       "output_type": "stream",
       "stream": "stdout",
       "text": [
        "[27, 43, 27, 43]\n",
        "[15, 23, 15, 23]\n",
        "[17, 25, 17, 25]\n",
        "[19, 27, 19, 27]"
       ]
      },
      {
       "output_type": "stream",
       "stream": "stdout",
       "text": [
        "\n",
        "[11, 15, 11, 15]\n",
        "[13, 17, 13, 17]\n",
        "[15, 19, 15, 19]\n",
        "[9, 11, 9, 11]\n",
        "[11, 13, 11, 13]"
       ]
      },
      {
       "output_type": "stream",
       "stream": "stdout",
       "text": [
        "\n",
        "[13, 15, 13, 15]\n",
        "[15, 9, 15, 9]\n",
        "[9, 11, 9, 11]\n",
        "[11, 7, 11, 7]\n",
        "[7, 5, 7, 5]\n",
        "[5, 7, 5, 7]\n",
        "[7, 5, 7, 5]"
       ]
      },
      {
       "output_type": "stream",
       "stream": "stdout",
       "text": [
        "\n",
        "[5, 7, 5, 7]\n",
        "[7, 5, 7, 5]\n",
        "[5, 7, 5, 7]\n",
        "[7, 5, 7, 5]\n",
        "[5, 7, 5, 7]\n",
        "[7, 5, 7, 5]\n",
        "[5, 7, 5, 7]\n",
        "[7, 5, 7, 5]\n"
       ]
      }
     ],
     "prompt_number": 341
    },
    {
     "cell_type": "code",
     "collapsed": false,
     "input": [
      "sim = cdiosn3.Simulation('cadd_nodisl','test',readinput=False)\n",
      "fig = sim.plot_dump_from_file('test.4.dump')"
     ],
     "language": "python",
     "metadata": {},
     "outputs": [],
     "prompt_number": 342
    },
    {
     "cell_type": "heading",
     "level": 1,
     "metadata": {},
     "source": [
      "Obsolete (Below)"
     ]
    },
    {
     "cell_type": "heading",
     "level": 1,
     "metadata": {},
     "source": [
      "Mesh!"
     ]
    },
    {
     "cell_type": "code",
     "collapsed": false,
     "input": [
      "xy, _ = cadd.genSimpleArray(40,40)\n",
      "meshnodes = cdmesh.Nodes(xy,types=None)\n",
      "meshnodes.types[:,1] = -1 # initially all pads\n",
      "detectionboundsapprox = np.array([-14,14,-14,14])\n",
      "detectionbounds = meshnodes.get_bounds_actual(detectionboundsapprox)\n",
      "# res = cdmesh.get_detection_band(nodes,boundsapprox)\n",
      "interfaceboundsapprox = np.array([el+np.copysign(3,el) for el in detectionboundsapprox]) # offset of 3\n",
      "interfacebounds = meshnodes.get_bounds_actual(interfaceboundsapprox)\n",
      "atoms = meshnodes.get_atoms(interfacebounds)\n",
      "meshnodes.set_atoms(atoms)\n",
      "interfaceatoms = meshnodes.get_box_nodes(interfacebounds)\n",
      "meshnodes.set_interface(interfaceatoms)\n",
      "mesh = cdmesh.Mesh(4,meshnodes)"
     ],
     "language": "python",
     "metadata": {},
     "outputs": [],
     "prompt_number": 95
    },
    {
     "cell_type": "code",
     "collapsed": false,
     "input": [
      "fignum = 4\n",
      "plt.close(fignum)\n",
      "plt.figure(fignum)\n",
      "plt.clf()\n",
      "mesh.plot()\n",
      "plt.show()"
     ],
     "language": "python",
     "metadata": {},
     "outputs": [],
     "prompt_number": 26
    },
    {
     "cell_type": "code",
     "collapsed": false,
     "input": [
      "boxold = np.copy(interfacebounds)\n",
      "boxnew = np.copy(interfacebounds)\n",
      "fac =  [1.1,1.2,1.3,1.4,1.5] + [1.6]*12\n",
      "fudge = 0.9\n",
      "for i in range(14):\n",
      "    yline = cdmesh.BoxLine(0,boxold)\n",
      "    yspacing = mesh.nodes.get_line_spacing(yline)\n",
      "    xline = cdmesh.BoxLine(2,boxold)\n",
      "    xspacing = mesh.nodes.get_line_spacing(xline)\n",
      "    print(xspacing,yspacing)\n",
      "    diffx = yspacing*fac[i]\n",
      "    diffy = xspacing*fac[i]\n",
      "    for j in range(4):\n",
      "        if j < 2:\n",
      "            spacing = diffx\n",
      "        else:\n",
      "            spacing = diffy\n",
      "        boxnew[j] = boxold[j] + np.copysign(spacing,boxold[j])\n",
      "    if i < 14:\n",
      "        meshtype = 'fan'\n",
      "    else:\n",
      "        meshtype = 'extend'\n",
      "    nnodeslist = mesh.add_quad_ring(boxold,boxnew,meshtype)  \n",
      "    np.copyto(boxold,boxnew)"
     ],
     "language": "python",
     "metadata": {},
     "outputs": [
      {
       "output_type": "stream",
       "stream": "stdout",
       "text": [
        "1.12246204831 1.94416129724\n",
        "1.26503387677 2.08942109173\n",
        "1.43218756411"
       ]
      },
      {
       "output_type": "stream",
       "stream": "stdout",
       "text": [
        " 2.26801410962\n",
        "1.62874878695 2.48705456061\n",
        "1.86087387927"
       ]
      },
      {
       "output_type": "stream",
       "stream": "stdout",
       "text": [
        " 2.75531906669\n",
        "2.13640578594 3.0837085748\n",
        "2.46533470058"
       ]
      },
      {
       "output_type": "stream",
       "stream": "stdout",
       "text": [
        " 3.48585554627\n",
        "2.83715929219 3.94991854873\n",
        "3.25848393738"
       ]
      },
      {
       "output_type": "stream",
       "stream": "stdout",
       "text": [
        " 4.48397206255\n",
        "3.73677429072 5.09733374488\n",
        "4.28048989018"
       ]
      },
      {
       "output_type": "stream",
       "stream": "stdout",
       "text": [
        " 5.80072655255\n",
        "4.89923405578 6.606465826\n",
        "5.60392374389"
       ]
      },
      {
       "output_type": "stream",
       "stream": "stdout",
       "text": [
        " 7.52867458944\n",
        "6.40698236676 8.58353082358\n"
       ]
      }
     ],
     "prompt_number": 96
    },
    {
     "cell_type": "heading",
     "level": 1,
     "metadata": {},
     "source": [
      "Read, Write"
     ]
    },
    {
     "cell_type": "code",
     "collapsed": false,
     "input": [
      "datadict = cdio.readInput('example.inp',subdir='User Inputs/')"
     ],
     "language": "python",
     "metadata": {},
     "outputs": [
      {
       "output_type": "stream",
       "stream": "stderr",
       "text": [
        "C:\\Users\\Varun\\Anaconda3\\lib\\site-packages\\numpy\\lib\\npyio.py:816: UserWarning: loadtxt: Empty input file: \"<generator object generReadUntil at 0x05DA9FA8>\"\n",
        "  warnings.warn('loadtxt: Empty input file: \"%s\"' % fname)\n",
        "C:\\Users\\Varun\\Anaconda3\\lib\\site-packages\\numpy\\lib\\npyio.py:816: UserWarning: loadtxt: Empty input file: \"<generator object generReadUntil at 0x05DD89B8>\"\n",
        "  warnings.warn('loadtxt: Empty input file: \"%s\"' % fname)\n"
       ]
      }
     ],
     "prompt_number": 29
    },
    {
     "cell_type": "code",
     "collapsed": false,
     "input": [
      "cdio.writeInput(datadict,'example.inp',subdir='User Outputs/')"
     ],
     "language": "python",
     "metadata": {},
     "outputs": [],
     "prompt_number": 30
    },
    {
     "cell_type": "code",
     "collapsed": false,
     "input": [
      "datadict2 = cdio.readInput('example.inp',subdir='User Outputs/')"
     ],
     "language": "python",
     "metadata": {},
     "outputs": [
      {
       "output_type": "stream",
       "stream": "stderr",
       "text": [
        "C:\\Users\\Varun\\Anaconda3\\lib\\site-packages\\numpy\\lib\\npyio.py:816: UserWarning: loadtxt: Empty input file: \"<generator object generReadUntil at 0x06CA33A0>\"\n",
        "  warnings.warn('loadtxt: Empty input file: \"%s\"' % fname)\n",
        "C:\\Users\\Varun\\Anaconda3\\lib\\site-packages\\numpy\\lib\\npyio.py:816: UserWarning: loadtxt: Empty input file: \"<generator object generReadUntil at 0x06CA3080>\"\n",
        "  warnings.warn('loadtxt: Empty input file: \"%s\"' % fname)\n"
       ]
      }
     ],
     "prompt_number": 132
    },
    {
     "cell_type": "code",
     "collapsed": false,
     "input": [
      "cdio.writeFortran(datadict,'example','Fortran Inputs/')"
     ],
     "language": "python",
     "metadata": {},
     "outputs": [],
     "prompt_number": 31
    },
    {
     "cell_type": "code",
     "collapsed": false,
     "input": [
      "dumpdict = cdio.readInput('example_rest.100.dump',subdir='Fortran Dump/')"
     ],
     "language": "python",
     "metadata": {},
     "outputs": [],
     "prompt_number": 32
    },
    {
     "cell_type": "code",
     "collapsed": false,
     "input": [
      "cdio.writeLammpsDump(dumpdict,'lammps_example.100.dump',100)"
     ],
     "language": "python",
     "metadata": {},
     "outputs": [],
     "prompt_number": 107
    },
    {
     "cell_type": "heading",
     "level": 1,
     "metadata": {},
     "source": [
      "Misc."
     ]
    },
    {
     "cell_type": "code",
     "collapsed": false,
     "input": [
      "mu = 10\n",
      "nu = 1/3\n",
      "E = 2*(1+nu)*mu\n",
      "C11 = (1-nu)*E/(1+nu)/(1-2*nu)\n",
      "C12 = nu*E/(1+nu)/(1-2*nu)\n",
      "C44 = mu\n",
      "print(C11,C12,C44)\n",
      "props = {'11': C11, '12': C12, '44': C44}\n",
      "aold = np.eye(3)\n",
      "anew = np.array([[1/np.sqrt(2),1/np.sqrt(2),0],[-1/np.sqrt(2),1/np.sqrt(2),0],[0,0,1]])\n",
      "cr.getPlaneStrainComplianceMat(props,'cubic',aold,anew)"
     ],
     "language": "python",
     "metadata": {},
     "outputs": [
      {
       "output_type": "stream",
       "stream": "stdout",
       "text": [
        "40.0 19.999999999999996 10\n",
        "[[ 40.  20.  20.   0.   0.   0.]\n",
        " [ 20.  40.  20.   0.   0.   0.]\n",
        " [ 20.  20.  40.   0.   0.   0.]\n",
        " [  0.   0.   0.  10.   0.   0.]\n",
        " [  0.   0.   0.   0.  10.   0.]\n",
        " [  0.   0.   0.   0.   0.  10.]]\n"
       ]
      },
      {
       "metadata": {},
       "output_type": "pyout",
       "prompt_number": 158,
       "text": [
        "array([[ 0.03333333, -0.01666667, -0.        ],\n",
        "       [-0.01666667,  0.03333333, -0.        ],\n",
        "       [ 0.        ,  0.        ,  0.1       ]])"
       ]
      }
     ],
     "prompt_number": 158
    },
    {
     "cell_type": "code",
     "collapsed": false,
     "input": [
      "xy = np.copy(res[:,:2])\n",
      "xy[0,:] = 1e5\n",
      "xy[-1,:] = -1e5\n",
      "xy[1,:] = xy[1,:] + [2.0,-1.0]\n",
      "cadd.nsqNeigh(xy,2.309,31)"
     ],
     "language": "python",
     "metadata": {},
     "outputs": [
      {
       "metadata": {},
       "output_type": "pyout",
       "prompt_number": 192,
       "text": [
        "array([[ 0.,  0.,  0.,  0.,  0.,  0.,  0.,  0.,  0.,  0.,  0.,  0.,  0.,\n",
        "         0.,  0.,  0.,  0.,  0.,  0.,  0.,  0.,  0.,  0.,  0.,  0.,  0.,\n",
        "         0.,  0.,  0.,  0.,  0.],\n",
        "       [ 3.,  4.,  0.,  0.,  0.,  0.,  0.,  0.,  0.,  0.,  0.,  0.,  0.,\n",
        "         0.,  0.,  0.,  0.,  0.,  0.,  0.,  0.,  0.,  0.,  0.,  0.,  0.,\n",
        "         0.,  0.,  0.,  0.,  0.],\n",
        "       [ 4.,  0.,  0.,  0.,  0.,  0.,  0.,  0.,  0.,  0.,  0.,  0.,  0.,\n",
        "         0.,  0.,  0.,  0.,  0.,  0.,  0.,  0.,  0.,  0.,  0.,  0.,  0.,\n",
        "         0.,  0.,  0.,  0.,  0.],\n",
        "       [ 1.,  4.,  0.,  0.,  0.,  0.,  0.,  0.,  0.,  0.,  0.,  0.,  0.,\n",
        "         0.,  0.,  0.,  0.,  0.,  0.,  0.,  0.,  0.,  0.,  0.,  0.,  0.,\n",
        "         0.,  0.,  0.,  0.,  0.],\n",
        "       [ 1.,  2.,  3.,  0.,  0.,  0.,  0.,  0.,  0.,  0.,  0.,  0.,  0.,\n",
        "         0.,  0.,  0.,  0.,  0.,  0.,  0.,  0.,  0.,  0.,  0.,  0.,  0.,\n",
        "         0.,  0.,  0.,  0.,  0.],\n",
        "       [ 0.,  0.,  0.,  0.,  0.,  0.,  0.,  0.,  0.,  0.,  0.,  0.,  0.,\n",
        "         0.,  0.,  0.,  0.,  0.,  0.,  0.,  0.,  0.,  0.,  0.,  0.,  0.,\n",
        "         0.,  0.,  0.,  0.,  0.],\n",
        "       [ 0.,  0.,  0.,  0.,  0.,  0.,  0.,  0.,  0.,  0.,  0.,  0.,  0.,\n",
        "         0.,  0.,  0.,  0.,  0.,  0.,  0.,  0.,  0.,  0.,  0.,  0.,  0.,\n",
        "         0.,  0.,  0.,  0.,  0.],\n",
        "       [ 0.,  0.,  0.,  0.,  0.,  0.,  0.,  0.,  0.,  0.,  0.,  0.,  0.,\n",
        "         0.,  0.,  0.,  0.,  0.,  0.,  0.,  0.,  0.,  0.,  0.,  0.,  0.,\n",
        "         0.,  0.,  0.,  0.,  0.],\n",
        "       [ 0.,  0.,  0.,  0.,  0.,  0.,  0.,  0.,  0.,  0.,  0.,  0.,  0.,\n",
        "         0.,  0.,  0.,  0.,  0.,  0.,  0.,  0.,  0.,  0.,  0.,  0.,  0.,\n",
        "         0.,  0.,  0.,  0.,  0.]])"
       ]
      }
     ],
     "prompt_number": 192
    },
    {
     "cell_type": "code",
     "collapsed": false,
     "input": [],
     "language": "python",
     "metadata": {},
     "outputs": []
    }
   ],
   "metadata": {}
  }
 ]
}