{
 "metadata": {
  "name": "",
  "signature": "sha256:a66f5c2ff88bfca2fdfa54c3389b58df493415ce31db6001dcb560c682bd8cf1"
 },
 "nbformat": 3,
 "nbformat_minor": 0,
 "worksheets": [
  {
   "cells": [
    {
     "cell_type": "code",
     "collapsed": false,
     "input": [
      "import numpy as np\n",
      "import matplotlib as mpl\n",
      "import matplotlib.pyplot as plt\n",
      "import cadd_io as cdio\n",
      "import cadd_main as cdmain\n",
      "import mdutilities_io as mduio\n",
      "import mymath as Mmath\n",
      "import scipy.interpolate as spi\n",
      "import my_plot as myplot\n",
      "import cadddatadump as cddump\n",
      "import cadd_mesh2 as cdmesh\n",
      "import cadd\n",
      "import itertools\n",
      "%matplotlib qt\n",
      "%load_ext autoreload\n",
      "%autoreload 2"
     ],
     "language": "python",
     "metadata": {},
     "outputs": [
      {
       "output_type": "stream",
       "stream": "stdout",
       "text": [
        "The autoreload extension is already loaded. To reload it, use:\n",
        "  %reload_ext autoreload\n"
       ]
      }
     ],
     "prompt_number": 35
    },
    {
     "cell_type": "heading",
     "level": 1,
     "metadata": {},
     "source": [
      "Test Mesh Routines"
     ]
    },
    {
     "cell_type": "heading",
     "level": 2,
     "metadata": {},
     "source": [
      "No Atoms"
     ]
    },
    {
     "cell_type": "heading",
     "level": 3,
     "metadata": {},
     "source": [
      "Fan Test"
     ]
    },
    {
     "cell_type": "code",
     "collapsed": false,
     "input": [
      "boundsold = np.array([-3,3,-2,2])\n",
      "boundsnew = np.array([-4,4,-3,3])\n",
      "boundsnew2 = np.array([-5,5,-4,4])\n",
      "mesh = cdmesh.MeshQuad()\n",
      "boxold = cdmesh.Box.init_with_nodes(boundsold,[5,5,4,4],mesh.nodes)\n",
      "boxnew = cdmesh.Box(boundsnew)\n",
      "ring1 = cdmesh.RingDilate(boxold,boxnew)\n",
      "mesh.add_ring(ring1)\n",
      "boxnew2 = cdmesh.Box(boundsnew2)\n",
      "ring2 = cdmesh.RingExtend(boxnew,boxnew2)\n",
      "mesh.add_ring(ring2)\n",
      "mesh.write_dump_all('test.0.dump')"
     ],
     "language": "python",
     "metadata": {},
     "outputs": [],
     "prompt_number": 36
    },
    {
     "cell_type": "code",
     "collapsed": false,
     "input": [
      "sim = cdmain.Simulation('fe','test',readinput=False)\n",
      "sim.plot_dump_from_file('test.0.dump');"
     ],
     "language": "python",
     "metadata": {},
     "outputs": [],
     "prompt_number": 37
    },
    {
     "cell_type": "heading",
     "level": 3,
     "metadata": {},
     "source": [
      "Rectangle Test"
     ]
    },
    {
     "cell_type": "code",
     "collapsed": false,
     "input": [
      "bounds = np.array([-1,1,-2,2])\n",
      "spacing = [0.25,0.25]\n",
      "mesh = cdmesh.MeshRectangle.init_from_spacing(bounds,spacing)\n",
      "mesh.write_dump_all('test.1.dump')"
     ],
     "language": "python",
     "metadata": {},
     "outputs": [],
     "prompt_number": 38
    },
    {
     "cell_type": "code",
     "collapsed": false,
     "input": [
      "sim = cdmain.Simulation('fe','test',readinput=False)\n",
      "sim.plot_dump_from_file('test.1.dump');"
     ],
     "language": "python",
     "metadata": {},
     "outputs": [],
     "prompt_number": 39
    },
    {
     "cell_type": "heading",
     "level": 2,
     "metadata": {},
     "source": [
      "Just Atoms"
     ]
    },
    {
     "cell_type": "code",
     "collapsed": false,
     "input": [
      "xy = cadd.simple_hex_lattice(40,40)\n",
      "nodes = cdmesh.Nodes(xy)\n",
      "mesh = cdmesh.Mesh(nodes=nodes)\n",
      "mesh.nodes.gen_interface_and_pad(np.array([-16,16,-16,16]))\n",
      "mesh.write_dump_all('test.2.dump')"
     ],
     "language": "python",
     "metadata": {},
     "outputs": [],
     "prompt_number": 40
    },
    {
     "cell_type": "code",
     "collapsed": false,
     "input": [
      "sim = cdmain.Simulation('atomistic','test',readinput=False)\n",
      "sim.plot_dump_from_file('test.2.dump');"
     ],
     "language": "python",
     "metadata": {},
     "outputs": [],
     "prompt_number": 41
    },
    {
     "cell_type": "heading",
     "level": 2,
     "metadata": {},
     "source": [
      "Everything (w/ Tri Elements)"
     ]
    },
    {
     "cell_type": "code",
     "collapsed": false,
     "input": [
      "padx, pady = 5, 5\n",
      "lx, ly = 42, 45\n",
      "xy = cadd.simple_hex_lattice(lx+padx,ly+pady) # make box slightly larger to accommodate pad\n",
      "nodes = cdmesh.Nodes(xy)\n",
      "mesh = cdmesh.MeshTri(nodes=nodes)\n",
      "boxold = mesh.nodes.gen_interface_and_pad(np.array([-lx/2,lx/2,-ly/2,ly/2]))\n",
      "for i in range(24):\n",
      "    nnodesvec = [line.get_nnodes() for line in boxold.lines]\n",
      "    if i < 10:\n",
      "        if i%3 == 0:\n",
      "            ring = cdmesh.RingCollapseMixed(boxold)\n",
      "        else:\n",
      "            ring = cdmesh.RingExtend(boxold)\n",
      "    else:\n",
      "        ring = cdmesh.RingCollapseMixed(boxold)\n",
      "    mesh.add_ring(ring)\n",
      "    boxold = ring.boxnew\n",
      "mesh.write_dump_all('test.4.dump')"
     ],
     "language": "python",
     "metadata": {},
     "outputs": [],
     "prompt_number": 42
    },
    {
     "cell_type": "code",
     "collapsed": false,
     "input": [
      "sim = cdmain.Simulation('cadd_nodisl','test',readinput=False)\n",
      "fig = sim.plot_dump_from_file('test.4.dump',axisbounds=[-30,30,-30,30])"
     ],
     "language": "python",
     "metadata": {},
     "outputs": [],
     "prompt_number": 43
    },
    {
     "cell_type": "heading",
     "level": 1,
     "metadata": {},
     "source": [
      "Obsolete"
     ]
    },
    {
     "cell_type": "heading",
     "level": 2,
     "metadata": {},
     "source": [
      "Atoms and Crack Mesh (Quad)"
     ]
    },
    {
     "cell_type": "code",
     "collapsed": false,
     "input": [
      "# Quad mesh appears to be unworkable because number of elements in a ring cannot be easily reduced"
     ],
     "language": "python",
     "metadata": {},
     "outputs": [],
     "prompt_number": 44
    },
    {
     "cell_type": "code",
     "collapsed": false,
     "input": [
      "xy = cadd.simple_hex_lattice(40,40)\n",
      "nodes = cdmesh.Nodes(xy)\n",
      "mesh = cdmesh.MeshQuad(nodes=nodes)\n",
      "boxold = mesh.nodes.gen_interface_and_pad(np.array([-17.2,17.2,-17.8,17.8]))\n",
      "for i in range(10):\n",
      "    xspacing, yspacing = boxold.node_spacing()\n",
      "    print(yspacing/xspacing)\n",
      "    xfac, yfac = 1.15, 1.1\n",
      "    xfac, yfac = 1.15, 1.1\n",
      "    boundsold = boxold.bounds\n",
      "    boundsnew = get_boundsnew(boundsold,xfac,yfac)\n",
      "    boxnew = cdmesh.Box(boundsnew)\n",
      "    if i%2 == 0:\n",
      "        ring = cdmesh.RingDilate(boxold,boxnew)\n",
      "    else:\n",
      "        ring = cdmesh.RingExtend(boxold,boxnew)\n",
      "    mesh.add_ring(ring)\n",
      "    boxold = boxnew\n",
      "mesh.write_dump_all('test.3.dump')"
     ],
     "language": "python",
     "metadata": {},
     "outputs": [
      {
       "output_type": "stream",
       "stream": "stdout",
       "text": [
        "1.73205080757\n"
       ]
      },
      {
       "ename": "NameError",
       "evalue": "name 'get_boundsnew' is not defined",
       "output_type": "pyerr",
       "traceback": [
        "\u001b[1;31m---------------------------------------------------------------------------\u001b[0m\n\u001b[1;31mNameError\u001b[0m                                 Traceback (most recent call last)",
        "\u001b[1;32m<ipython-input-45-bb9dbc14b914>\u001b[0m in \u001b[0;36m<module>\u001b[1;34m()\u001b[0m\n\u001b[0;32m      9\u001b[0m     \u001b[0mxfac\u001b[0m\u001b[1;33m,\u001b[0m \u001b[0myfac\u001b[0m \u001b[1;33m=\u001b[0m \u001b[1;36m1.15\u001b[0m\u001b[1;33m,\u001b[0m \u001b[1;36m1.1\u001b[0m\u001b[1;33m\u001b[0m\u001b[0m\n\u001b[0;32m     10\u001b[0m     \u001b[0mboundsold\u001b[0m \u001b[1;33m=\u001b[0m \u001b[0mboxold\u001b[0m\u001b[1;33m.\u001b[0m\u001b[0mbounds\u001b[0m\u001b[1;33m\u001b[0m\u001b[0m\n\u001b[1;32m---> 11\u001b[1;33m     \u001b[0mboundsnew\u001b[0m \u001b[1;33m=\u001b[0m \u001b[0mget_boundsnew\u001b[0m\u001b[1;33m(\u001b[0m\u001b[0mboundsold\u001b[0m\u001b[1;33m,\u001b[0m\u001b[0mxfac\u001b[0m\u001b[1;33m,\u001b[0m\u001b[0myfac\u001b[0m\u001b[1;33m)\u001b[0m\u001b[1;33m\u001b[0m\u001b[0m\n\u001b[0m\u001b[0;32m     12\u001b[0m     \u001b[0mboxnew\u001b[0m \u001b[1;33m=\u001b[0m \u001b[0mcdmesh\u001b[0m\u001b[1;33m.\u001b[0m\u001b[0mBox\u001b[0m\u001b[1;33m(\u001b[0m\u001b[0mboundsnew\u001b[0m\u001b[1;33m)\u001b[0m\u001b[1;33m\u001b[0m\u001b[0m\n\u001b[0;32m     13\u001b[0m     \u001b[1;32mif\u001b[0m \u001b[0mi\u001b[0m\u001b[1;33m%\u001b[0m\u001b[1;36m2\u001b[0m \u001b[1;33m==\u001b[0m \u001b[1;36m0\u001b[0m\u001b[1;33m:\u001b[0m\u001b[1;33m\u001b[0m\u001b[0m\n",
        "\u001b[1;31mNameError\u001b[0m: name 'get_boundsnew' is not defined"
       ]
      }
     ],
     "prompt_number": 45
    },
    {
     "cell_type": "code",
     "collapsed": false,
     "input": [
      "sim = cdiosn3.Simulation('cadd_nodisl','test',readinput=False)\n",
      "fig = sim.plot_dump_from_file('test.3.dump')"
     ],
     "language": "python",
     "metadata": {},
     "outputs": []
    },
    {
     "cell_type": "heading",
     "level": 2,
     "metadata": {},
     "source": [
      "Misc"
     ]
    },
    {
     "cell_type": "code",
     "collapsed": false,
     "input": [
      "def ideal_box(lx,ly,r0=1,extendsteps=0):\n",
      "    sx, sy = hex_spacing('x',r0), hex_spacing('y',r0)\n",
      "    nx = round(lx/sx)\n",
      "    ny = round(ly/sy)\n",
      "    nx = get_nearest_ideal_number(nx)\n",
      "    ny = get_nearest_ideal_number(ny)\n",
      "    lx = sx*(nx-2*extendsteps)\n",
      "    ly = sy*(ny-2*extendsteps)\n",
      "    return lx, ly\n",
      "    \n",
      "def hex_spacing(direction,r0=1):\n",
      "    if direction == 'x':\n",
      "        return r0\n",
      "    elif direction == 'y':\n",
      "        return r0*np.sqrt(3)/2\n",
      "    \n",
      "def get_nearest_ideal_number(n):\n",
      "    log2n = np.log(n)/np.log(2)\n",
      "    return int(round(2**(round(log2n)) + 3))"
     ],
     "language": "python",
     "metadata": {},
     "outputs": []
    }
   ],
   "metadata": {}
  }
 ]
}