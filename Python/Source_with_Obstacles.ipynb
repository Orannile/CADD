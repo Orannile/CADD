{
 "metadata": {
  "name": "",
  "signature": "sha256:63938318e21783c385036f617b259058b7157b579cf28c7a1d3f91d3a38de19c"
 },
 "nbformat": 3,
 "nbformat_minor": 0,
 "worksheets": [
  {
   "cells": [
    {
     "cell_type": "code",
     "collapsed": false,
     "input": [
      "import numpy as np\n",
      "import matplotlib as mpl\n",
      "import matplotlib.pyplot as plt\n",
      "import cadd_io as cdio\n",
      "import cadd_main as cdmain\n",
      "import mdutilities_io as mduio\n",
      "import mymath as Mmath\n",
      "import my_plot as myplot\n",
      "import cadddatadump as cddump\n",
      "import cadd_material as cdm\n",
      "import cadd_mesh2 as cdmesh\n",
      "import lineplot_oo3 as lpoo\n",
      "import os\n",
      "%matplotlib qt\n",
      "%load_ext autoreload\n",
      "%autoreload 2"
     ],
     "language": "python",
     "metadata": {},
     "outputs": [
      {
       "output_type": "stream",
       "stream": "stdout",
       "text": [
        "The autoreload extension is already loaded. To reload it, use:\n",
        "  %reload_ext autoreload\n"
       ]
      }
     ],
     "prompt_number": 2
    },
    {
     "cell_type": "heading",
     "level": 1,
     "metadata": {},
     "source": [
      "Preliminaries"
     ]
    },
    {
     "cell_type": "heading",
     "level": 2,
     "metadata": {},
     "source": [
      "Notes"
     ]
    },
    {
     "cell_type": "code",
     "collapsed": false,
     "input": [
      "# If I use the values I think are correct (from Segurado and LLorca, 2007),\n",
      "# there's a factor of two difference between my calculation and Srinath's, for some reason.\n",
      "# On the other hand, I'm not positive he used the Segurado  values for b and the elastic constants\n",
      "# If I assume that he specified Lobs incorrectly, and use Lobs = 400 nm, not 200 nm, I get the \"right\" answer.\n",
      "# (See Figure 2 of Chakravarthy and Curtin, 2011, MSMSE)"
     ],
     "language": "python",
     "metadata": {},
     "outputs": [],
     "prompt_number": 3
    },
    {
     "cell_type": "heading",
     "level": 2,
     "metadata": {},
     "source": [
      "Directories"
     ]
    },
    {
     "cell_type": "code",
     "collapsed": false,
     "input": [
      "maindir = '../Tests/Source_with_Obstacles/'\n",
      "uidir = maindir + 'User Inputs/'\n",
      "fidir = maindir + 'Fortran Inputs/'\n",
      "dumpdir = maindir + 'Dump Files/'\n",
      "simname = 'source_with_obstacles'\n",
      "simtype = 'dd'"
     ],
     "language": "python",
     "metadata": {},
     "outputs": [],
     "prompt_number": 4
    },
    {
     "cell_type": "heading",
     "level": 2,
     "metadata": {},
     "source": [
      "Unit System"
     ]
    },
    {
     "cell_type": "code",
     "collapsed": false,
     "input": [
      "# length - nanometers\n",
      "# stress, elastic constants - MPa\n",
      "# time - nanoseconds\n",
      "# dislocation drag - MPa-ns\n",
      "lengthfac = 1e9\n",
      "stressfac = 1e-6\n",
      "timefac = 1e9"
     ],
     "language": "python",
     "metadata": {},
     "outputs": [],
     "prompt_number": 5
    },
    {
     "cell_type": "heading",
     "level": 2,
     "metadata": {},
     "source": [
      "Misc"
     ]
    },
    {
     "cell_type": "code",
     "collapsed": false,
     "input": [
      "nfematerials = 1"
     ],
     "language": "python",
     "metadata": {},
     "outputs": [],
     "prompt_number": 6
    },
    {
     "cell_type": "heading",
     "level": 1,
     "metadata": {},
     "source": [
      "Create Inputs"
     ]
    },
    {
     "cell_type": "heading",
     "level": 2,
     "metadata": {},
     "source": [
      "Nodes/Elements"
     ]
    },
    {
     "cell_type": "code",
     "collapsed": false,
     "input": [
      "bounds = np.array([-3,3,-3,3])*1e-6*lengthfac # 6 by 6 micron box\n",
      "nvec = [4,4]\n",
      "rmesh = cdmesh.MeshRectangle(bounds,nvec)"
     ],
     "language": "python",
     "metadata": {},
     "outputs": [],
     "prompt_number": 7
    },
    {
     "cell_type": "code",
     "collapsed": false,
     "input": [
      "fixedbc = 3\n",
      "box = cdmesh.Box(bounds)\n",
      "rmeshnodes = rmesh.nodes\n",
      "for line in box.lines:\n",
      "    nodenums = rmeshnodes.search_for_nodes_along_line(line)\n",
      "    rmeshnodes.set_node_bc(nodenums,fixedbc)"
     ],
     "language": "python",
     "metadata": {},
     "outputs": [],
     "prompt_number": 8
    },
    {
     "cell_type": "code",
     "collapsed": false,
     "input": [
      "rmesh.write_user_inputs_all('feelementsmat1','nodes',subdir=uidir)"
     ],
     "language": "python",
     "metadata": {},
     "outputs": [],
     "prompt_number": 9
    },
    {
     "cell_type": "heading",
     "level": 2,
     "metadata": {},
     "source": [
      "Material"
     ]
    },
    {
     "cell_type": "code",
     "collapsed": false,
     "input": [
      "# test\n",
      "mu = 10.608811378479004\n",
      "nu = 0.25\n",
      "E = 2*mu*(1+nu)\n",
      "print(cdm.stiffness_2d_voigt(E,nu))"
     ],
     "language": "python",
     "metadata": {},
     "outputs": [
      {
       "output_type": "stream",
       "stream": "stdout",
       "text": [
        "[[ 31.82643414  10.60881138   0.        ]\n",
        " [ 10.60881138  31.82643414   0.        ]\n",
        " [  0.           0.          10.60881138]]\n"
       ]
      }
     ],
     "prompt_number": 10
    },
    {
     "cell_type": "code",
     "collapsed": false,
     "input": [
      "E = 70e9*stressfac\n",
      "nu = 0.33\n",
      "mu = E/(2*(1+nu))\n",
      "stiffnessmat = cdm.stiffness_2d_voigt(E,nu)\n",
      "burgers = 0.25e-9*lengthfac\n",
      "lannih = 6*burgers\n",
      "B = 1e-4*stressfac*timefac\n",
      "mname = 'Aluminum'\n",
      "mass = 1.0 # fake\n",
      "lattice = 'fcc' # fake\n",
      "rho = 1.0 # fake\n",
      "dislvmax = 1000*lengthfac/timefac"
     ],
     "language": "python",
     "metadata": {},
     "outputs": [],
     "prompt_number": 11
    },
    {
     "cell_type": "code",
     "collapsed": false,
     "input": [
      "materialdict = {'burgers': burgers, 'elconst': stiffnessmat,\n",
      "                'disldrag': B, 'dislvmax': dislvmax, 'lannih': lannih,\n",
      "                'mname': mname, 'mass': mass,\n",
      "                'lattice': lattice, 'rho': rho}\n",
      "cdio.write_input(materialdict,uidir+'input.material1')"
     ],
     "language": "python",
     "metadata": {},
     "outputs": [],
     "prompt_number": 12
    },
    {
     "cell_type": "heading",
     "level": 2,
     "metadata": {},
     "source": [
      "DD Stuff"
     ]
    },
    {
     "cell_type": "code",
     "collapsed": false,
     "input": [
      "# timestep = 5e-10*timefac"
     ],
     "language": "python",
     "metadata": {},
     "outputs": [],
     "prompt_number": 13
    },
    {
     "cell_type": "heading",
     "level": 3,
     "metadata": {},
     "source": [
      "Sources"
     ]
    },
    {
     "cell_type": "code",
     "collapsed": false,
     "input": [
      "# need posn, slipsys, taucr, tnuc"
     ],
     "language": "python",
     "metadata": {},
     "outputs": [],
     "prompt_number": 14
    },
    {
     "cell_type": "code",
     "collapsed": false,
     "input": [
      "# nucleation length\n",
      "taucrsrc = 50e6*stressfac\n",
      "tnuc = 0.01e-6*timefac # (20 timesteps)\n",
      "lnuc = mu*burgers/(2*np.pi*(1-nu)*taucrsrc)"
     ],
     "language": "python",
     "metadata": {},
     "outputs": [],
     "prompt_number": 15
    },
    {
     "cell_type": "code",
     "collapsed": false,
     "input": [
      "posnarray = np.zeros((1,2)).astype(float)\n",
      "slipsysarray = np.ones((1,)).astype(int)\n",
      "taucrarray = taucrsrc*np.ones((1,)).astype(float)\n",
      "tnucarray = tnuc*np.ones((1,)).astype(float)"
     ],
     "language": "python",
     "metadata": {},
     "outputs": [],
     "prompt_number": 16
    },
    {
     "cell_type": "code",
     "collapsed": false,
     "input": [
      "sourcedict = {'posn': posnarray, 'slipsys': slipsysarray, 'taucr': taucrarray, 'tnuc': tnucarray}\n",
      "cdio.write_input(sourcedict,uidir+'input.sourcesmat1')"
     ],
     "language": "python",
     "metadata": {},
     "outputs": [],
     "prompt_number": 17
    },
    {
     "cell_type": "heading",
     "level": 3,
     "metadata": {},
     "source": [
      "Obstacles"
     ]
    },
    {
     "cell_type": "code",
     "collapsed": false,
     "input": [
      "# need posn, slipsys, taucr"
     ],
     "language": "python",
     "metadata": {},
     "outputs": [],
     "prompt_number": 18
    },
    {
     "cell_type": "code",
     "collapsed": false,
     "input": [
      "taucrobs = 1e10*stressfac # essentially infinite strength\n",
      "Lobs = 400e-9*lengthfac\n",
      "posnarray = np.zeros((2,2)).astype(float)\n",
      "# symmetric obstacles\n",
      "posnarray[0,0] = -Lobs/2 \n",
      "posnarray[1,0] = Lobs/2\n",
      "\n",
      "slipsysarray = np.ones((2,)).astype(int)\n",
      "taucrarray = taucrobs*np.ones((2,)).astype(float)"
     ],
     "language": "python",
     "metadata": {},
     "outputs": [],
     "prompt_number": 19
    },
    {
     "cell_type": "code",
     "collapsed": false,
     "input": [
      "obstacledict = {'posn': posnarray, 'slipsys': slipsysarray, 'taucr': taucrarray}\n",
      "cdio.write_input(obstacledict,uidir+'input.obstaclesmat1')"
     ],
     "language": "python",
     "metadata": {},
     "outputs": [],
     "prompt_number": 20
    },
    {
     "cell_type": "heading",
     "level": 3,
     "metadata": {},
     "source": [
      "Slip Systems"
     ]
    },
    {
     "cell_type": "code",
     "collapsed": false,
     "input": [
      "# need nslipplanes, origin, space, theta\n",
      "nslipplanesarray = np.ones((1,)).astype(int)\n",
      "originarray = np.zeros((1,2)).astype(float)\n",
      "spacearray = np.ones((1,)).astype(float)\n",
      "thetaarray = np.zeros((1,)).astype(float)\n"
     ],
     "language": "python",
     "metadata": {},
     "outputs": [],
     "prompt_number": 21
    },
    {
     "cell_type": "code",
     "collapsed": false,
     "input": [
      "slipsysdict = {'nslipplanes': nslipplanesarray, 'origin': originarray, 'space': spacearray, 'theta': thetaarray}\n",
      "cdio.write_input(slipsysdict,uidir+'input.slipsysmat1')"
     ],
     "language": "python",
     "metadata": {},
     "outputs": [],
     "prompt_number": 22
    },
    {
     "cell_type": "heading",
     "level": 3,
     "metadata": {},
     "source": [
      "Misc"
     ]
    },
    {
     "cell_type": "code",
     "collapsed": false,
     "input": [
      "# critical applied stress for first nucleation\n",
      "# tausrc = tauapp + 2*taudisl\n",
      "# where taudisl is given by vdG and Needleman expression\n",
      "taucrsrc + 2*mu*burgers/(Lobs*np.pi*(1-nu))"
     ],
     "language": "python",
     "metadata": {},
     "outputs": [
      {
       "metadata": {},
       "output_type": "pyout",
       "prompt_number": 23,
       "text": [
        "65.62794020933772"
       ]
      }
     ],
     "prompt_number": 23
    },
    {
     "cell_type": "heading",
     "level": 1,
     "metadata": {},
     "source": [
      "Write Inputs"
     ]
    },
    {
     "cell_type": "code",
     "collapsed": false,
     "input": [
      "# instantiate Simulation object, populate by reading from user inputs\n",
      "cadddata = cdmain.Simulation(simtype,simname,uidir,fidir,dumpdir,nfematerials=nfematerials)\n",
      "\n",
      "# write to fortran inputs\n",
      "cadddata.write_fortran_all()"
     ],
     "language": "python",
     "metadata": {},
     "outputs": [],
     "prompt_number": 26
    },
    {
     "cell_type": "heading",
     "level": 2,
     "metadata": {},
     "source": [
      "Dump Files"
     ]
    },
    {
     "cell_type": "code",
     "collapsed": false,
     "input": [
      "axisbounds = np.array([-240,240,-240,240])\n",
      "fig = cadddata.plot_dump_from_increment(140,axisbounds=axisbounds);"
     ],
     "language": "python",
     "metadata": {},
     "outputs": []
    },
    {
     "cell_type": "heading",
     "level": 2,
     "metadata": {},
     "source": [
      "Log Files"
     ]
    },
    {
     "cell_type": "code",
     "collapsed": false,
     "input": [
      "def plot_data(data,**kwargs):\n",
      "    lineplotdata = lpoo.LinePlotData.from_dataset(data)\n",
      "    myfig = myplot.my_plot(lineplotdata)\n",
      "    myplot.pretty_figure(myfig,**kwargs)\n",
      "    return myfig\n",
      "\n",
      "def actual_predicted_data(data):\n",
      "    stressapp = data[:,0]\n",
      "    stresspinactual = data[:,1]\n",
      "    ndisl = data[:,2]/2 # divide by 2 because symmetry\n",
      "    stresspinpredict = stressapp*ndisl\n",
      "    return np.column_stack((stressapp,stresspinactual)), np.column_stack((stressapp,stresspinpredict))   \n",
      "\n",
      "def log_file_data(fac,vmax,gradientcorr):\n",
      "    logfilepath = log_file_path(fac,vmax,gradientcorr)\n",
      "    return np.loadtxt(logfilepath)\n",
      "\n",
      "def log_file_path(fac,vmax,gradientcorr,logdir='Log Files/'):\n",
      "    subdir = maindir + logdir\n",
      "    suffix = get_suffix(gradientcorr)\n",
      "    return '{subdir}{simname}_{fac}_vmax_{vmax}_{suffix}'.format(subdir=subdir,simname=simname,suffix=suffix,\n",
      "                                                                 fac=fac,vmax=vmax)\n",
      "\n",
      "def get_suffix(gradientcorr):\n",
      "    if gradientcorr:\n",
      "        return 'corr'\n",
      "    else:\n",
      "        return 'uncorr'\n"
     ],
     "language": "python",
     "metadata": {},
     "outputs": []
    },
    {
     "cell_type": "code",
     "collapsed": false,
     "input": [
      "vmaxcorr = int(dislvmax)\n",
      "data = log_file_data(1,vmaxcorr,True)\n",
      "actualdata, predicteddata = actual_predicted_data(data)\n",
      "dataall = [actualdata,predicteddata]\n",
      "plot_data(dataall,axisbounds=[0,350,0,4500]);"
     ],
     "language": "python",
     "metadata": {},
     "outputs": []
    },
    {
     "cell_type": "code",
     "collapsed": false,
     "input": [
      "predicteddata.shape"
     ],
     "language": "python",
     "metadata": {},
     "outputs": []
    },
    {
     "cell_type": "code",
     "collapsed": false,
     "input": [],
     "language": "python",
     "metadata": {},
     "outputs": []
    }
   ],
   "metadata": {}
  }
 ]
}