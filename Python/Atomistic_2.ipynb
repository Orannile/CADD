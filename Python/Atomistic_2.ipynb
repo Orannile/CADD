{
 "metadata": {
  "name": "",
  "signature": "sha256:36d9e2fff8597e28d5019691ca7849c8e3fe803801adfcca1d8f50f3860f1492"
 },
 "nbformat": 3,
 "nbformat_minor": 0,
 "worksheets": [
  {
   "cells": [
    {
     "cell_type": "code",
     "collapsed": false,
     "input": [
      "import numpy as np\n",
      "import matplotlib as mpl\n",
      "import matplotlib.pyplot as plt\n",
      "import cadd_io as cdio\n",
      "import cadd_io_struct_new3 as cdiosn3\n",
      "import mdutilities_io as mduio\n",
      "import mymath as Mmath\n",
      "import scipy.interpolate as spi\n",
      "import my_plot as myplot\n",
      "import cadddatadump as cddump\n",
      "import cadd_mesh2 as cdmesh\n",
      "import cadd\n",
      "import itertools\n",
      "import os\n",
      "import sys\n",
      "import cadd_plot as cdplot\n",
      "%matplotlib qt\n",
      "%load_ext autoreload\n",
      "%autoreload 2"
     ],
     "language": "python",
     "metadata": {},
     "outputs": [],
     "prompt_number": 1
    },
    {
     "cell_type": "heading",
     "level": 1,
     "metadata": {},
     "source": [
      "Preliminaries"
     ]
    },
    {
     "cell_type": "heading",
     "level": 2,
     "metadata": {},
     "source": [
      "Directories"
     ]
    },
    {
     "cell_type": "code",
     "collapsed": false,
     "input": [
      "maindir = 'C:/Users/Varun/Dropbox/Myself/CADD_Code/Tests/Atomistic_Test_2/'\n",
      "uidir = maindir + 'User Inputs/'\n",
      "fidir = maindir + 'Fortran Inputs/'\n",
      "restartdir = maindir + 'Restart Files/'\n",
      "dumpdir = maindir + 'Dump Files/'\n",
      "ldumpdir = maindir + 'LAMMPS Style Dump Files/'\n",
      "lcompdir = maindir + 'LAMMPS Comparison/'"
     ],
     "language": "python",
     "metadata": {},
     "outputs": [],
     "prompt_number": 2
    },
    {
     "cell_type": "heading",
     "level": 2,
     "metadata": {},
     "source": [
      "Simulation Info"
     ]
    },
    {
     "cell_type": "code",
     "collapsed": false,
     "input": [
      "simname = 'atomistic_2'\n",
      "simtype = 'atomistic'"
     ],
     "language": "python",
     "metadata": {},
     "outputs": [],
     "prompt_number": 3
    },
    {
     "cell_type": "heading",
     "level": 1,
     "metadata": {},
     "source": [
      "Construct User Inputs"
     ]
    },
    {
     "cell_type": "heading",
     "level": 2,
     "metadata": {},
     "source": [
      "Nodes from LAMMPS Dump"
     ]
    },
    {
     "cell_type": "heading",
     "level": 3,
     "metadata": {},
     "source": [
      "Find File"
     ]
    },
    {
     "cell_type": "code",
     "collapsed": false,
     "input": [
      "def init_lammps_filename():\n",
      "    for filename in os.listdir(lcompdir):\n",
      "        if filename.endswith('.0.dump'):\n",
      "            return lcompdir + filename"
     ],
     "language": "python",
     "metadata": {},
     "outputs": [],
     "prompt_number": 4
    },
    {
     "cell_type": "heading",
     "level": 3,
     "metadata": {},
     "source": [
      "Recover xyz"
     ]
    },
    {
     "cell_type": "code",
     "collapsed": false,
     "input": [
      "dumpfilenameinit = init_lammps_filename()\n",
      "dumpfileinit = mduio.DumpFile(dumpfilenameinit)\n",
      "dumpres = dumpfileinit.read_file(postype='unscaled')\n",
      "xyz = dumpres[:,2:5]\n",
      "xyz[:,-1] = 0 # z-coordinate; irrelevant, I suppose\n",
      "# plt.scatter(xyz[:,0],xyz[:,1])"
     ],
     "language": "python",
     "metadata": {},
     "outputs": [],
     "prompt_number": 14
    },
    {
     "cell_type": "heading",
     "level": 3,
     "metadata": {},
     "source": [
      "Types"
     ]
    },
    {
     "cell_type": "code",
     "collapsed": false,
     "input": [
      "natoms = dumpres.shape[0]\n",
      "types = np.zeros((natoms,3)).astype(int)\n",
      "fixedflag = 3\n",
      "freeflag = 0\n",
      "for i, atominfo in enumerate(dumpres):\n",
      "    atomtype = atominfo[1]\n",
      "    if atomtype == 2:\n",
      "        bcflag = fixedflag\n",
      "    else:\n",
      "        bcflag = freeflag\n",
      "    types[i,:] = [1,1,bcflag]"
     ],
     "language": "python",
     "metadata": {},
     "outputs": [],
     "prompt_number": 15
    },
    {
     "cell_type": "heading",
     "level": 2,
     "metadata": {},
     "source": [
      "Write User Nodes Files"
     ]
    },
    {
     "cell_type": "code",
     "collapsed": false,
     "input": [
      "xyfilename = uidir + 'nodes.xy'\n",
      "typesfilename = uidir + 'nodes.types'\n",
      "cdio.write_array(xyz,xyfilename)\n",
      "cdio.write_array(types,typesfilename)"
     ],
     "language": "python",
     "metadata": {},
     "outputs": [],
     "prompt_number": 16
    },
    {
     "cell_type": "heading",
     "level": 1,
     "metadata": {},
     "source": [
      "Read User Inputs"
     ]
    },
    {
     "cell_type": "code",
     "collapsed": false,
     "input": [
      "cadddata = cdiosn3.Simulation(simtype,simname,uidir,fidir,dumpdir,readinput=True)"
     ],
     "language": "python",
     "metadata": {},
     "outputs": [],
     "prompt_number": 18
    },
    {
     "cell_type": "heading",
     "level": 1,
     "metadata": {},
     "source": [
      "Write Fortran Inputs"
     ]
    },
    {
     "cell_type": "code",
     "collapsed": false,
     "input": [
      "cadddata.write_fortran_all()"
     ],
     "language": "python",
     "metadata": {},
     "outputs": [],
     "prompt_number": 19
    },
    {
     "cell_type": "heading",
     "level": 1,
     "metadata": {},
     "source": [
      "Plot Dump Files"
     ]
    },
    {
     "cell_type": "code",
     "collapsed": false,
     "input": [
      "fig = cadddata.plot_dump_from_increment(increment=5000);"
     ],
     "language": "python",
     "metadata": {},
     "outputs": [],
     "prompt_number": 20
    },
    {
     "cell_type": "heading",
     "level": 2,
     "metadata": {},
     "source": [
      "With Colors according to CentroSymmetry"
     ]
    },
    {
     "cell_type": "code",
     "collapsed": false,
     "input": [
      "# Notes: Most of the time is spent in np.loadtxt\n",
      "filepath = cadddata.dump_file_path(increment=5000)\n",
      "dumpdict = cdio.read_from_dump(filepath) # read in dump dictionary from file\n",
      "cadddump = cddump.CADDDataDump(dumpdict) # create cadddump instance"
     ],
     "language": "python",
     "metadata": {},
     "outputs": [],
     "prompt_number": 21
    },
    {
     "cell_type": "code",
     "collapsed": false,
     "input": [
      "# Notes: Most of the time is spent creating Patch/CircleCollection\n",
      "colors = cdplot.gen_cmap(dumpdict['centro'],'OrRd',[0,0.6]) # colors according to centrosymmetry\n",
      "cadddump.currentplot['atoms'] = cadddump.gen_atoms_plot(facecolor=colors,edgecolor='gray')\n",
      "fig = myplot.my_plot(cadddump,fignum=1) # plot them!\n",
      "myplot.pretty_figure(fig,aspect=1,ticksize=None,tight=False,tightlayout=False);"
     ],
     "language": "python",
     "metadata": {},
     "outputs": [],
     "prompt_number": 22
    },
    {
     "cell_type": "heading",
     "level": 1,
     "metadata": {},
     "source": [
      "Convert to LAMMPS Dump for Sake of Comparison"
     ]
    },
    {
     "cell_type": "code",
     "collapsed": false,
     "input": [
      "def write_lammps_dump(cadddata,increment,pref='lammps_',olddir=dumpdir,newdir=ldumpdir):\n",
      "    dumpfilename = cadddata.dump_file_name(increment)\n",
      "    dumpdict = cdio.readInput(dumpfilename,subdir=olddir)\n",
      "    newfilename = newdir + pref + dumpfilename\n",
      "    cdio.writeLammpsDump(dumpdict,newfilename,increment)"
     ],
     "language": "python",
     "metadata": {},
     "outputs": [],
     "prompt_number": 70
    },
    {
     "cell_type": "code",
     "collapsed": false,
     "input": [
      "for increment in range(100,5100,100):\n",
      "    write_lammps_dump(cadddata,increment)"
     ],
     "language": "python",
     "metadata": {},
     "outputs": [],
     "prompt_number": 78
    },
    {
     "cell_type": "heading",
     "level": 1,
     "metadata": {},
     "source": [
      "Equivalent Files (Restart)"
     ]
    },
    {
     "cell_type": "code",
     "collapsed": false,
     "input": [
      "cdio.are_all_files_equivalent(fidir,restartdir)"
     ],
     "language": "python",
     "metadata": {},
     "outputs": [
      {
       "metadata": {},
       "output_type": "pyout",
       "prompt_number": 28,
       "text": [
        "True"
       ]
      }
     ],
     "prompt_number": 28
    },
    {
     "cell_type": "heading",
     "level": 1,
     "metadata": {},
     "source": [
      "Compare LAMMPS Dump"
     ]
    },
    {
     "cell_type": "code",
     "collapsed": false,
     "input": [
      "def lammps_file_name(lammpssimname,increment):\n",
      "    return '{}.{}.dump'.format(lammpssimname,increment)"
     ],
     "language": "python",
     "metadata": {},
     "outputs": [],
     "prompt_number": 6
    },
    {
     "cell_type": "code",
     "collapsed": false,
     "input": [
      "lammpssimname = 'K_CADD_test_lammps_damped'"
     ],
     "language": "python",
     "metadata": {},
     "outputs": [],
     "prompt_number": 7
    },
    {
     "cell_type": "code",
     "collapsed": false,
     "input": [
      "# sort based on 0\n",
      "lammpsfile = lammps_file_name(lammpssimname,0)\n",
      "res0 = mduio.readDumpFileUnscaled(lcompdir+lammpsfile,None)\n",
      "idxsort0 = np.argsort(res0[:,0])"
     ],
     "language": "python",
     "metadata": {},
     "outputs": [],
     "prompt_number": 8
    },
    {
     "cell_type": "code",
     "collapsed": false,
     "input": [
      "increment = 5000"
     ],
     "language": "python",
     "metadata": {},
     "outputs": [],
     "prompt_number": 13
    },
    {
     "cell_type": "code",
     "collapsed": false,
     "input": [
      "lammpsfile = lammps_file_name(lammpssimname,increment)\n",
      "res = mduio.readDumpFileUnscaled(lcompdir+lammpsfile,None)\n",
      "idxsort = np.argsort(res[:,0])\n",
      "xylammps = res[idxsort,2:4]"
     ],
     "language": "python",
     "metadata": {},
     "outputs": [],
     "prompt_number": 14
    },
    {
     "cell_type": "code",
     "collapsed": false,
     "input": [
      "filepath = cadddata.dump_file_path(increment=increment)\n",
      "dumpdict = cdio.read_from_dump(filepath) # read in dump dictionary from file\n",
      "cadddump = cddump.CADDDataDump(dumpdict) # create cadddump instance\n",
      "xyme = cadddump.deformedpos[idxsort0,:]"
     ],
     "language": "python",
     "metadata": {},
     "outputs": [],
     "prompt_number": 15
    },
    {
     "cell_type": "code",
     "collapsed": false,
     "input": [
      "diff = xylammps - xyme\n",
      "np.max(np.linalg.norm(diff,axis=1))"
     ],
     "language": "python",
     "metadata": {},
     "outputs": [
      {
       "metadata": {},
       "output_type": "pyout",
       "prompt_number": 16,
       "text": [
        "8.9223345502613874e-05"
       ]
      }
     ],
     "prompt_number": 16
    },
    {
     "cell_type": "code",
     "collapsed": false,
     "input": [],
     "language": "python",
     "metadata": {},
     "outputs": []
    }
   ],
   "metadata": {}
  }
 ]
}