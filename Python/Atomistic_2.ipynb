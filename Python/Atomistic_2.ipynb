{
 "cells": [
  {
   "cell_type": "code",
   "execution_count": 1,
   "metadata": {
    "collapsed": false
   },
   "outputs": [],
   "source": [
    "import numpy as np\n",
    "import matplotlib as mpl\n",
    "import matplotlib.pyplot as plt\n",
    "import cadd_io as cdio\n",
    "import cadd_main as cdmain\n",
    "import mdutilities_io as mduio\n",
    "import mymath as Mmath\n",
    "import scipy.interpolate as spi\n",
    "import my_plot as myplot\n",
    "import cadddatadump as cddump\n",
    "import cadd_mesh2 as cdmesh\n",
    "import cadd\n",
    "import itertools\n",
    "import os\n",
    "import sys\n",
    "import cadd_plot as cdplot\n",
    "%matplotlib qt\n",
    "%load_ext autoreload\n",
    "%autoreload 2"
   ]
  },
  {
   "cell_type": "markdown",
   "metadata": {},
   "source": [
    "# Preliminaries"
   ]
  },
  {
   "cell_type": "markdown",
   "metadata": {},
   "source": [
    "## Directories"
   ]
  },
  {
   "cell_type": "code",
   "execution_count": 2,
   "metadata": {
    "collapsed": false
   },
   "outputs": [],
   "source": [
    "maindir = 'C:/Users/Varun/Dropbox/Myself/CADD_Code/Tests/Atomistic_Test_2/'\n",
    "uidir = maindir + 'User Inputs/'\n",
    "fidir = maindir + 'Fortran Inputs/'\n",
    "restartdir = maindir + 'Restart Files/'\n",
    "dumpdir = maindir + 'Dump Files/'\n",
    "ldumpdir = maindir + 'LAMMPS Style Dump Files/'\n",
    "lcompdir = maindir + 'LAMMPS Comparison/'"
   ]
  },
  {
   "cell_type": "markdown",
   "metadata": {},
   "source": [
    "## Simulation Info"
   ]
  },
  {
   "cell_type": "code",
   "execution_count": 3,
   "metadata": {
    "collapsed": false
   },
   "outputs": [],
   "source": [
    "simname = 'atomistic_2'\n",
    "simtype = 'atomistic'"
   ]
  },
  {
   "cell_type": "markdown",
   "metadata": {},
   "source": [
    "# Construct User Inputs"
   ]
  },
  {
   "cell_type": "markdown",
   "metadata": {},
   "source": [
    "## Nodes from LAMMPS Dump"
   ]
  },
  {
   "cell_type": "markdown",
   "metadata": {},
   "source": [
    "### Find File"
   ]
  },
  {
   "cell_type": "code",
   "execution_count": 4,
   "metadata": {
    "collapsed": false
   },
   "outputs": [],
   "source": [
    "def init_lammps_filename():\n",
    "    for filename in os.listdir(lcompdir):\n",
    "        if filename.endswith('.0.dump'):\n",
    "            return lcompdir + filename"
   ]
  },
  {
   "cell_type": "markdown",
   "metadata": {},
   "source": [
    "### Recover xyz"
   ]
  },
  {
   "cell_type": "code",
   "execution_count": 5,
   "metadata": {
    "collapsed": false
   },
   "outputs": [],
   "source": [
    "dumpfilenameinit = init_lammps_filename()\n",
    "dumpfileinit = mduio.DumpFile(dumpfilenameinit)\n",
    "dumpres = dumpfileinit.read_file(postype='unscaled')\n",
    "xyz = dumpres[:,2:5]\n",
    "xyz[:,-1] = 0 # z-coordinate; irrelevant, I suppose\n",
    "# plt.scatter(xyz[:,0],xyz[:,1])"
   ]
  },
  {
   "cell_type": "markdown",
   "metadata": {},
   "source": [
    "### Types"
   ]
  },
  {
   "cell_type": "code",
   "execution_count": 6,
   "metadata": {
    "collapsed": false
   },
   "outputs": [],
   "source": [
    "natoms = dumpres.shape[0]\n",
    "types = np.zeros((natoms,3)).astype(int)\n",
    "fixedflag = 3\n",
    "freeflag = 0\n",
    "for i, atominfo in enumerate(dumpres):\n",
    "    atomtype = atominfo[1]\n",
    "    if atomtype == 2:\n",
    "        bcflag = fixedflag\n",
    "    else:\n",
    "        bcflag = freeflag\n",
    "    types[i,:] = [1,1,bcflag]"
   ]
  },
  {
   "cell_type": "markdown",
   "metadata": {},
   "source": [
    "## Write User Nodes Files"
   ]
  },
  {
   "cell_type": "code",
   "execution_count": 7,
   "metadata": {
    "collapsed": false
   },
   "outputs": [],
   "source": [
    "xyfilename = uidir + 'nodes.xy'\n",
    "typesfilename = uidir + 'nodes.types'\n",
    "cdio.write_array(xyz,xyfilename)\n",
    "cdio.write_array(types,typesfilename)"
   ]
  },
  {
   "cell_type": "markdown",
   "metadata": {},
   "source": [
    "# Read User Inputs"
   ]
  },
  {
   "cell_type": "code",
   "execution_count": 8,
   "metadata": {
    "collapsed": false
   },
   "outputs": [],
   "source": [
    "cadddata = cdmain.Simulation(simtype,simname,uidir,fidir,dumpdir,readinput=True)"
   ]
  },
  {
   "cell_type": "markdown",
   "metadata": {},
   "source": [
    "# Write Fortran Inputs"
   ]
  },
  {
   "cell_type": "code",
   "execution_count": 9,
   "metadata": {
    "collapsed": false
   },
   "outputs": [],
   "source": [
    "cadddata.write_fortran_all()"
   ]
  },
  {
   "cell_type": "markdown",
   "metadata": {},
   "source": [
    "# Plot Dump Files"
   ]
  },
  {
   "cell_type": "code",
   "execution_count": 10,
   "metadata": {
    "collapsed": false
   },
   "outputs": [],
   "source": [
    "fig = cadddata.plot_dump_from_increment(increment=5000);"
   ]
  },
  {
   "cell_type": "markdown",
   "metadata": {},
   "source": [
    "## With Colors according to CentroSymmetry"
   ]
  },
  {
   "cell_type": "code",
   "execution_count": 2,
   "metadata": {
    "collapsed": false
   },
   "outputs": [
    {
     "ename": "NameError",
     "evalue": "name 'cadddata' is not defined",
     "output_type": "error",
     "traceback": [
      "\u001b[1;31m---------------------------------------------------------------------------\u001b[0m",
      "\u001b[1;31mNameError\u001b[0m                                 Traceback (most recent call last)",
      "\u001b[1;32m<ipython-input-2-2122780d520d>\u001b[0m in \u001b[0;36m<module>\u001b[1;34m()\u001b[0m\n\u001b[0;32m      1\u001b[0m \u001b[1;31m# Notes: Most of the time is spent in np.loadtxt\u001b[0m\u001b[1;33m\u001b[0m\u001b[1;33m\u001b[0m\u001b[0m\n\u001b[1;32m----> 2\u001b[1;33m \u001b[0mfilepath\u001b[0m \u001b[1;33m=\u001b[0m \u001b[0mcadddata\u001b[0m\u001b[1;33m.\u001b[0m\u001b[0mdump_file_path\u001b[0m\u001b[1;33m(\u001b[0m\u001b[0mincrement\u001b[0m\u001b[1;33m=\u001b[0m\u001b[1;36m5000\u001b[0m\u001b[1;33m)\u001b[0m\u001b[1;33m\u001b[0m\u001b[0m\n\u001b[0m\u001b[0;32m      3\u001b[0m \u001b[0mdumpdict\u001b[0m \u001b[1;33m=\u001b[0m \u001b[0mcdio\u001b[0m\u001b[1;33m.\u001b[0m\u001b[0mread_from_dump\u001b[0m\u001b[1;33m(\u001b[0m\u001b[0mfilepath\u001b[0m\u001b[1;33m)\u001b[0m \u001b[1;31m# read in dump dictionary from file\u001b[0m\u001b[1;33m\u001b[0m\u001b[0m\n\u001b[0;32m      4\u001b[0m \u001b[0mcadddump\u001b[0m \u001b[1;33m=\u001b[0m \u001b[0mcddump\u001b[0m\u001b[1;33m.\u001b[0m\u001b[0mCADDDataDump\u001b[0m\u001b[1;33m(\u001b[0m\u001b[0mdumpdict\u001b[0m\u001b[1;33m)\u001b[0m \u001b[1;31m# create cadddump instance\u001b[0m\u001b[1;33m\u001b[0m\u001b[0m\n",
      "\u001b[1;31mNameError\u001b[0m: name 'cadddata' is not defined"
     ]
    }
   ],
   "source": [
    "# Notes: Most of the time is spent in np.loadtxt\n",
    "filepath = cadddata.dump_file_path(increment=5000)\n",
    "dumpdict = cdio.read_from_dump(filepath) # read in dump dictionary from file\n",
    "cadddump = cddump.CADDDataDump(dumpdict) # create cadddump instance"
   ]
  },
  {
   "cell_type": "code",
   "execution_count": 1,
   "metadata": {
    "collapsed": false
   },
   "outputs": [
    {
     "ename": "NameError",
     "evalue": "name 'cdplot' is not defined",
     "output_type": "error",
     "traceback": [
      "\u001b[1;31m---------------------------------------------------------------------------\u001b[0m",
      "\u001b[1;31mNameError\u001b[0m                                 Traceback (most recent call last)",
      "\u001b[1;32m<ipython-input-1-dafe668e1f63>\u001b[0m in \u001b[0;36m<module>\u001b[1;34m()\u001b[0m\n\u001b[0;32m      1\u001b[0m \u001b[1;31m# Notes: Most of the time is spent creating Patch/CircleCollection\u001b[0m\u001b[1;33m\u001b[0m\u001b[1;33m\u001b[0m\u001b[0m\n\u001b[1;32m----> 2\u001b[1;33m \u001b[0mcolors\u001b[0m \u001b[1;33m=\u001b[0m \u001b[0mcdplot\u001b[0m\u001b[1;33m.\u001b[0m\u001b[0mgen_cmap\u001b[0m\u001b[1;33m(\u001b[0m\u001b[0mdumpdict\u001b[0m\u001b[1;33m[\u001b[0m\u001b[1;34m'centro'\u001b[0m\u001b[1;33m]\u001b[0m\u001b[1;33m,\u001b[0m\u001b[1;34m'OrRd'\u001b[0m\u001b[1;33m,\u001b[0m\u001b[1;33m[\u001b[0m\u001b[1;36m0\u001b[0m\u001b[1;33m,\u001b[0m\u001b[1;36m0.6\u001b[0m\u001b[1;33m]\u001b[0m\u001b[1;33m)\u001b[0m \u001b[1;31m# colors according to centrosymmetry\u001b[0m\u001b[1;33m\u001b[0m\u001b[0m\n\u001b[0m\u001b[0;32m      3\u001b[0m \u001b[0midxatoms\u001b[0m \u001b[1;33m=\u001b[0m \u001b[0mmeshnodes\u001b[0m\u001b[1;33m.\u001b[0m\u001b[0mtypes\u001b[0m\u001b[1;33m[\u001b[0m\u001b[1;33m:\u001b[0m\u001b[1;33m,\u001b[0m\u001b[1;36m1\u001b[0m\u001b[1;33m]\u001b[0m \u001b[1;33m!=\u001b[0m \u001b[1;36m0\u001b[0m\u001b[1;33m\u001b[0m\u001b[0m\n\u001b[0;32m      4\u001b[0m \u001b[0midxrealatoms\u001b[0m \u001b[1;33m=\u001b[0m \u001b[0mmeshnodes\u001b[0m\u001b[1;33m.\u001b[0m\u001b[0mtypes\u001b[0m\u001b[1;33m[\u001b[0m\u001b[0midxatoms\u001b[0m\u001b[1;33m,\u001b[0m\u001b[1;36m1\u001b[0m\u001b[1;33m]\u001b[0m \u001b[1;33m==\u001b[0m \u001b[1;36m1\u001b[0m\u001b[1;33m\u001b[0m\u001b[0m\n\u001b[0;32m      5\u001b[0m \u001b[0mcolors\u001b[0m \u001b[1;33m=\u001b[0m \u001b[0mcolors\u001b[0m\u001b[1;33m[\u001b[0m\u001b[0midxrealatoms\u001b[0m\u001b[1;33m,\u001b[0m\u001b[1;33m:\u001b[0m\u001b[1;33m]\u001b[0m\u001b[1;33m\u001b[0m\u001b[0m\n",
      "\u001b[1;31mNameError\u001b[0m: name 'cdplot' is not defined"
     ]
    }
   ],
   "source": [
    "# Notes: Most of the time is spent creating Patch/CircleCollection\n",
    "colors = cdplot.gen_cmap(dumpdict['centro'],'OrRd',[0,0.6]) # colors according to centrosymmetry\n",
    "cadddump.currentplot['atoms'] = cadddump.gen_atoms_plot(facecolor=colors,edgecolor='gray')\n",
    "fig = myplot.my_plot(cadddump,fignum=1) # plot them!\n",
    "myplot.pretty_figure(fig,aspect=1,ticksize=None,tight=False,tightlayout=False);"
   ]
  },
  {
   "cell_type": "markdown",
   "metadata": {},
   "source": [
    "# Convert to LAMMPS Dump for Sake of Comparison"
   ]
  },
  {
   "cell_type": "code",
   "execution_count": 70,
   "metadata": {
    "collapsed": false
   },
   "outputs": [],
   "source": [
    "def write_lammps_dump(cadddata,increment,pref='lammps_',olddir=dumpdir,newdir=ldumpdir):\n",
    "    dumpfilename = cadddata.dump_file_name(increment)\n",
    "    dumpdict = cdio.readInput(dumpfilename,subdir=olddir)\n",
    "    newfilename = newdir + pref + dumpfilename\n",
    "    cdio.writeLammpsDump(dumpdict,newfilename,increment)"
   ]
  },
  {
   "cell_type": "code",
   "execution_count": 78,
   "metadata": {
    "collapsed": false
   },
   "outputs": [],
   "source": [
    "for increment in range(100,5100,100):\n",
    "    write_lammps_dump(cadddata,increment)"
   ]
  },
  {
   "cell_type": "markdown",
   "metadata": {},
   "source": [
    "# Equivalent Files (Restart)"
   ]
  },
  {
   "cell_type": "code",
   "execution_count": 28,
   "metadata": {
    "collapsed": false
   },
   "outputs": [
    {
     "data": {
      "text/plain": [
       "True"
      ]
     },
     "execution_count": 28,
     "metadata": {},
     "output_type": "execute_result"
    }
   ],
   "source": [
    "cdio.are_all_files_equivalent(fidir,restartdir)"
   ]
  },
  {
   "cell_type": "markdown",
   "metadata": {},
   "source": [
    "# Compare LAMMPS Dump"
   ]
  },
  {
   "cell_type": "code",
   "execution_count": 6,
   "metadata": {
    "collapsed": false
   },
   "outputs": [],
   "source": [
    "def lammps_file_name(lammpssimname,increment):\n",
    "    return '{}.{}.dump'.format(lammpssimname,increment)"
   ]
  },
  {
   "cell_type": "code",
   "execution_count": 7,
   "metadata": {
    "collapsed": false
   },
   "outputs": [],
   "source": [
    "lammpssimname = 'K_CADD_test_lammps_damped'"
   ]
  },
  {
   "cell_type": "code",
   "execution_count": 8,
   "metadata": {
    "collapsed": false
   },
   "outputs": [],
   "source": [
    "# sort based on 0\n",
    "lammpsfile = lammps_file_name(lammpssimname,0)\n",
    "res0 = mduio.readDumpFileUnscaled(lcompdir+lammpsfile,None)\n",
    "idxsort0 = np.argsort(res0[:,0])"
   ]
  },
  {
   "cell_type": "code",
   "execution_count": 13,
   "metadata": {
    "collapsed": false
   },
   "outputs": [],
   "source": [
    "increment = 5000"
   ]
  },
  {
   "cell_type": "code",
   "execution_count": 14,
   "metadata": {
    "collapsed": false
   },
   "outputs": [],
   "source": [
    "lammpsfile = lammps_file_name(lammpssimname,increment)\n",
    "res = mduio.readDumpFileUnscaled(lcompdir+lammpsfile,None)\n",
    "idxsort = np.argsort(res[:,0])\n",
    "xylammps = res[idxsort,2:4]"
   ]
  },
  {
   "cell_type": "code",
   "execution_count": 15,
   "metadata": {
    "collapsed": false
   },
   "outputs": [],
   "source": [
    "filepath = cadddata.dump_file_path(increment=increment)\n",
    "dumpdict = cdio.read_from_dump(filepath) # read in dump dictionary from file\n",
    "cadddump = cddump.CADDDataDump(dumpdict) # create cadddump instance\n",
    "xyme = cadddump.deformedpos[idxsort0,:]"
   ]
  },
  {
   "cell_type": "code",
   "execution_count": 16,
   "metadata": {
    "collapsed": false
   },
   "outputs": [
    {
     "data": {
      "text/plain": [
       "8.9223345502613874e-05"
      ]
     },
     "execution_count": 16,
     "metadata": {},
     "output_type": "execute_result"
    }
   ],
   "source": [
    "diff = xylammps - xyme\n",
    "np.max(np.linalg.norm(diff,axis=1))"
   ]
  },
  {
   "cell_type": "code",
   "execution_count": null,
   "metadata": {
    "collapsed": false
   },
   "outputs": [],
   "source": []
  }
 ],
 "metadata": {
  "kernelspec": {
   "display_name": "Python 3",
   "language": "python",
   "name": "python3"
  },
  "language_info": {
   "codemirror_mode": {
    "name": "ipython",
    "version": 3
   },
   "file_extension": ".py",
   "mimetype": "text/x-python",
   "name": "python",
   "nbconvert_exporter": "python",
   "pygments_lexer": "ipython3",
   "version": "3.5.1"
  }
 },
 "nbformat": 4,
 "nbformat_minor": 0
}
