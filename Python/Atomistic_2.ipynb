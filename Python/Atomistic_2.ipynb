{
 "cells": [
  {
   "cell_type": "code",
   "execution_count": 1,
   "metadata": {
    "collapsed": false
   },
   "outputs": [],
   "source": [
    "import numpy as np\n",
    "import matplotlib as mpl\n",
    "import matplotlib.pyplot as plt\n",
    "import cadd_io as cdio\n",
    "import cadd_main as cdmain\n",
    "import mdutilities_io as mduio\n",
    "import mymath as Mmath\n",
    "import scipy.interpolate as spi\n",
    "import my_plot as myplot\n",
    "import cadddatadump as cddump\n",
    "import cadd_mesh2 as cdmesh\n",
    "import cadd\n",
    "import itertools\n",
    "import os\n",
    "import sys\n",
    "import cadd_plot as cdplot\n",
    "%matplotlib qt\n",
    "%load_ext autoreload\n",
    "%autoreload 2"
   ]
  },
  {
   "cell_type": "markdown",
   "metadata": {},
   "source": [
    "# Preliminaries"
   ]
  },
  {
   "cell_type": "markdown",
   "metadata": {},
   "source": [
    "## Directories"
   ]
  },
  {
   "cell_type": "code",
   "execution_count": 2,
   "metadata": {
    "collapsed": false
   },
   "outputs": [],
   "source": [
    "maindir = 'C:/Users/Varun/Dropbox/Myself/CADD_Code/Tests/Atomistic_Test_2/'\n",
    "uidir = maindir + 'User Inputs/'\n",
    "fidir = maindir + 'Fortran Inputs/'\n",
    "restartdir = maindir + 'Restart Files/'\n",
    "dumpdir = maindir + 'Dump Files/'\n",
    "ldumpdir = maindir + 'LAMMPS Style Dump Files/'\n",
    "lcompdir = maindir + 'LAMMPS Comparison/'"
   ]
  },
  {
   "cell_type": "markdown",
   "metadata": {},
   "source": [
    "## Simulation Info"
   ]
  },
  {
   "cell_type": "code",
   "execution_count": 3,
   "metadata": {
    "collapsed": false
   },
   "outputs": [],
   "source": [
    "simname = 'atomistic_2'\n",
    "simtype = 'atomistic'"
   ]
  },
  {
   "cell_type": "markdown",
   "metadata": {},
   "source": [
    "# Construct User Inputs"
   ]
  },
  {
   "cell_type": "markdown",
   "metadata": {},
   "source": [
    "## Nodes from LAMMPS Dump"
   ]
  },
  {
   "cell_type": "markdown",
   "metadata": {},
   "source": [
    "### Find File"
   ]
  },
  {
   "cell_type": "code",
   "execution_count": 4,
   "metadata": {
    "collapsed": false
   },
   "outputs": [],
   "source": [
    "def init_lammps_filename():\n",
    "    for filename in os.listdir(lcompdir):\n",
    "        if filename.endswith('.0.dump'):\n",
    "            return lcompdir + filename"
   ]
  },
  {
   "cell_type": "markdown",
   "metadata": {},
   "source": [
    "### Recover xyz"
   ]
  },
  {
   "cell_type": "code",
   "execution_count": 5,
   "metadata": {
    "collapsed": false
   },
   "outputs": [],
   "source": [
    "dumpfilenameinit = init_lammps_filename()\n",
    "dumpfileinit = mduio.DumpFile(dumpfilenameinit)\n",
    "dumpres = dumpfileinit.read_file(postype='unscaled')\n",
    "xyz = dumpres[:,2:5]\n",
    "xyz[:,-1] = 0 # z-coordinate; irrelevant, I suppose\n",
    "# plt.scatter(xyz[:,0],xyz[:,1])"
   ]
  },
  {
   "cell_type": "markdown",
   "metadata": {},
   "source": [
    "### Types"
   ]
  },
  {
   "cell_type": "code",
   "execution_count": 6,
   "metadata": {
    "collapsed": false
   },
   "outputs": [],
   "source": [
    "natoms = dumpres.shape[0]\n",
    "types = np.zeros((natoms,3)).astype(int)\n",
    "fixedflag = 3\n",
    "freeflag = 0\n",
    "for i, atominfo in enumerate(dumpres):\n",
    "    atomtype = atominfo[1]\n",
    "    if atomtype == 2:\n",
    "        bcflag = fixedflag\n",
    "    else:\n",
    "        bcflag = freeflag\n",
    "    types[i,:] = [1,1,bcflag]"
   ]
  },
  {
   "cell_type": "markdown",
   "metadata": {},
   "source": [
    "## Write User Nodes Files"
   ]
  },
  {
   "cell_type": "code",
   "execution_count": 7,
   "metadata": {
    "collapsed": false
   },
   "outputs": [],
   "source": [
    "xyfilename = uidir + 'nodes.xy'\n",
    "typesfilename = uidir + 'nodes.types'\n",
    "cdio.write_array(xyz,xyfilename)\n",
    "cdio.write_array(types,typesfilename)"
   ]
  },
  {
   "cell_type": "markdown",
   "metadata": {},
   "source": [
    "# Read User Inputs"
   ]
  },
  {
   "cell_type": "code",
   "execution_count": 9,
   "metadata": {
    "collapsed": false
   },
   "outputs": [],
   "source": [
    "cadddata = cdmain.Simulation(simtype,simname,uidir,fidir,dumpdir,readinput=True)"
   ]
  },
  {
   "cell_type": "markdown",
   "metadata": {},
   "source": [
    "# Write Fortran Inputs"
   ]
  },
  {
   "cell_type": "code",
   "execution_count": 10,
   "metadata": {
    "collapsed": false
   },
   "outputs": [],
   "source": [
    "cadddata.write_fortran_all()"
   ]
  },
  {
   "cell_type": "markdown",
   "metadata": {},
   "source": [
    "# Plot Dump Files"
   ]
  },
  {
   "cell_type": "code",
   "execution_count": 15,
   "metadata": {
    "collapsed": false
   },
   "outputs": [],
   "source": [
    "fig = cadddata.plot_dump_from_increment(fignum=1,increment=5000,style='centro');"
   ]
  },
  {
   "cell_type": "markdown",
   "metadata": {},
   "source": [
    "# Convert to LAMMPS Dump for Sake of Comparison"
   ]
  },
  {
   "cell_type": "code",
   "execution_count": 22,
   "metadata": {
    "collapsed": false
   },
   "outputs": [],
   "source": [
    "def write_lammps_dump(cadddata,increment,pref='lammps_',olddir=dumpdir,newdir=ldumpdir):\n",
    "    dumpfilename = cadddata.dump_file_name(increment)\n",
    "    dumpdict = cdio.read_input(dumpfilename,subdir=olddir)\n",
    "    newfilename = newdir + pref + dumpfilename\n",
    "    cdio.writeLammpsDump(dumpdict,newfilename,increment)"
   ]
  },
  {
   "cell_type": "code",
   "execution_count": 23,
   "metadata": {
    "collapsed": false
   },
   "outputs": [],
   "source": [
    "for increment in range(100,5100,100):\n",
    "    write_lammps_dump(cadddata,increment)"
   ]
  },
  {
   "cell_type": "markdown",
   "metadata": {},
   "source": [
    "# Equivalent Files (Restart)"
   ]
  },
  {
   "cell_type": "code",
   "execution_count": 25,
   "metadata": {
    "collapsed": false
   },
   "outputs": [
    {
     "data": {
      "text/plain": [
       "True"
      ]
     },
     "execution_count": 25,
     "metadata": {},
     "output_type": "execute_result"
    }
   ],
   "source": [
    "cdio.are_all_files_equivalent(fidir,restartdir)"
   ]
  },
  {
   "cell_type": "markdown",
   "metadata": {},
   "source": [
    "# Compare LAMMPS Dump"
   ]
  },
  {
   "cell_type": "code",
   "execution_count": 26,
   "metadata": {
    "collapsed": false
   },
   "outputs": [],
   "source": [
    "def lammps_file_name(lammpssimname,increment):\n",
    "    return '{}.{}.dump'.format(lammpssimname,increment)"
   ]
  },
  {
   "cell_type": "code",
   "execution_count": 27,
   "metadata": {
    "collapsed": false
   },
   "outputs": [],
   "source": [
    "lammpssimname = 'K_CADD_test_lammps_damped'"
   ]
  },
  {
   "cell_type": "code",
   "execution_count": 53,
   "metadata": {
    "collapsed": false
   },
   "outputs": [
    {
     "name": "stdout",
     "output_type": "stream",
     "text": [
      "None\n"
     ]
    }
   ],
   "source": [
    "# sort based on 0\n",
    "increment = 0\n",
    "lammpsfile = lammps_file_name(lammpssimname,increment)\n",
    "lammpsfileobj = mduio.DumpFile(lammpsfile,subdir=lcompdir)\n",
    "res0 = lammpsfileobj.read_file(postype='unscaled')\n",
    "idxsort0 = np.argsort(res0[:,0])"
   ]
  },
  {
   "cell_type": "code",
   "execution_count": 54,
   "metadata": {
    "collapsed": false
   },
   "outputs": [
    {
     "name": "stdout",
     "output_type": "stream",
     "text": [
      "None\n"
     ]
    }
   ],
   "source": [
    "increment = 5000\n",
    "lammpsfile = lammps_file_name(lammpssimname,increment)\n",
    "lammpsfileobj = mduio.DumpFile(lammpsfile,subdir=lcompdir)\n",
    "res = lammpsfileobj.read_file(postype='unscaled')\n",
    "idxsort = np.argsort(res[:,0])\n",
    "xylammps = res[idxsort,2:4]"
   ]
  },
  {
   "cell_type": "code",
   "execution_count": 55,
   "metadata": {
    "collapsed": false
   },
   "outputs": [],
   "source": [
    "filepath = cadddata.dump_file_path(increment=increment)\n",
    "dumpdict = cdio.read_from_dump(filepath) # read in dump dictionary from file\n",
    "cadddump = cddump.CADDDataDump(dumpdict) # create cadddump instance\n",
    "xyme = cadddump.deformedpos[idxsort0,:]"
   ]
  },
  {
   "cell_type": "code",
   "execution_count": 56,
   "metadata": {
    "collapsed": false
   },
   "outputs": [
    {
     "data": {
      "text/plain": [
       "8.9223345502613874e-05"
      ]
     },
     "execution_count": 56,
     "metadata": {},
     "output_type": "execute_result"
    }
   ],
   "source": [
    "diff = xylammps - xyme\n",
    "np.max(np.linalg.norm(diff,axis=1))"
   ]
  },
  {
   "cell_type": "code",
   "execution_count": null,
   "metadata": {
    "collapsed": false
   },
   "outputs": [],
   "source": []
  }
 ],
 "metadata": {
  "kernelspec": {
   "display_name": "Python 3",
   "language": "python",
   "name": "python3"
  },
  "language_info": {
   "codemirror_mode": {
    "name": "ipython",
    "version": 3
   },
   "file_extension": ".py",
   "mimetype": "text/x-python",
   "name": "python",
   "nbconvert_exporter": "python",
   "pygments_lexer": "ipython3",
   "version": "3.5.1"
  }
 },
 "nbformat": 4,
 "nbformat_minor": 0
}
