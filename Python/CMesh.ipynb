{
 "metadata": {
  "name": "",
  "signature": "sha256:4e08e32898725c294d8d310cca9c7027fc1ba43dc244966f3739e32fff3b9087"
 },
 "nbformat": 3,
 "nbformat_minor": 0,
 "worksheets": [
  {
   "cells": [
    {
     "cell_type": "code",
     "collapsed": false,
     "input": [
      "import numpy as np\n",
      "import matplotlib as mpl\n",
      "import matplotlib.pyplot as plt\n",
      "import cadd_io as cdio\n",
      "import cadd_main as cdmain\n",
      "import mdutilities_io as mduio\n",
      "import mymath as Mmath\n",
      "import my_plot as myplot\n",
      "import cadddatadump as cddump\n",
      "import cadd_mesh2 as cdmesh\n",
      "import cadd\n",
      "import os\n",
      "import sys\n",
      "import cadd_plot as cdplot\n",
      "%matplotlib qt\n",
      "%load_ext autoreload\n",
      "%autoreload 2"
     ],
     "language": "python",
     "metadata": {},
     "outputs": [],
     "prompt_number": 2
    },
    {
     "cell_type": "heading",
     "level": 1,
     "metadata": {},
     "source": [
      "Preliminaries"
     ]
    },
    {
     "cell_type": "heading",
     "level": 2,
     "metadata": {},
     "source": [
      "Directories"
     ]
    },
    {
     "cell_type": "code",
     "collapsed": false,
     "input": [
      "maindir = 'C:/Users/Varun/Dropbox/Myself/CADD_Code/Tests/CMesh_1/'\n",
      "uidir = maindir + 'User Inputs/'\n",
      "fidir = maindir + 'Fortran Inputs/'\n",
      "dumpdir = maindir + 'Dump Files/'"
     ],
     "language": "python",
     "metadata": {},
     "outputs": [],
     "prompt_number": 3
    },
    {
     "cell_type": "heading",
     "level": 1,
     "metadata": {},
     "source": [
      "C Mesh"
     ]
    },
    {
     "cell_type": "heading",
     "level": 2,
     "metadata": {},
     "source": [
      "Create"
     ]
    },
    {
     "cell_type": "code",
     "collapsed": false,
     "input": [
      "# parameters:\n",
      "# xmin, xmax, ymin, ymax for middle\n",
      "# nx, ny for middle\n",
      "# nx, ny for legs\n",
      "def c_mesh(boundsmiddle,nmiddle,nlegs):\n",
      "    mesh = cdmesh.MeshRectangle(boundsmiddle,nmiddle)\n",
      "    xmin, xmax, ymin, ymax = boundsmiddle\n",
      "    nx, ny = nmiddle\n",
      "    nxlegs, nylegs = nlegs\n",
      "    xstep = (xmax-xmin)/(nx-1)\n",
      "    ystep = (ymax-ymin)/(ny-1)\n",
      "    startpointtop = np.array([xmin,ymax])\n",
      "    endpointtop = np.array([xmin,ymax-ystep*(nylegs-1)])\n",
      "    startpointbot = np.array([xmin,ymin])\n",
      "    endpointbot = np.array([xmin,ymin+ystep*(nylegs-1)])\n",
      "    def add_leg_to_mesh(mesh,startpoint,endpoint):\n",
      "        ystart = startpoint[1]\n",
      "        yend = endpoint[1]\n",
      "        line = cdmesh.Line(startpoint,endpoint)\n",
      "        line.nodenums = mesh.nodes.search_for_nodes_along_line(line)\n",
      "        lines = [line]\n",
      "        for i in range(1,nxlegs):\n",
      "            xcoordnew = xmin - i*xstep\n",
      "            startpointnew = np.array([xcoordnew,ystart])\n",
      "            endpointnew = np.array([xcoordnew,yend])\n",
      "            line = cdmesh.Line(startpointnew,endpointnew)\n",
      "            line.nodenums = mesh.nodes.gen_fe_nodes_along_line(line,nylegs)\n",
      "            lines.append(line)\n",
      "        for lineprev, linenext in cdmesh.pairwise(lines): # iterate over prev, current\n",
      "            elements = mesh.elements_std(lineprev.nodenums,linenext.nodenums)\n",
      "            mesh.add_elements_from_list(elements)\n",
      "    add_leg_to_mesh(mesh,startpointtop,endpointtop)\n",
      "    add_leg_to_mesh(mesh,startpointbot,endpointbot)\n",
      "    return mesh"
     ],
     "language": "python",
     "metadata": {},
     "outputs": [],
     "prompt_number": 4
    },
    {
     "cell_type": "code",
     "collapsed": false,
     "input": [
      "boundsmiddle = np.array([0,3,-4,4])\n",
      "nmiddle = [4,9]\n",
      "nlegs = [6,4]\n",
      "cmesh = c_mesh(boundsmiddle,nmiddle,nlegs)"
     ],
     "language": "python",
     "metadata": {},
     "outputs": [],
     "prompt_number": 5
    },
    {
     "cell_type": "heading",
     "level": 2,
     "metadata": {},
     "source": [
      "Visualize"
     ]
    },
    {
     "cell_type": "code",
     "collapsed": false,
     "input": [
      "cmesh.write_dump_all('cmesh.dump')\n",
      "simtype = 'fe'\n",
      "cmeshsim = cdmain.Simulation(simtype,'cmesh_1',uidir,fidir,dumpdir,readinput=False)"
     ],
     "language": "python",
     "metadata": {},
     "outputs": [],
     "prompt_number": 23
    },
    {
     "cell_type": "code",
     "collapsed": false,
     "input": [
      "cmeshsim.plot_dump_from_file('cmesh.dump',tight=False);"
     ],
     "language": "python",
     "metadata": {},
     "outputs": [],
     "prompt_number": 24
    },
    {
     "cell_type": "heading",
     "level": 1,
     "metadata": {},
     "source": [
      "IO"
     ]
    },
    {
     "cell_type": "heading",
     "level": 2,
     "metadata": {},
     "source": [
      "Write Nodes, Elements"
     ]
    },
    {
     "cell_type": "code",
     "collapsed": false,
     "input": [
      "cmesh.write_user_inputs_all('feelementsmat1','nodes',uidir)"
     ],
     "language": "python",
     "metadata": {},
     "outputs": [],
     "prompt_number": 25
    },
    {
     "cell_type": "heading",
     "level": 2,
     "metadata": {},
     "source": [
      "Read User Inputs"
     ]
    },
    {
     "cell_type": "code",
     "collapsed": false,
     "input": [
      "simtype = 'dd'\n",
      "cmeshsim = cdmain.Simulation(simtype,'cmesh_1',uidir,fidir,dumpdir,nfematerials=1)"
     ],
     "language": "python",
     "metadata": {},
     "outputs": [],
     "prompt_number": 39
    },
    {
     "cell_type": "heading",
     "level": 2,
     "metadata": {},
     "source": [
      "Write Fortran Inputs"
     ]
    },
    {
     "cell_type": "code",
     "collapsed": false,
     "input": [
      "cmeshsim.write_fortran_all()"
     ],
     "language": "python",
     "metadata": {},
     "outputs": [],
     "prompt_number": 40
    },
    {
     "cell_type": "heading",
     "level": 1,
     "metadata": {},
     "source": [
      "Dump Outputs"
     ]
    },
    {
     "cell_type": "code",
     "collapsed": false,
     "input": [
      "cmeshsim.plot_dump_from_increment(10,fignum=1,tight=False);"
     ],
     "language": "python",
     "metadata": {},
     "outputs": [],
     "prompt_number": 41
    },
    {
     "cell_type": "code",
     "collapsed": false,
     "input": [
      "cmeshsim.plot_dump_from_increment(11,fignum=2,tight=False);"
     ],
     "language": "python",
     "metadata": {},
     "outputs": [],
     "prompt_number": 42
    },
    {
     "cell_type": "code",
     "collapsed": false,
     "input": [
      "# Compare displacements\n",
      "b = cmeshsim.data.materials.structlist[0].burgers.val\n",
      "dispexpected = b/2*np.array([np.cos(np.pi/3),np.sin(np.pi/3)])\n",
      "print(dispexpected)"
     ],
     "language": "python",
     "metadata": {},
     "outputs": [
      {
       "output_type": "stream",
       "stream": "stdout",
       "text": [
        "[ 0.280615    0.48603944]\n"
       ]
      }
     ],
     "prompt_number": 44
    },
    {
     "cell_type": "code",
     "collapsed": false,
     "input": [],
     "language": "python",
     "metadata": {},
     "outputs": []
    }
   ],
   "metadata": {}
  }
 ]
}