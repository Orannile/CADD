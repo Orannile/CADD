{
 "cells": [
  {
   "cell_type": "code",
   "execution_count": 1,
   "metadata": {
    "collapsed": false
   },
   "outputs": [],
   "source": [
    "import numpy as np\n",
    "import matplotlib as mpl\n",
    "import matplotlib.pyplot as plt\n",
    "import cadd_io as cdio\n",
    "import cadd_main as cdmain\n",
    "import mdutilities_io as mduio\n",
    "import mymath as Mmath\n",
    "import my_plot as myplot\n",
    "import cadddatadump as cddump\n",
    "import cadd_mesh2 as cdmesh\n",
    "import cadd\n",
    "import os\n",
    "import sys\n",
    "import cadd_plot as cdplot\n",
    "%matplotlib qt\n",
    "%load_ext autoreload\n",
    "%autoreload 2"
   ]
  },
  {
   "cell_type": "markdown",
   "metadata": {},
   "source": [
    "# Preliminaries"
   ]
  },
  {
   "cell_type": "markdown",
   "metadata": {},
   "source": [
    "## Directories"
   ]
  },
  {
   "cell_type": "code",
   "execution_count": 2,
   "metadata": {
    "collapsed": false
   },
   "outputs": [],
   "source": [
    "maindir = 'C:/Users/Varun/Dropbox/Myself/CADD_Code/Tests/CMesh_1/'\n",
    "uidir = maindir + 'User Inputs/'\n",
    "fidir = maindir + 'Fortran Inputs/'\n",
    "dumpdir = maindir + 'Dump Files/'"
   ]
  },
  {
   "cell_type": "markdown",
   "metadata": {},
   "source": [
    "# C Mesh"
   ]
  },
  {
   "cell_type": "markdown",
   "metadata": {},
   "source": [
    "## Create"
   ]
  },
  {
   "cell_type": "code",
   "execution_count": 3,
   "metadata": {
    "collapsed": false
   },
   "outputs": [],
   "source": [
    "# parameters:\n",
    "# xmin, xmax, ymin, ymax for middle\n",
    "# nx, ny for middle\n",
    "# nx, ny for legs\n",
    "def c_mesh(boundsmiddle,nmiddle,nlegs):\n",
    "    mesh = cdmesh.MeshRectangle(boundsmiddle,nmiddle)\n",
    "    xmin, xmax, ymin, ymax = boundsmiddle\n",
    "    nx, ny = nmiddle\n",
    "    nxlegs, nylegs = nlegs\n",
    "    xstep = (xmax-xmin)/(nx-1)\n",
    "    ystep = (ymax-ymin)/(ny-1)\n",
    "    startpointtop = np.array([xmin,ymax])\n",
    "    endpointtop = np.array([xmin,ymax-ystep*(nylegs-1)])\n",
    "    startpointbot = np.array([xmin,ymin])\n",
    "    endpointbot = np.array([xmin,ymin+ystep*(nylegs-1)])\n",
    "    def add_leg_to_mesh(mesh,startpoint,endpoint):\n",
    "        ystart = startpoint[1]\n",
    "        yend = endpoint[1]\n",
    "        line = cdmesh.Line(startpoint,endpoint)\n",
    "        line.nodenums = mesh.nodes.search_for_nodes_along_line(line)\n",
    "        lines = [line]\n",
    "        for i in range(1,nxlegs):\n",
    "            xcoordnew = xmin - i*xstep\n",
    "            startpointnew = np.array([xcoordnew,ystart])\n",
    "            endpointnew = np.array([xcoordnew,yend])\n",
    "            line = cdmesh.Line(startpointnew,endpointnew)\n",
    "            line.nodenums = mesh.nodes.gen_fe_nodes_along_line(line,nylegs)\n",
    "            lines.append(line)\n",
    "        for lineprev, linenext in cdmesh.pairwise(lines): # iterate over prev, current\n",
    "            elements = mesh.elements_std(lineprev.nodenums,linenext.nodenums)\n",
    "            mesh.add_elements_from_list(elements)\n",
    "    add_leg_to_mesh(mesh,startpointtop,endpointtop)\n",
    "    add_leg_to_mesh(mesh,startpointbot,endpointbot)\n",
    "    return mesh"
   ]
  },
  {
   "cell_type": "code",
   "execution_count": 4,
   "metadata": {
    "collapsed": false
   },
   "outputs": [],
   "source": [
    "boundsmiddle = np.array([0,3,-4,4])\n",
    "nmiddle = [4,9]\n",
    "nlegs = [6,4]\n",
    "cmesh = c_mesh(boundsmiddle,nmiddle,nlegs)"
   ]
  },
  {
   "cell_type": "markdown",
   "metadata": {},
   "source": [
    "## Visualize"
   ]
  },
  {
   "cell_type": "code",
   "execution_count": 5,
   "metadata": {
    "collapsed": false
   },
   "outputs": [],
   "source": [
    "cmesh.write_dump_all('cmesh.dump')\n",
    "simtype = 'fe'\n",
    "cmeshsim = cdmain.Simulation(simtype,'cmesh_1',uidir,fidir,dumpdir,readinput=False)"
   ]
  },
  {
   "cell_type": "code",
   "execution_count": 6,
   "metadata": {
    "collapsed": false
   },
   "outputs": [],
   "source": [
    "cmeshsim.plot_dump_from_file('cmesh.dump',tight=False);"
   ]
  },
  {
   "cell_type": "markdown",
   "metadata": {},
   "source": [
    "# IO"
   ]
  },
  {
   "cell_type": "markdown",
   "metadata": {},
   "source": [
    "## Write Nodes, Elements"
   ]
  },
  {
   "cell_type": "code",
   "execution_count": 7,
   "metadata": {
    "collapsed": false
   },
   "outputs": [],
   "source": [
    "cmesh.write_user_inputs_all('feelementsmat1','nodes',uidir)"
   ]
  },
  {
   "cell_type": "markdown",
   "metadata": {},
   "source": [
    "## Read User Inputs"
   ]
  },
  {
   "cell_type": "code",
   "execution_count": 9,
   "metadata": {
    "collapsed": false
   },
   "outputs": [],
   "source": [
    "simtype = 'dd'\n",
    "cmeshsim = cdmain.Simulation(simtype,'cmesh_1',uidir,fidir,dumpdir,nfematerials=1)"
   ]
  },
  {
   "cell_type": "markdown",
   "metadata": {},
   "source": [
    "## Write Fortran Inputs"
   ]
  },
  {
   "cell_type": "code",
   "execution_count": 10,
   "metadata": {
    "collapsed": false
   },
   "outputs": [],
   "source": [
    "cmeshsim.write_fortran_all()"
   ]
  },
  {
   "cell_type": "markdown",
   "metadata": {},
   "source": [
    "# Dump Outputs"
   ]
  },
  {
   "cell_type": "code",
   "execution_count": 15,
   "metadata": {
    "collapsed": false
   },
   "outputs": [],
   "source": [
    "cmeshsim.plot_dump_from_increment(1,fignum=1,tight=False);"
   ]
  },
  {
   "cell_type": "code",
   "execution_count": 16,
   "metadata": {
    "collapsed": false
   },
   "outputs": [],
   "source": [
    "cmeshsim.plot_dump_from_increment(1,fignum=2,tight=False);"
   ]
  },
  {
   "cell_type": "code",
   "execution_count": 24,
   "metadata": {
    "collapsed": false
   },
   "outputs": [],
   "source": [
    "cmeshsim.plot_dump_from_increment(11,fignum=2,tight=False);"
   ]
  },
  {
   "cell_type": "code",
   "execution_count": 13,
   "metadata": {
    "collapsed": false,
    "scrolled": true
   },
   "outputs": [
    {
     "name": "stdout",
     "output_type": "stream",
     "text": [
      "[ 0.280615    0.48603944]\n"
     ]
    }
   ],
   "source": [
    "# Compare displacements\n",
    "b = cmeshsim.data.materials.structlist[0].burgers.val\n",
    "dispexpected = b/2*np.array([np.cos(np.pi/3),np.sin(np.pi/3)])\n",
    "print(dispexpected)"
   ]
  }
 ],
 "metadata": {
  "kernelspec": {
   "display_name": "Python 3",
   "language": "python",
   "name": "python3"
  },
  "language_info": {
   "codemirror_mode": {
    "name": "ipython",
    "version": 3
   },
   "file_extension": ".py",
   "mimetype": "text/x-python",
   "name": "python",
   "nbconvert_exporter": "python",
   "pygments_lexer": "ipython3",
   "version": "3.5.1"
  }
 },
 "nbformat": 4,
 "nbformat_minor": 0
}
