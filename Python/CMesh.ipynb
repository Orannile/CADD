{
 "metadata": {
  "name": "",
  "signature": "sha256:919508ee47721f8560762ef77d4e056263573f7f42af1939ff223c97bfcbfb21"
 },
 "nbformat": 3,
 "nbformat_minor": 0,
 "worksheets": [
  {
   "cells": [
    {
     "cell_type": "code",
     "collapsed": false,
     "input": [
      "import numpy as np\n",
      "import matplotlib as mpl\n",
      "import matplotlib.pyplot as plt\n",
      "import cadd_io as cdio\n",
      "import cadd_io_struct_new3 as cdiosn3\n",
      "import mdutilities_io as mduio\n",
      "import mymath as Mmath\n",
      "import my_plot as myplot\n",
      "import cadddatadump as cddump\n",
      "import cadd_mesh2 as cdmesh\n",
      "import cadd\n",
      "import os\n",
      "import sys\n",
      "import cadd_plot as cdplot\n",
      "%matplotlib qt\n",
      "%load_ext autoreload\n",
      "%autoreload 2"
     ],
     "language": "python",
     "metadata": {},
     "outputs": [
      {
       "output_type": "stream",
       "stream": "stdout",
       "text": [
        "The autoreload extension is already loaded. To reload it, use:\n",
        "  %reload_ext autoreload\n"
       ]
      }
     ],
     "prompt_number": 119
    },
    {
     "cell_type": "heading",
     "level": 1,
     "metadata": {},
     "source": [
      "Preliminaries"
     ]
    },
    {
     "cell_type": "heading",
     "level": 2,
     "metadata": {},
     "source": [
      "Directories"
     ]
    },
    {
     "cell_type": "code",
     "collapsed": false,
     "input": [
      "maindir = 'C:/Users/Varun/Dropbox/Myself/CADD_Code/Tests/CMesh_1/'\n",
      "uidir = maindir + 'User Inputs/'\n",
      "fidir = maindir + 'Fortran Inputs/'\n",
      "dumpdir = maindir + 'Dump Files/'"
     ],
     "language": "python",
     "metadata": {},
     "outputs": [],
     "prompt_number": 120
    },
    {
     "cell_type": "heading",
     "level": 1,
     "metadata": {},
     "source": [
      "C Mesh"
     ]
    },
    {
     "cell_type": "heading",
     "level": 2,
     "metadata": {},
     "source": [
      "Create"
     ]
    },
    {
     "cell_type": "code",
     "collapsed": false,
     "input": [
      "# parameters:\n",
      "# xmin, xmax, ymin, ymax for middle\n",
      "# nx, ny for middle\n",
      "# nx, ny for legs\n",
      "def c_mesh(boundsmiddle,nmiddle,nlegs):\n",
      "    mesh = cdmesh.MeshRectangle(boundsmiddle,nmiddle)\n",
      "    xmin, xmax, ymin, ymax = boundsmiddle\n",
      "    nx, ny = nmiddle\n",
      "    nxlegs, nylegs = nlegs\n",
      "    xstep = (xmax-xmin)/(nx-1)\n",
      "    ystep = (ymax-ymin)/(ny-1)\n",
      "    startpointtop = np.array([xmin,ymax])\n",
      "    endpointtop = np.array([xmin,ymax-ystep*(nylegs-1)])\n",
      "    startpointbot = np.array([xmin,ymin])\n",
      "    endpointbot = np.array([xmin,ymin+ystep*(nylegs-1)])\n",
      "    def add_leg_to_mesh(mesh,startpoint,endpoint):\n",
      "        ystart = startpoint[1]\n",
      "        yend = endpoint[1]\n",
      "        line = cdmesh.Line(startpoint,endpoint)\n",
      "        line.nodenums = mesh.nodes.search_for_nodes_along_line(line)\n",
      "        lines = [line]\n",
      "        for i in range(1,nxlegs):\n",
      "            xcoordnew = xmin - i*xstep\n",
      "            startpointnew = np.array([xcoordnew,ystart])\n",
      "            endpointnew = np.array([xcoordnew,yend])\n",
      "            line = cdmesh.Line(startpointnew,endpointnew)\n",
      "            line.nodenums = mesh.nodes.gen_fe_nodes_along_line(line,nylegs)\n",
      "            lines.append(line)\n",
      "        for lineprev, linenext in cdmesh.pairwise(lines): # iterate over prev, current\n",
      "            elements = mesh.elements_std(lineprev.nodenums,linenext.nodenums)\n",
      "            mesh.add_elements_from_list(elements)\n",
      "    add_leg_to_mesh(mesh,startpointtop,endpointtop)\n",
      "    add_leg_to_mesh(mesh,startpointbot,endpointbot)\n",
      "    return mesh"
     ],
     "language": "python",
     "metadata": {},
     "outputs": [],
     "prompt_number": 121
    },
    {
     "cell_type": "code",
     "collapsed": false,
     "input": [
      "boundsmiddle = np.array([0,3,-4,4])\n",
      "nmiddle = [4,9]\n",
      "nlegs = [6,4]\n",
      "cmesh = c_mesh(boundsmiddle,nmiddle,nlegs)"
     ],
     "language": "python",
     "metadata": {},
     "outputs": [],
     "prompt_number": 122
    },
    {
     "cell_type": "heading",
     "level": 2,
     "metadata": {},
     "source": [
      "Visualize"
     ]
    },
    {
     "cell_type": "code",
     "collapsed": false,
     "input": [
      "cmesh.write_dump_all('cmesh.dump')\n",
      "cmeshsim = cdiosn3.Simulation('dd','cmesh_1',uidir,fidir,dumpdir,readinput=False)"
     ],
     "language": "python",
     "metadata": {},
     "outputs": [],
     "prompt_number": 123
    },
    {
     "cell_type": "code",
     "collapsed": false,
     "input": [
      "cmeshsim.plot_dump_from_file('cmesh.dump',tight=False);"
     ],
     "language": "python",
     "metadata": {},
     "outputs": [],
     "prompt_number": 124
    },
    {
     "cell_type": "heading",
     "level": 1,
     "metadata": {},
     "source": [
      "IO"
     ]
    },
    {
     "cell_type": "heading",
     "level": 2,
     "metadata": {},
     "source": [
      "Write Nodes, Elements"
     ]
    },
    {
     "cell_type": "code",
     "collapsed": false,
     "input": [
      "cmesh.write_user_inputs_all('feelementsmat1','nodes',uidir)"
     ],
     "language": "python",
     "metadata": {},
     "outputs": [],
     "prompt_number": 125
    },
    {
     "cell_type": "heading",
     "level": 2,
     "metadata": {},
     "source": [
      "Read User Inputs"
     ]
    },
    {
     "cell_type": "code",
     "collapsed": false,
     "input": [
      "cmeshsim.read_input_data()"
     ],
     "language": "python",
     "metadata": {},
     "outputs": [],
     "prompt_number": 126
    },
    {
     "cell_type": "heading",
     "level": 2,
     "metadata": {},
     "source": [
      "Write Fortran Inputs"
     ]
    },
    {
     "cell_type": "code",
     "collapsed": false,
     "input": [
      "cmeshsim.write_fortran_all()"
     ],
     "language": "python",
     "metadata": {},
     "outputs": [],
     "prompt_number": 127
    },
    {
     "cell_type": "heading",
     "level": 1,
     "metadata": {},
     "source": [
      "Dump Outputs"
     ]
    },
    {
     "cell_type": "code",
     "collapsed": false,
     "input": [
      "cmeshsim.plot_dump_from_increment(10,fignum=1,tight=False);"
     ],
     "language": "python",
     "metadata": {},
     "outputs": [],
     "prompt_number": 128
    },
    {
     "cell_type": "code",
     "collapsed": false,
     "input": [
      "cmeshsim.plot_dump_from_increment(11,fignum=2,tight=False);"
     ],
     "language": "python",
     "metadata": {},
     "outputs": [],
     "prompt_number": 129
    },
    {
     "cell_type": "code",
     "collapsed": false,
     "input": [
      "# Compare displacements\n",
      "b = cmeshsim.data.materials.structlist[0].burgers.val\n",
      "dispexpected = b/2*np.array([np.cos(np.pi/3),np.sin(np.pi/3)])\n",
      "print(dispexpected)"
     ],
     "language": "python",
     "metadata": {},
     "outputs": [
      {
       "output_type": "stream",
       "stream": "stdout",
       "text": [
        "[ 0.280615    0.48603944]\n"
       ]
      }
     ],
     "prompt_number": 131
    },
    {
     "cell_type": "code",
     "collapsed": false,
     "input": [],
     "language": "python",
     "metadata": {},
     "outputs": []
    }
   ],
   "metadata": {}
  }
 ]
}